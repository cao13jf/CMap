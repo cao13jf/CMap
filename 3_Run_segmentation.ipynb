{
 "cells": [
  {
   "cell_type": "markdown",
   "id": "258c6b5f",
   "metadata": {},
   "source": [
    "# Running Segmentation Notebook\n",
    "\n",
    "## We have finished the segmentation training and get the trained model model_epoch_50.pth . We are generating the segmented cell membrane and cell morphological objects."
   ]
  },
  {
   "cell_type": "markdown",
   "id": "189fc348",
   "metadata": {},
   "source": [
    "### Place your runing augments at ./experiment/TRAIN_TEST.yaml or change it at the Paramenters configuration section "
   ]
  },
  {
   "cell_type": "markdown",
   "id": "c3ceb2c2",
   "metadata": {},
   "source": [
    "```\n",
    "# =================================\n",
    "# Parameters for prediction (Paras for training will be preserved)\n",
    "# =================================\n",
    "get_memb_bin: True\n",
    "show_snap: False\n",
    "get_cell: True\n",
    "\n",
    "\n",
    "test_data_dir: ./dataset/run\n",
    "test_embryos: [200109plc1p1,200113plc1p2]\n",
    "test_max_times: [180,187]\n",
    "\n",
    "test_transforms: # for testing\n",
    "  Compose([\n",
    "    Resize((256,352,224)),\n",
    "    NumpyType((np.float32, np.float32)),\n",
    "    ])\n",
    "    \n",
    "```"
   ]
  },
  {
   "cell_type": "code",
   "execution_count": 1,
   "id": "09c385ef",
   "metadata": {},
   "outputs": [],
   "source": [
    "import os\n",
    "import time\n",
    "import logging\n",
    "import random\n",
    "import argparse\n",
    "import setproctitle\n",
    "import numpy as np\n",
    "\n",
    "import torch\n",
    "import torch.backends.cudnn as cudnn\n",
    "from torch.utils.data import DataLoader\n",
    "\n",
    "import models \n",
    "from utils import ParserUse\n",
    "from utils.show_train import Visualizer\n"
   ]
  },
  {
   "cell_type": "code",
   "execution_count": 2,
   "id": "e7f81c05",
   "metadata": {},
   "outputs": [],
   "source": [
    "cudnn.benchmark = True # https://zhuanlan.zhihu.com/p/73711222 to accelerate the network\n",
    "## parse arguments\n",
    "args = ParserUse('TRAIN_TEST', log='run')\n",
    "# CHANGE Your training parameters here\n",
    "args.mode=2\n",
    "args.gpu='0'\n",
    "args.ckpts='./ckpts'\n",
    "args.suffix='*.pkl'\n",
    "args.save_format='nii'\n",
    "args.resume=r'./ckpts/CMap_model_epoch_50.pth'\n",
    "is_scoring = False\n",
    "\n",
    "visualizer = None\n",
    "if args.show_snap:\n",
    "    visualizer = Visualizer(1)"
   ]
  },
  {
   "cell_type": "markdown",
   "id": "c46d1745",
   "metadata": {},
   "source": [
    "## Start run the prediction on your computer with gpu"
   ]
  },
  {
   "cell_type": "code",
   "execution_count": 3,
   "id": "ca09b11b",
   "metadata": {},
   "outputs": [],
   "source": [
    "# setproctitle.setproctitle(args.cfg)\n",
    "os.environ[\"CUDA_VISIBLE_DEVICES\"] = args.gpu\n",
    "assert torch.cuda.is_available(), \"GPU is needed for prediction\"\n",
    "\n",
    "# =============================================================\n",
    "#  set seeds for randomlization in TRAIN_TEST.yaml\n",
    "# =============================================================\n",
    "torch.manual_seed(args.seed)\n",
    "torch.cuda.manual_seed(args.seed)\n",
    "random.seed(args.seed)\n",
    "np.random.seed(args.seed)"
   ]
  },
  {
   "cell_type": "code",
   "execution_count": null,
   "id": "f7402384",
   "metadata": {},
   "outputs": [
    {
     "name": "stderr",
     "output_type": "stream",
     "text": [
      "2023-07-18 15:27:53,621 Note: NumExpr detected 48 cores but \"NUMEXPR_MAX_THREADS\" not set, so enforcing safe limit of 8.\n",
      "2023-07-18 15:27:53,622 NumExpr defaulting to 8 threads.\n"
     ]
    },
    {
     "name": "stdout",
     "output_type": "stream",
     "text": [
      "====================Loading parameters ./ckpts/CMap_model_epoch_50.pth====================\n"
     ]
    },
    {
     "name": "stderr",
     "output_type": "stream",
     "text": [
      "Getting binary membrane::  75%|████████████████████████        | 276/367 [31:07<15:03,  9.93s/it]"
     ]
    }
   ],
   "source": [
    "import shutil\n",
    "\n",
    "\n",
    "from data import datasets\n",
    "from utils.prediction_utils import validate, membrane2cell, combine_cells\n",
    "\n",
    "# start to predict the unconstant eggshell (prediciton, binary segmentation)\n",
    "if args.get_memb_bin:\n",
    "    # get membrane binary shell\n",
    "    # nii.gz to pickle, make it easier to read in neural network\n",
    "    # doit(test_folder, embryo_names=args.test_embryos, max_times=args.max_times)\n",
    "    # =============================================================\n",
    "    #  construct network model\n",
    "    # =============================================================\n",
    "    Network = getattr(models, args.net)\n",
    "    model = Network(**args.net_params)\n",
    "    model = torch.nn.DataParallel(model).cuda()\n",
    "    print(\"=\"*20 + \"Loading parameters {}\".format(args.resume) + \"=\"*20)\n",
    "    assert os.path.isfile(args.resume), \"{} \".format(args.resume) + \"doesn't exist\"\n",
    "    check_point = torch.load(args.resume)\n",
    "    args.start_iter = check_point[\"iter\"]\n",
    "    model.load_state_dict(check_point[\"state_dict\"])\n",
    "\n",
    "    msg = (\"Loaded checkpoint '{}' (iter {})\".format(args.resume, check_point[\"iter\"]))\n",
    "    msg = msg + \"\\n\" + str(args)\n",
    "    \n",
    "#     logging.info(msg)\n",
    "    \n",
    "    root_path=args.running_data_dir\n",
    "    \n",
    "    if args.get_memb_bin or args.get_cell:\n",
    "        if args.running_embryos is None:\n",
    "            args.running_embryos = [name for name in os.listdir(root_path) if os.path.isdir(os.path.join(root_path, name))]\n",
    "    Dataset = getattr(datasets, args.dataset)\n",
    "    test_set = Dataset(root=root_path, membrane_names=args.running_embryos, for_train=False, transforms=args.test_transforms,\n",
    "                       return_target=is_scoring, suffix=args.suffix, max_times=args.run_max_times)\n",
    "    test_loader = DataLoader(\n",
    "        dataset=test_set,\n",
    "        batch_size=1,\n",
    "        shuffle=False,\n",
    "        # collate_fn=test_set.collate, # control how data is stacked\n",
    "        num_workers=10,\n",
    "        pin_memory=True\n",
    "    )\n",
    "\n",
    "    #=============================================================\n",
    "    #  begin prediction\n",
    "    #=============================================================\n",
    "    output_saving_path=r'./dataset/run'\n",
    "\n",
    "    # the edt cell membrane file will save in the {savepath}/{embryo_name}/segMemb folder\n",
    "    with torch.no_grad():\n",
    "        validate(\n",
    "            valid_loader=test_loader,  # dataset loader\n",
    "            model=model,  # model\n",
    "            savepath=output_saving_path,  # output folder\n",
    "            names=test_set.names,  # stack name lists\n",
    "            scoring=False,  # whether keep accuracy\n",
    "            save_format=\".nii.gz\",  # save volume format\n",
    "            snapsot=visualizer,  # whether keep snap\n",
    "            postprocess=False,\n",
    "            size=test_set.size\n",
    "        )\n"
   ]
  },
  {
   "cell_type": "markdown",
   "id": "4f072893",
   "metadata": {},
   "source": [
    "## From now on, you get the euclidean distance transformed cell membrane segmentation saved at ./dataset/run/{embryo_name}/SegMemb, which could be opened with ITK-SNAP."
   ]
  },
  {
   "cell_type": "markdown",
   "id": "49b5826c",
   "metadata": {},
   "source": [
    "## Next, let's work on the cell object segmentation"
   ]
  },
  {
   "cell_type": "code",
   "execution_count": null,
   "id": "4736bc05",
   "metadata": {},
   "outputs": [],
   "source": [
    "#  Post process on binary segmentation. Group them into closed 3D cells\n",
    "if args.get_cell:\n",
    "    # read the binary segmentation in segMemb folder and process them\n",
    "    membrane2cell(args)\n",
    "    #  Combine labels by detecting the dividing cells via the cell membrane segmentation\n",
    "    print(\"Begin combine division based on TP...\\n\")\n",
    "    combine_cells(args)"
   ]
  }
 ],
 "metadata": {
  "kernelspec": {
   "display_name": "cmap",
   "language": "python",
   "name": "cmap"
  },
  "language_info": {
   "codemirror_mode": {
    "name": "ipython",
    "version": 3
   },
   "file_extension": ".py",
   "mimetype": "text/x-python",
   "name": "python",
   "nbconvert_exporter": "python",
   "pygments_lexer": "ipython3",
   "version": "3.9.17"
  }
 },
 "nbformat": 4,
 "nbformat_minor": 5
}
