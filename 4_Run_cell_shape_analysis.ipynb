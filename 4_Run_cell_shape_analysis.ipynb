{
 "cells": [
  {
   "cell_type": "markdown",
   "id": "481dced3",
   "metadata": {},
   "source": [
    "# Running the morphologically cell shape analysis notebook"
   ]
  },
  {
   "cell_type": "markdown",
   "id": "52166110",
   "metadata": {},
   "source": [
    "## After we get every cell object as well as the dividing cells, we should start to calculate the cell volume, cell surface and cell-cell contact surface for the further physical-biologcial statistical analysis.\n",
    "\n",
    "## ONLY FOR COMPLETE LINEAGE (FROM TIME POINT 1)"
   ]
  },
  {
   "cell_type": "markdown",
   "id": "ccce113a",
   "metadata": {},
   "source": [
    "### morphological calculating configuration"
   ]
  },
  {
   "cell_type": "code",
   "execution_count": 1,
   "id": "7e9120d7",
   "metadata": {},
   "outputs": [
    {
     "name": "stdout",
     "output_type": "stream",
     "text": [
      "Jupyter environment detected. Enabling Open3D WebVisualizer.\n",
      "[Open3D INFO] WebRTC GUI backend enabled.\n",
      "[Open3D INFO] WebRTCWindowSystem: HTTP handshake server disabled.\n"
     ]
    }
   ],
   "source": [
    "import os\n",
    "import pickle\n",
    "from copy import deepcopy\n",
    "import nibabel as nib\n",
    "import numpy as np\n",
    "import pandas as pd\n",
    "import open3d as o3d\n",
    "import multiprocessing as mp\n",
    "import matplotlib.pyplot as plt\n",
    "from scipy import ndimage\n",
    "from tqdm import tqdm\n",
    "\n",
    "from utils.cell_func import get_cell_name_affine_table\n",
    "from utils.general_func import load_nitf2_img\n",
    "from utils.shape_model import generate_alpha_shape"
   ]
  },
  {
   "cell_type": "code",
   "execution_count": 2,
   "id": "357a6545",
   "metadata": {},
   "outputs": [],
   "source": [
    "stat_data_path=r'./middle_output'\n",
    "\n",
    "def calculate_cell_surface_and_contact_points(config_arg, is_debug=False):\n",
    "    embryo_name = config_arg['embryo_name']\n",
    "    is_calculate_cell_mesh = config_arg.get('is_calculate_cell_mesh',None)\n",
    "    is_calculate_contact_file = config_arg.get('is_calculate_contact_file',None)\n",
    "    showCellMesh = config_arg['showCellMesh']\n",
    "    showCellContact = config_arg.get('showCellContact',None)\n",
    "    time_point = config_arg['time_point']\n",
    "    path_embryo = config_arg.get('path_embryo', None)\n",
    "\n",
    "    if path_embryo is None:\n",
    "        raise Exception(\"Sorry, no path_embryo given!\")\n",
    "\n",
    "    # ------------------------calculate surface points using dialation for each cell --------------------\n",
    "    frame_this_embryo = str(time_point).zfill(3)\n",
    "    file_name = embryo_name + '_' + frame_this_embryo + '_segCell.nii.gz'\n",
    "\n",
    "    # ------------if contact file exists, finish this embryo---------------\n",
    "    # contact_saving_path = os.path.join(my_config.data_cell_mesh_and_contact, 'stat', embryo_name,\n",
    "    #                                    embryo_name+'_'+file_name.split('.')[0] + '_contact.txt')\n",
    "    # # ===============very important line===================\n",
    "    # if os.path.exists(contact_saving_path):\n",
    "    #     print(contact_saving_path,' existed')\n",
    "    #     return 0\n",
    "    # # =====================================================\n",
    "\n",
    "    volume = nib.load(os.path.join(path_embryo, file_name)).get_fdata().astype(int).transpose([2, 1, 0])\n",
    "    if is_debug:\n",
    "        print(np.unique(volume, return_counts=True))\n",
    "    # this_img = load_nitf2_img()\n",
    "\n",
    "    # volume = this_img.get_fdata().astype(int)\n",
    "    # -----!!!!!!!!get cell edge boundary!!!!--------------\n",
    "    cell_mask = volume != 0\n",
    "    boundary_mask = (cell_mask == 0) & ndimage.binary_dilation(cell_mask)\n",
    "    [x_bound, y_bound, z_bound] = np.nonzero(boundary_mask)\n",
    "    boundary_elements = []\n",
    "\n",
    "    # find boundar/points between cells\n",
    "    for (x, y, z) in zip(x_bound, y_bound, z_bound):\n",
    "        neighbors = volume[np.ix_(range(x - 1, x + 2), range(y - 1, y + 2), range(z - 1, z + 2))]\n",
    "        neighbor_labels = list(np.unique(neighbors))\n",
    "        neighbor_labels.remove(0)\n",
    "        if len(neighbor_labels) == 2:  # contact between two cells\n",
    "            boundary_elements.append(neighbor_labels)\n",
    "    # cell contact pairs\n",
    "    cell_contact_pairs = list(np.unique(np.array(boundary_elements), axis=0))\n",
    "    cell_conatact_pair_renew = []\n",
    "    contact_points_dict = {}\n",
    "    contact_area_dict = {}\n",
    "\n",
    "    for (label1, label2) in cell_contact_pairs:\n",
    "        contact_mask = np.logical_and(ndimage.binary_dilation(volume == label1),\n",
    "                                      ndimage.binary_dilation(volume == label2))\n",
    "        contact_mask = np.logical_and(contact_mask, boundary_mask)\n",
    "        if contact_mask.sum() > 2:\n",
    "\n",
    "            cell_conatact_pair_renew.append((label1, label2))\n",
    "            str_key = str(label1) + '_' + str(label2)\n",
    "            contact_area_dict[str_key] = 0\n",
    "\n",
    "            point_position_x, point_position_y, point_position_z = np.where(contact_mask == True)\n",
    "\n",
    "            contact_points_list = []\n",
    "            for i in range(len(point_position_x)):\n",
    "                contact_points_list.append([point_position_x[i], point_position_y[i], point_position_z[i]])\n",
    "            # print(str_key)\n",
    "            contact_points_dict[str_key] = contact_points_list\n",
    "            if is_debug:\n",
    "                print('contact', str_key, len(contact_points_list))\n",
    "\n",
    "    if is_debug:\n",
    "        print('volume info', np.unique(volume, return_counts=True))\n",
    "    cell_list = np.unique(volume)\n",
    "    contact_mesh_dict = {}\n",
    "    showing_record = []\n",
    "\n",
    "    volume_dict = {}\n",
    "    surface_dict = {}\n",
    "    contact_dict = {}\n",
    "\n",
    "    if is_debug:\n",
    "        print('configuration', config_arg)\n",
    "        print('cell list ', cell_list)\n",
    "\n",
    "    # if not is_calculate_contact_file:\n",
    "    #     print('loading ', contact_saving_path)\n",
    "    #     with open(contact_saving_path,'rb') as handle:\n",
    "    #         contact_mesh_dict = pickle.load(handle)\n",
    "\n",
    "    # print(cell_list)\n",
    "    weight_surface = 1.2031\n",
    "    count_ratio_tmp = []\n",
    "    for cell_key in cell_list:\n",
    "        if cell_key != 0:\n",
    "            cell_mask = np.logical_xor(ndimage.binary_dilation(volume == cell_key), (volume == cell_key))\n",
    "            # if is_debug:\n",
    "            #     print('-------',cell_key,'---------')\n",
    "            #     print('surface num',(cell_mask==1).sum())\n",
    "            #     print('inside sum',(volume == cell_key).sum())\n",
    "            if (cell_mask == 1).sum() > 15000:\n",
    "                volume_dict[cell_key] = (volume == cell_key).sum()\n",
    "                surface_dict[cell_key] = cell_mask.sum() * weight_surface  # 1.2031... is derived by other papers\n",
    "                irregularity = surface_dict[cell_key] ** (1 / 2) / volume_dict[cell_key] ** (1 / 3)\n",
    "                if is_debug:\n",
    "                    print('irregularity   ', irregularity)\n",
    "                if irregularity < 2.199085:\n",
    "                    print('impossible small surface', time_point, cell_key)\n",
    "                for (cell1, cell2) in cell_conatact_pair_renew:\n",
    "                    idx = str(cell1) + '_' + str(cell2)\n",
    "                    # idx_test=\n",
    "                    if cell_key not in (cell1, cell2) or idx in contact_dict.keys():\n",
    "                        continue\n",
    "                    # --------------------contact-----------------------------------------\n",
    "                    contact_dict[idx] = len(contact_points_dict[idx]) * weight_surface\n",
    "            else:\n",
    "                if is_debug:\n",
    "                    print(cell_key, 'surface point num', (cell_mask == 1).sum(), ' inside point num(dia)',\n",
    "                          (ndimage.binary_dilation(volume == cell_key) == 1).sum())\n",
    "                # ------------saving cell mesh---------------------\n",
    "\n",
    "                tuple_tmp = np.where(ndimage.binary_dilation(volume == cell_key) == 1)\n",
    "                # print(len(tuple_tmp))\n",
    "                sphere_list = np.concatenate(\n",
    "                    (tuple_tmp[0][:, None], tuple_tmp[1][:, None], tuple_tmp[2][:, None]), axis=1)\n",
    "                adjusted_rate = 0.01\n",
    "                sphere_list_adjusted = sphere_list.astype(float) + np.random.uniform(0, adjusted_rate,\n",
    "                                                                                     (len(tuple_tmp[0]), 3))\n",
    "                m_mesh = generate_alpha_shape(sphere_list_adjusted, displaying=showCellMesh)\n",
    "\n",
    "                alpha_v = 1\n",
    "\n",
    "                if not m_mesh.is_watertight():\n",
    "                    for i in range(10):\n",
    "                        alpha_v = alpha_v + i * 0.1\n",
    "                        sphere_list_adjusted = sphere_list.astype(float) + np.random.uniform(0, adjusted_rate * (i + 1),\n",
    "                                                                                             (len(tuple_tmp[0]), 3))\n",
    "                        m_mesh = generate_alpha_shape(sphere_list_adjusted, alpha_value=alpha_v,\n",
    "                                                      displaying=showCellMesh)\n",
    "                        if is_debug:\n",
    "                            print('watertight', m_mesh.is_watertight())\n",
    "                            print(f\"alpha={alpha_v:.3f}\")\n",
    "                            print('edge manifold boundary', m_mesh.is_edge_manifold(allow_boundary_edges=False))\n",
    "\n",
    "                        if m_mesh.is_watertight():\n",
    "                            break\n",
    "                if is_debug:\n",
    "                    print(cell_key, '=======mesh info=========', m_mesh)\n",
    "                    print('edge manifold', m_mesh.is_edge_manifold(allow_boundary_edges=True))\n",
    "                    print('edge manifold boundary', m_mesh.is_edge_manifold(allow_boundary_edges=False))\n",
    "                    print('vertex manifold', m_mesh.is_vertex_manifold())\n",
    "                    print('watertight', m_mesh.is_watertight())\n",
    "                    print(f\"alpha={alpha_v:.3f}\")\n",
    "                    print('volume====>', m_mesh.get_volume(), 'using  ', (volume == cell_key).sum())\n",
    "                    print('surface area=======>', m_mesh.get_surface_area(), 'weighted ',\n",
    "                          cell_mask.sum() * weight_surface)\n",
    "                    # o3d.visualization.draw_geometries([m_mesh], mesh_show_back_face=True, mesh_show_wireframe=True,\n",
    "                    #                                   window_name=str(cell_key))\n",
    "                # -----------------can not get watertight cell anyway-----------------------------------\n",
    "                if not m_mesh.is_watertight():\n",
    "                    print('no watertight mesh even after 10 times generation!!!', file_name, cell_key, 'use point sum')\n",
    "                    volume_dict[cell_key] = (volume == cell_key).sum()\n",
    "                    surface_dict[cell_key] = cell_mask.sum() * weight_surface  # 1.154... is derived by 2/sqrt(3)\n",
    "                    irregularity = (surface_dict[cell_key] ** (1 / 2) / volume_dict[cell_key] ** (1 / 3))\n",
    "                    if is_debug:\n",
    "                        print(irregularity)\n",
    "                    if irregularity < 2.199085:\n",
    "                        print('impossible small surface!!!!!!!!!!!', time_point, cell_key)\n",
    "                    for (cell1, cell2) in cell_conatact_pair_renew:\n",
    "                        idx = str(cell1) + '_' + str(cell2)\n",
    "                        # idx_test=\n",
    "                        if cell_key not in (cell1, cell2) or idx in contact_dict.keys():\n",
    "                            continue\n",
    "                        # --------------------contact-----------------------------------------\n",
    "                        contact_dict[idx] = len(contact_points_dict[idx]) * weight_surface\n",
    "                    continue\n",
    "                else:  # watertight mesh\n",
    "                    m_mesh = o3d.geometry.TriangleMesh(\n",
    "                        o3d.utility.Vector3dVector(np.asarray(m_mesh.vertices).astype(int)), m_mesh.triangles)\n",
    "                    volume_dict[cell_key] = (volume == cell_key).sum()\n",
    "                    surface_dict[cell_key] = m_mesh.get_surface_area()\n",
    "\n",
    "                    if (surface_dict[cell_key] ** (1 / 2) / volume_dict[cell_key] ** (1 / 3)) < 2.199085:\n",
    "                        print('impossible small surface', time_point, cell_key)\n",
    "\n",
    "                    # if is_debug:\n",
    "                    #     o3d.visualization.draw_geometries([m_mesh], mesh_show_back_face=True,mesh_show_wireframe=True)\n",
    "                    #     print()\n",
    "                    # ============contact surface detection========================\n",
    "                    # cell_vertices = np.asarray(m_mesh.vertices).astype(int)\n",
    "                    cell_vertices = np.asarray(m_mesh.vertices)\n",
    "                    # ====================contact file ============================\n",
    "\n",
    "                    for (cell1, cell2) in cell_conatact_pair_renew:\n",
    "                        idx = str(cell1) + '_' + str(cell2)\n",
    "                        # idx_test=\n",
    "                        if cell_key not in (cell1, cell2) or idx in contact_dict.keys():\n",
    "                            continue\n",
    "                        # --------------------contact-----------------------------------------\n",
    "                        # print('calculating, saving or showing',path_tmp, file_name, idx, ' contact surface')\n",
    "\n",
    "                        # build a mask to erase not contact points\n",
    "                        # enumerate each points in contact surface\n",
    "                        contact_mask_not = [True for i in range(len(cell_vertices))]\n",
    "                        contact_vertices_loc_list = []\n",
    "                        for [x, y, z] in contact_points_dict[idx]:\n",
    "                            # print(x,y,z)\n",
    "                            contact_vertices_loc = np.where(np.prod(cell_vertices == [x, y, z], axis=-1))\n",
    "                            if len(contact_vertices_loc[0]) != 0:\n",
    "                                contact_vertices_loc_list.append(contact_vertices_loc[0][0])\n",
    "                                contact_mask_not[contact_vertices_loc[0][0]] = False\n",
    "                        contact_mesh_dict[idx] = contact_vertices_loc_list\n",
    "                        contact_mesh = deepcopy(m_mesh)\n",
    "                        contact_mesh.remove_vertices_by_mask(contact_mask_not)\n",
    "                        # eodo: finished: 1. check 179 embryo,2. contact sum compare with cell surface area\n",
    "                        alpha_surface_area = contact_mesh.get_surface_area()\n",
    "                        points_surface_area = len(contact_points_dict[idx]) * weight_surface\n",
    "                        contact_dict[\n",
    "                            idx] = alpha_surface_area if alpha_surface_area > points_surface_area else points_surface_area\n",
    "\n",
    "                        if is_debug:\n",
    "                            # contact_mesh = deepcopy(m_mesh)\n",
    "                            # contact_mesh.remove_vertices_by_mask(contact_mask_not)\n",
    "                            print(idx, '=======mesh info=========', contact_mesh)\n",
    "                            print('edge manifold', contact_mesh.is_edge_manifold(allow_boundary_edges=True))\n",
    "                            print('edge manifold boundary', contact_mesh.is_edge_manifold(allow_boundary_edges=False))\n",
    "                            print('vertex manifold', contact_mesh.is_vertex_manifold())\n",
    "                            # print('watertight', m_mesh.is_watertight())\n",
    "                            print('contact surface area=======>', contact_mesh.get_surface_area(), 'while points num',\n",
    "                                  points_surface_area)\n",
    "                            # o3d.visualization.draw_geometries([contact_mesh], mesh_show_back_face=True,\n",
    "                            #                                   mesh_show_wireframe=True)\n",
    "                # -----------------CHECK IF THE SUM OF CONTACT SURFACE AREA-------------------------\n",
    "\n",
    "                if is_debug:\n",
    "                    this_cell_surface = surface_dict[cell_key]\n",
    "                    contact_list_tmp = []\n",
    "\n",
    "                    for (cell1, cell2) in cell_conatact_pair_renew:\n",
    "                        idx_tmp = str(cell1) + '_' + str(cell2)\n",
    "                        # idx_test=\n",
    "                        if cell_key not in (cell1, cell2):\n",
    "                            continue\n",
    "                        contact_list_tmp.append(contact_dict[idx_tmp])\n",
    "                    print('contact sum', sum(contact_list_tmp), '  surface area ', this_cell_surface)\n",
    "                    ratio_this_cell = sum(contact_list_tmp) / this_cell_surface\n",
    "                    if ratio_this_cell > 1:\n",
    "                        count_ratio_tmp.append(ratio_this_cell)\n",
    "                        # print('impossible things!!!!')\n",
    "\n",
    "    if is_debug:\n",
    "        abnormal_contact_cell_ratio = len(count_ratio_tmp) / (len(cell_list) - 1)\n",
    "        print('volume dict ', volume_dict)\n",
    "        print('surface dict', surface_dict)\n",
    "        print('contact dict', contact_dict)\n",
    "        print('-------------abnormal contact cell ratio!!!!====>  ', abnormal_contact_cell_ratio)\n",
    "    # ------------saving volume surface and contact file for an embryo------------\n",
    "    else:\n",
    "        path_tmp = os.path.join(stat_data_path, embryo_name)\n",
    "        if not os.path.exists(path_tmp):\n",
    "            os.mkdir(path_tmp)\n",
    "        with open(os.path.join(path_tmp, file_name.split('.')[0] + '_volume.txt'), 'wb+') as handle:\n",
    "            pickle.dump(volume_dict, handle, protocol=4)\n",
    "        with open(os.path.join(path_tmp, file_name.split('.')[0] + '_surface.txt'), 'wb+') as handle:\n",
    "            pickle.dump(surface_dict, handle, protocol=4)\n",
    "        with open(os.path.join(path_tmp, file_name.split('.')[0] + '_contact.txt'), 'wb+') as handle:\n",
    "            pickle.dump(contact_dict, handle, protocol=4)\n",
    "\n",
    "    # -------------------------------------------------------------------------------------------------------\n"
   ]
  },
  {
   "cell_type": "markdown",
   "id": "f5799c79",
   "metadata": {},
   "source": [
    "### Start go run with 12 processes to calculate the cell volume, cell suface and cell-cell contact area"
   ]
  },
  {
   "cell_type": "code",
   "execution_count": 3,
   "id": "baf9bff0",
   "metadata": {},
   "outputs": [
    {
     "name": "stderr",
     "output_type": "stream",
     "text": [
      "Compose configs: 100%|█████████████████████████████████████| 180/180 [00:00<00:00, 382459.33it/s]\n",
      "calculating 200109plc1p1 segmentations (contact, surface, volume): 100%|█| 180/180 [48:07:47<00:0\n",
      "Compose configs: 100%|█████████████████████████████████████| 187/187 [00:00<00:00, 971914.31it/s]\n",
      "calculating 200113plc1p2 segmentations (contact, surface, volume): 100%|█| 187/187 [46:52:31<00:0\n"
     ]
    }
   ],
   "source": [
    "max_times = [180, 187]\n",
    "embryo_names = ['200109plc1p1', '200113plc1p2']\n",
    "\n",
    "\n",
    "for idx, embryo_name in enumerate(embryo_names):\n",
    "    configs = []\n",
    "    config_tmp = {}\n",
    "    config_tmp[\"embryo_name\"] = embryo_name\n",
    "    config_tmp['is_calculate_cell_mesh'] = True\n",
    "    config_tmp['is_calculate_contact_file'] = True\n",
    "    config_tmp['showCellMesh'] = False\n",
    "    config_tmp['showCellContact'] = False\n",
    "    config_tmp['path_embryo'] =os.path.join(r'./dataset/run', embryo_name, 'SegCellDividingCells')\n",
    "    for tp in tqdm(range(1, max_times[idx] + 1), desc=\"Compose configs\"):\n",
    "        config_tmp['time_point'] = tp\n",
    "        configs.append(config_tmp.copy())\n",
    "    mpPool = mp.Pool(30)\n",
    "#     mpPool = mp.Pool(12)\n",
    "\n",
    "    for idx_, _ in enumerate(\n",
    "            tqdm(mpPool.imap_unordered(calculate_cell_surface_and_contact_points, configs), total=max_times[idx],\n",
    "                 desc=\"calculating {} segmentations (contact, surface, volume)\".format(embryo_name))):\n",
    "        #\n",
    "        pass"
   ]
  },
  {
   "cell_type": "markdown",
   "id": "21996d59",
   "metadata": {},
   "source": [
    "## After a long time generating morphological features, we need to generate them as well as the cell position according to the x y z resolutions, raw image sizes and CD file location."
   ]
  },
  {
   "cell_type": "code",
   "execution_count": 12,
   "id": "a4a7d236",
   "metadata": {},
   "outputs": [
    {
     "name": "stdout",
     "output_type": "stream",
     "text": [
      "constructing cell tree for  200109plc1p1\n"
     ]
    },
    {
     "name": "stderr",
     "output_type": "stream",
     "text": [
      "generating 200109plc1p1 nucloc file:   2%|▌                      | 4/180 [00:00<00:10, 16.73it/s]"
     ]
    },
    {
     "name": "stdout",
     "output_type": "stream",
     "text": [
      "dividing  200109plc1p1 2 ABa ABal ABar\n",
      "dividing  200109plc1p1 2 ABp ABpl ABpr\n",
      "dividing  200109plc1p1 3 ABa ABal ABar\n",
      "dividing  200109plc1p1 3 ABp ABpl ABpr\n",
      "dividing  200109plc1p1 4 ABp ABpl ABpr\n",
      "dividing  200109plc1p1 5 EMS E MS\n"
     ]
    },
    {
     "name": "stderr",
     "output_type": "stream",
     "text": [
      "generating 200109plc1p1 nucloc file:   4%|█                      | 8/180 [00:00<00:09, 17.66it/s]"
     ]
    },
    {
     "name": "stdout",
     "output_type": "stream",
     "text": [
      "dividing  200109plc1p1 6 EMS E MS\n",
      "dividing  200109plc1p1 8 P2 P3 C\n",
      "dividing  200109plc1p1 9 P2 P3 C\n"
     ]
    },
    {
     "name": "stderr",
     "output_type": "stream",
     "text": [
      "generating 200109plc1p1 nucloc file:   7%|█▍                    | 12/180 [00:00<00:09, 17.64it/s]"
     ]
    },
    {
     "name": "stdout",
     "output_type": "stream",
     "text": [
      "dividing  200109plc1p1 10 P2 P3 C\n",
      "dividing  200109plc1p1 13 ABal ABala ABalp\n",
      "dividing  200109plc1p1 13 ABar ABara ABarp\n",
      "dividing  200109plc1p1 13 ABpl ABpla ABplp\n",
      "dividing  200109plc1p1 13 ABpr ABpra ABprp\n"
     ]
    },
    {
     "name": "stderr",
     "output_type": "stream",
     "text": [
      "generating 200109plc1p1 nucloc file:   9%|█▉                    | 16/180 [00:00<00:10, 15.80it/s]"
     ]
    },
    {
     "name": "stdout",
     "output_type": "stream",
     "text": [
      "dividing  200109plc1p1 14 ABal ABala ABalp\n",
      "dividing  200109plc1p1 14 ABar ABara ABarp\n",
      "dividing  200109plc1p1 14 ABpl ABpla ABplp\n",
      "dividing  200109plc1p1 14 ABpr ABpra ABprp\n",
      "dividing  200109plc1p1 15 ABar ABara ABarp\n"
     ]
    },
    {
     "name": "stderr",
     "output_type": "stream",
     "text": [
      "\r",
      "generating 200109plc1p1 nucloc file:  10%|██▏                   | 18/180 [00:01<00:10, 15.42it/s]"
     ]
    },
    {
     "name": "stdout",
     "output_type": "stream",
     "text": [
      "dividing  200109plc1p1 17 MS MSa MSp\n",
      "dividing  200109plc1p1 18 MS MSa MSp\n",
      "dividing  200109plc1p1 19 MS MSa MSp\n",
      "dividing  200109plc1p1 20 MS MSa MSp\n"
     ]
    },
    {
     "name": "stderr",
     "output_type": "stream",
     "text": [
      "generating 200109plc1p1 nucloc file:  12%|██▋                   | 22/180 [00:01<00:10, 14.72it/s]"
     ]
    },
    {
     "name": "stdout",
     "output_type": "stream",
     "text": [
      "dividing  200109plc1p1 21 C Ca Cp\n",
      "dividing  200109plc1p1 22 C Ca Cp\n"
     ]
    },
    {
     "name": "stderr",
     "output_type": "stream",
     "text": [
      "generating 200109plc1p1 nucloc file:  14%|███▏                  | 26/180 [00:01<00:12, 12.50it/s]"
     ]
    },
    {
     "name": "stdout",
     "output_type": "stream",
     "text": [
      "dividing  200109plc1p1 25 ABala ABalaa ABalap\n",
      "dividing  200109plc1p1 25 ABalp ABalpa ABalpp\n",
      "dividing  200109plc1p1 25 ABara ABaraa ABarap\n",
      "dividing  200109plc1p1 25 ABarp ABarpa ABarpp\n",
      "dividing  200109plc1p1 25 ABpla ABplaa ABplap\n",
      "dividing  200109plc1p1 25 ABplp ABplpa ABplpp\n",
      "dividing  200109plc1p1 25 ABpra ABpraa ABprap\n",
      "dividing  200109plc1p1 25 P3 P4 D\n",
      "dividing  200109plc1p1 26 ABala ABalaa ABalap\n",
      "dividing  200109plc1p1 26 ABalp ABalpa ABalpp\n",
      "dividing  200109plc1p1 26 ABara ABaraa ABarap\n",
      "dividing  200109plc1p1 26 ABarp ABarpa ABarpp\n",
      "dividing  200109plc1p1 26 ABplp ABplpa ABplpp\n",
      "dividing  200109plc1p1 26 ABprp ABprpa ABprpp\n",
      "dividing  200109plc1p1 27 ABala ABalaa ABalap\n"
     ]
    },
    {
     "name": "stderr",
     "output_type": "stream",
     "text": [
      "generating 200109plc1p1 nucloc file:  18%|███▉                  | 32/180 [00:02<00:12, 11.59it/s]"
     ]
    },
    {
     "name": "stdout",
     "output_type": "stream",
     "text": [
      "dividing  200109plc1p1 32 MSa MSaa MSap\n",
      "dividing  200109plc1p1 32 MSp MSpa MSpp\n",
      "dividing  200109plc1p1 33 MSa MSaa MSap\n",
      "dividing  200109plc1p1 33 MSp MSpa MSpp\n",
      "dividing  200109plc1p1 34 MSa MSaa MSap\n"
     ]
    },
    {
     "name": "stderr",
     "output_type": "stream",
     "text": [
      "generating 200109plc1p1 nucloc file:  21%|████▋                 | 38/180 [00:02<00:12, 11.00it/s]"
     ]
    },
    {
     "name": "stdout",
     "output_type": "stream",
     "text": [
      "dividing  200109plc1p1 37 Ca Caa Cap\n",
      "dividing  200109plc1p1 38 Ca Caa Cap\n",
      "dividing  200109plc1p1 38 Cp Cpa Cpp\n",
      "dividing  200109plc1p1 39 Ca Caa Cap\n"
     ]
    },
    {
     "name": "stderr",
     "output_type": "stream",
     "text": [
      "generating 200109plc1p1 nucloc file:  23%|█████▏                | 42/180 [00:03<00:12, 10.84it/s]"
     ]
    },
    {
     "name": "stdout",
     "output_type": "stream",
     "text": [
      "dividing  200109plc1p1 42 ABplaa ABplaaa ABplaap\n",
      "dividing  200109plc1p1 42 ABplap ABplapa ABplapp\n",
      "dividing  200109plc1p1 42 ABpraa ABpraaa ABpraap\n",
      "dividing  200109plc1p1 42 ABprap ABprapa ABprapp\n",
      "dividing  200109plc1p1 43 ABalaa ABalaaa ABalaap\n",
      "dividing  200109plc1p1 43 ABalap ABalapa ABalapp\n",
      "dividing  200109plc1p1 43 ABalpa ABalpaa ABalpap\n",
      "dividing  200109plc1p1 43 ABalpp ABalppa ABalppp\n",
      "dividing  200109plc1p1 43 ABaraa ABaraaa ABaraap\n",
      "dividing  200109plc1p1 43 ABarap ABarapa ABarapp\n",
      "dividing  200109plc1p1 43 ABplaa ABplaaa ABplaap\n",
      "dividing  200109plc1p1 43 ABplap ABplapa ABplapp\n",
      "dividing  200109plc1p1 43 ABplpa ABplpaa ABplpap\n",
      "dividing  200109plc1p1 43 ABplpp ABplppa ABplppp\n",
      "dividing  200109plc1p1 43 ABprap ABprapa ABprapp\n",
      "dividing  200109plc1p1 43 ABprpa ABprpaa ABprpap\n",
      "dividing  200109plc1p1 43 ABprpp ABprppa ABprppp\n"
     ]
    },
    {
     "name": "stderr",
     "output_type": "stream",
     "text": [
      "\r",
      "generating 200109plc1p1 nucloc file:  24%|█████▍                | 44/180 [00:03<00:14,  9.23it/s]"
     ]
    },
    {
     "name": "stdout",
     "output_type": "stream",
     "text": [
      "dividing  200109plc1p1 44 ABalap ABalapa ABalapp\n",
      "dividing  200109plc1p1 44 ABalpa ABalpaa ABalpap\n",
      "dividing  200109plc1p1 44 ABalpp ABalppa ABalppp\n",
      "dividing  200109plc1p1 44 ABaraa ABaraaa ABaraap\n",
      "dividing  200109plc1p1 44 ABarap ABarapa ABarapp\n",
      "dividing  200109plc1p1 44 ABarpa ABarpaa ABarpap\n",
      "dividing  200109plc1p1 44 ABarpp ABarppa ABarppp\n",
      "dividing  200109plc1p1 44 ABplap ABplapa ABplapp\n",
      "dividing  200109plc1p1 44 ABplpa ABplpaa ABplpap\n",
      "dividing  200109plc1p1 44 ABplpp ABplppa ABplppp\n",
      "dividing  200109plc1p1 44 ABprap ABprapa ABprapp\n",
      "dividing  200109plc1p1 44 ABprpa ABprpaa ABprpap\n",
      "dividing  200109plc1p1 45 ABalap ABalapa ABalapp\n",
      "dividing  200109plc1p1 45 ABalpa ABalpaa ABalpap\n",
      "dividing  200109plc1p1 45 ABalpp ABalppa ABalppp\n",
      "dividing  200109plc1p1 45 ABarap ABarapa ABarapp\n",
      "dividing  200109plc1p1 45 ABarpa ABarpaa ABarpap\n",
      "dividing  200109plc1p1 45 ABarpp ABarppa ABarppp\n",
      "dividing  200109plc1p1 45 ABprpa ABprpaa ABprpap\n"
     ]
    },
    {
     "name": "stderr",
     "output_type": "stream",
     "text": [
      "generating 200109plc1p1 nucloc file:  26%|█████▌                | 46/180 [00:03<00:15,  8.58it/s]"
     ]
    },
    {
     "name": "stdout",
     "output_type": "stream",
     "text": [
      "dividing  200109plc1p1 46 ABalpa ABalpaa ABalpap\n",
      "dividing  200109plc1p1 46 ABarpa ABarpaa ABarpap\n",
      "dividing  200109plc1p1 46 ABprpa ABprpaa ABprpap\n",
      "dividing  200109plc1p1 46 Ea Eal Ear\n",
      "dividing  200109plc1p1 47 Ea Eal Ear\n",
      "dividing  200109plc1p1 47 Ep Epl Epr\n"
     ]
    },
    {
     "name": "stderr",
     "output_type": "stream",
     "text": [
      "generating 200109plc1p1 nucloc file:  27%|█████▉                | 49/180 [00:04<00:15,  8.25it/s]"
     ]
    },
    {
     "name": "stdout",
     "output_type": "stream",
     "text": [
      "dividing  200109plc1p1 48 Ep Epl Epr\n",
      "dividing  200109plc1p1 49 Ep Epl Epr\n",
      "dividing  200109plc1p1 49 D Da Dp\n"
     ]
    },
    {
     "name": "stderr",
     "output_type": "stream",
     "text": [
      "generating 200109plc1p1 nucloc file:  28%|██████▏               | 51/180 [00:04<00:16,  7.98it/s]"
     ]
    },
    {
     "name": "stdout",
     "output_type": "stream",
     "text": [
      "dividing  200109plc1p1 50 MSpa MSpaa MSpap\n",
      "dividing  200109plc1p1 50 Ep Epl Epr\n",
      "dividing  200109plc1p1 50 D Da Dp\n",
      "dividing  200109plc1p1 51 MSaa MSaaa MSaap\n",
      "dividing  200109plc1p1 51 MSpa MSpaa MSpap\n"
     ]
    },
    {
     "name": "stderr",
     "output_type": "stream",
     "text": [
      "generating 200109plc1p1 nucloc file:  29%|██████▍               | 53/180 [00:04<00:16,  7.60it/s]"
     ]
    },
    {
     "name": "stdout",
     "output_type": "stream",
     "text": [
      "dividing  200109plc1p1 52 MSaa MSaaa MSaap\n",
      "dividing  200109plc1p1 52 MSap MSapa MSapp\n",
      "dividing  200109plc1p1 52 MSpa MSpaa MSpap\n",
      "dividing  200109plc1p1 52 MSpp MSppa MSppp\n",
      "dividing  200109plc1p1 53 MSap MSapa MSapp\n",
      "dividing  200109plc1p1 53 MSpa MSpaa MSpap\n",
      "dividing  200109plc1p1 53 MSpp MSppa MSppp\n"
     ]
    },
    {
     "name": "stderr",
     "output_type": "stream",
     "text": [
      "generating 200109plc1p1 nucloc file:  31%|██████▋               | 55/180 [00:04<00:16,  7.68it/s]"
     ]
    },
    {
     "name": "stdout",
     "output_type": "stream",
     "text": [
      "dividing  200109plc1p1 54 MSap MSapa MSapp\n"
     ]
    },
    {
     "name": "stderr",
     "output_type": "stream",
     "text": [
      "generating 200109plc1p1 nucloc file:  33%|███████▎              | 60/180 [00:05<00:16,  7.41it/s]"
     ]
    },
    {
     "name": "stdout",
     "output_type": "stream",
     "text": [
      "dividing  200109plc1p1 59 Caa Caaa Caap\n",
      "dividing  200109plc1p1 60 ABplaap ABplaapa ABplaapp\n",
      "dividing  200109plc1p1 60 ABpraap ABpraapa ABpraapp\n",
      "dividing  200109plc1p1 60 Caa Caaa Caap\n",
      "dividing  200109plc1p1 60 Cpa Cpaa Cpap\n"
     ]
    },
    {
     "name": "stderr",
     "output_type": "stream",
     "text": [
      "\r",
      "generating 200109plc1p1 nucloc file:  34%|███████▍              | 61/180 [00:05<00:16,  7.27it/s]"
     ]
    },
    {
     "name": "stdout",
     "output_type": "stream",
     "text": [
      "dividing  200109plc1p1 61 ABpraap ABpraapa ABpraapp\n",
      "dividing  200109plc1p1 62 ABalppp ABalpppa ABalpppp\n",
      "dividing  200109plc1p1 62 ABaraap ABaraapa ABaraapp\n",
      "dividing  200109plc1p1 62 ABarpaa ABarpaaa ABarpaap\n",
      "dividing  200109plc1p1 62 ABplaaa ABplaaaa ABplaaap\n",
      "dividing  200109plc1p1 62 ABplapa ABplapaa ABplapap\n",
      "dividing  200109plc1p1 62 ABplapp ABplappa ABplappp\n",
      "dividing  200109plc1p1 62 ABplpap ABplpapa ABplpapp\n",
      "dividing  200109plc1p1 62 ABpraaa ABpraaaa ABpraaap\n",
      "dividing  200109plc1p1 62 ABprapp ABprappa ABprappp\n"
     ]
    },
    {
     "name": "stderr",
     "output_type": "stream",
     "text": [
      "\r",
      "generating 200109plc1p1 nucloc file:  34%|███████▌              | 62/180 [00:05<00:17,  6.65it/s]"
     ]
    },
    {
     "name": "stdout",
     "output_type": "stream",
     "text": [
      "dividing  200109plc1p1 62 Cpp Cppa Cppp\n",
      "dividing  200109plc1p1 63 ABalaaa ABalaaaa ABalaaap\n",
      "dividing  200109plc1p1 63 ABalaap ABalaapa ABalaapp\n",
      "dividing  200109plc1p1 63 ABalapa ABalapaa ABalapap\n",
      "dividing  200109plc1p1 63 ABalapp ABalappa ABalappp\n",
      "dividing  200109plc1p1 63 ABalpaa ABalpaaa ABalpaap\n",
      "dividing  200109plc1p1 63 ABalpap ABalpapa ABalpapp\n",
      "dividing  200109plc1p1 63 ABalppp ABalpppa ABalpppp\n",
      "dividing  200109plc1p1 63 ABaraaa ABaraaaa ABaraaap\n",
      "dividing  200109plc1p1 63 ABarapa ABarapaa ABarapap\n",
      "dividing  200109plc1p1 63 ABarapp ABarappa ABarappp\n",
      "dividing  200109plc1p1 63 ABarpap ABarpapa ABarpapp\n",
      "dividing  200109plc1p1 63 ABarppa ABarppaa ABarppap\n",
      "dividing  200109plc1p1 63 ABarppp ABarpppa ABarpppp\n",
      "dividing  200109plc1p1 63 ABplpaa ABplpaaa ABplpaap\n",
      "dividing  200109plc1p1 63 ABplpap ABplpapa ABplpapp\n",
      "dividing  200109plc1p1 63 ABplppp ABplpppa ABplpppp\n",
      "dividing  200109plc1p1 63 ABpraaa ABpraaaa ABpraaap\n",
      "dividing  200109plc1p1 63 ABprapa ABprapaa ABprapap\n",
      "dividing  200109plc1p1 63 ABprapp ABprappa ABprappp\n",
      "dividing  200109plc1p1 63 ABprpap ABprpapa ABprpapp\n",
      "dividing  200109plc1p1 63 ABprppp ABprpppa ABprpppp\n"
     ]
    },
    {
     "name": "stderr",
     "output_type": "stream",
     "text": [
      "\r",
      "generating 200109plc1p1 nucloc file:  35%|███████▋              | 63/180 [00:06<00:20,  5.65it/s]"
     ]
    },
    {
     "name": "stdout",
     "output_type": "stream",
     "text": [
      "dividing  200109plc1p1 63 Cpp Cppa Cppp\n",
      "dividing  200109plc1p1 64 ABalpaa ABalpaaa ABalpaap\n",
      "dividing  200109plc1p1 64 ABalppa ABalppaa ABalppap\n",
      "dividing  200109plc1p1 64 ABarapa ABarapaa ABarapap\n",
      "dividing  200109plc1p1 64 ABarapp ABarappa ABarappp\n",
      "dividing  200109plc1p1 64 ABarpap ABarpapa ABarpapp\n",
      "dividing  200109plc1p1 64 ABarppa ABarppaa ABarppap\n",
      "dividing  200109plc1p1 64 ABarppp ABarpppa ABarpppp\n",
      "dividing  200109plc1p1 64 ABplppa ABplppaa ABplppap\n",
      "dividing  200109plc1p1 64 ABplppp ABplpppa ABplpppp\n",
      "dividing  200109plc1p1 64 ABprapp ABprappa ABprappp\n",
      "dividing  200109plc1p1 64 ABprpaa ABprpaaa ABprpaap\n",
      "dividing  200109plc1p1 64 ABprpap ABprpapa ABprpapp\n",
      "dividing  200109plc1p1 64 ABprppa ABprppaa ABprppap\n",
      "dividing  200109plc1p1 64 ABprppp ABprpppa ABprpppp\n"
     ]
    },
    {
     "name": "stderr",
     "output_type": "stream",
     "text": [
      "\r",
      "generating 200109plc1p1 nucloc file:  36%|███████▊              | 64/180 [00:06<00:22,  5.15it/s]"
     ]
    },
    {
     "name": "stdout",
     "output_type": "stream",
     "text": [
      "dividing  200109plc1p1 64 Cap Capa Capp\n",
      "dividing  200109plc1p1 64 Cpp Cppa Cppp\n",
      "dividing  200109plc1p1 65 ABalppa ABalppaa ABalppap\n",
      "dividing  200109plc1p1 65 ABarpap ABarpapa ABarpapp\n",
      "dividing  200109plc1p1 65 ABprppa ABprppaa ABprppap\n"
     ]
    },
    {
     "name": "stderr",
     "output_type": "stream",
     "text": [
      "generating 200109plc1p1 nucloc file:  39%|████████▌             | 70/180 [00:07<00:21,  5.14it/s]"
     ]
    },
    {
     "name": "stdout",
     "output_type": "stream",
     "text": [
      "dividing  200109plc1p1 70 MSpap MSpapa MSpapp\n",
      "dividing  200109plc1p1 71 MSaaa MSaaaa MSaaap\n",
      "dividing  200109plc1p1 71 MSaap MSaapa MSaapp\n"
     ]
    },
    {
     "name": "stderr",
     "output_type": "stream",
     "text": [
      "\r",
      "generating 200109plc1p1 nucloc file:  39%|████████▋             | 71/180 [00:07<00:21,  4.96it/s]"
     ]
    },
    {
     "name": "stdout",
     "output_type": "stream",
     "text": [
      "dividing  200109plc1p1 71 MSpaa MSpaaa MSpaap\n",
      "dividing  200109plc1p1 71 MSpap MSpapa MSpapp\n",
      "dividing  200109plc1p1 72 MSaaa MSaaaa MSaaap\n",
      "dividing  200109plc1p1 72 MSaap MSaapa MSaapp\n"
     ]
    },
    {
     "name": "stderr",
     "output_type": "stream",
     "text": [
      "\r",
      "generating 200109plc1p1 nucloc file:  40%|████████▊             | 72/180 [00:08<00:22,  4.88it/s]"
     ]
    },
    {
     "name": "stdout",
     "output_type": "stream",
     "text": [
      "dividing  200109plc1p1 72 MSpaa MSpaaa MSpaap\n",
      "dividing  200109plc1p1 73 MSaaa MSaaaa MSaaap\n",
      "dividing  200109plc1p1 73 MSaap MSaapa MSaapp\n",
      "dividing  200109plc1p1 73 MSapa MSapaa MSapap\n",
      "dividing  200109plc1p1 73 MSapp MSappa MSappp\n"
     ]
    },
    {
     "name": "stderr",
     "output_type": "stream",
     "text": [
      "\r",
      "generating 200109plc1p1 nucloc file:  41%|████████▉             | 73/180 [00:08<00:22,  4.76it/s]"
     ]
    },
    {
     "name": "stdout",
     "output_type": "stream",
     "text": [
      "dividing  200109plc1p1 73 MSppp MSpppa MSpppp\n",
      "dividing  200109plc1p1 74 MSaap MSaapa MSaapp\n",
      "dividing  200109plc1p1 74 MSapa MSapaa MSapap\n",
      "dividing  200109plc1p1 74 MSapp MSappa MSappp\n"
     ]
    },
    {
     "name": "stderr",
     "output_type": "stream",
     "text": [
      "\r",
      "generating 200109plc1p1 nucloc file:  41%|█████████             | 74/180 [00:08<00:22,  4.67it/s]"
     ]
    },
    {
     "name": "stdout",
     "output_type": "stream",
     "text": [
      "dividing  200109plc1p1 74 MSppa MSppaa MSppap\n",
      "dividing  200109plc1p1 74 MSppp MSpppa MSpppp\n",
      "dividing  200109plc1p1 74 P4 Z2 Z3\n",
      "dividing  200109plc1p1 75 MSaap MSaapa MSaapp\n"
     ]
    },
    {
     "name": "stderr",
     "output_type": "stream",
     "text": [
      "\r",
      "generating 200109plc1p1 nucloc file:  42%|█████████▏            | 75/180 [00:08<00:22,  4.62it/s]"
     ]
    },
    {
     "name": "stdout",
     "output_type": "stream",
     "text": [
      "dividing  200109plc1p1 75 MSapp MSappa MSappp\n",
      "dividing  200109plc1p1 75 Eal Eala Ealp\n",
      "dividing  200109plc1p1 75 P4 Z2 Z3\n"
     ]
    },
    {
     "name": "stderr",
     "output_type": "stream",
     "text": [
      "\r",
      "generating 200109plc1p1 nucloc file:  42%|█████████▎            | 76/180 [00:08<00:22,  4.57it/s]"
     ]
    },
    {
     "name": "stdout",
     "output_type": "stream",
     "text": [
      "dividing  200109plc1p1 76 MSaap MSaapa MSaapp\n",
      "dividing  200109plc1p1 76 Eal Eala Ealp\n",
      "dividing  200109plc1p1 76 Ear Eara Earp\n",
      "dividing  200109plc1p1 76 P4 Z2 Z3\n"
     ]
    },
    {
     "name": "stderr",
     "output_type": "stream",
     "text": [
      "\r",
      "generating 200109plc1p1 nucloc file:  43%|█████████▍            | 77/180 [00:09<00:22,  4.54it/s]"
     ]
    },
    {
     "name": "stdout",
     "output_type": "stream",
     "text": [
      "dividing  200109plc1p1 77 MSaap MSaapa MSaapp\n",
      "dividing  200109plc1p1 77 Eal Eala Ealp\n",
      "dividing  200109plc1p1 77 Ear Eara Earp\n",
      "dividing  200109plc1p1 77 P4 Z2 Z3\n"
     ]
    },
    {
     "name": "stderr",
     "output_type": "stream",
     "text": [
      "\r",
      "generating 200109plc1p1 nucloc file:  43%|█████████▌            | 78/180 [00:09<00:22,  4.48it/s]"
     ]
    },
    {
     "name": "stdout",
     "output_type": "stream",
     "text": [
      "dividing  200109plc1p1 78 MSaap MSaapa MSaapp\n",
      "dividing  200109plc1p1 78 Ear Eara Earp\n",
      "dividing  200109plc1p1 78 Epl Epla Eplp\n",
      "dividing  200109plc1p1 78 Epr Epra Eprp\n",
      "dividing  200109plc1p1 78 P4 Z2 Z3\n"
     ]
    },
    {
     "name": "stderr",
     "output_type": "stream",
     "text": [
      "\r",
      "generating 200109plc1p1 nucloc file:  44%|█████████▋            | 79/180 [00:09<00:22,  4.45it/s]"
     ]
    },
    {
     "name": "stdout",
     "output_type": "stream",
     "text": [
      "dividing  200109plc1p1 79 MSaap MSaapa MSaapp\n",
      "dividing  200109plc1p1 79 Epl Epla Eplp\n",
      "dividing  200109plc1p1 79 Epr Epra Eprp\n",
      "dividing  200109plc1p1 79 P4 Z2 Z3\n"
     ]
    },
    {
     "name": "stderr",
     "output_type": "stream",
     "text": [
      "\r",
      "generating 200109plc1p1 nucloc file:  44%|█████████▊            | 80/180 [00:09<00:22,  4.47it/s]"
     ]
    },
    {
     "name": "stdout",
     "output_type": "stream",
     "text": [
      "dividing  200109plc1p1 80 Epl Epla Eplp\n"
     ]
    },
    {
     "name": "stderr",
     "output_type": "stream",
     "text": [
      "\r",
      "generating 200109plc1p1 nucloc file:  45%|█████████▉            | 81/180 [00:10<00:22,  4.48it/s]"
     ]
    },
    {
     "name": "stdout",
     "output_type": "stream",
     "text": [
      "dividing  200109plc1p1 81 Dp Dpa Dpp\n",
      "dividing  200109plc1p1 82 ABplaapp ABplaappa ABplaappp\n"
     ]
    },
    {
     "name": "stderr",
     "output_type": "stream",
     "text": [
      "\r",
      "generating 200109plc1p1 nucloc file:  46%|██████████            | 82/180 [00:10<00:22,  4.42it/s]"
     ]
    },
    {
     "name": "stdout",
     "output_type": "stream",
     "text": [
      "dividing  200109plc1p1 82 Dp Dpa Dpp\n",
      "dividing  200109plc1p1 83 ABpraapp ABpraappa ABpraappp\n"
     ]
    },
    {
     "name": "stderr",
     "output_type": "stream",
     "text": [
      "\r",
      "generating 200109plc1p1 nucloc file:  46%|██████████▏           | 83/180 [00:10<00:22,  4.31it/s]"
     ]
    },
    {
     "name": "stdout",
     "output_type": "stream",
     "text": [
      "dividing  200109plc1p1 83 Caaa Caaaa Caaap\n",
      "dividing  200109plc1p1 83 Da Daa Dap\n",
      "dividing  200109plc1p1 83 Dp Dpa Dpp\n",
      "dividing  200109plc1p1 84 ABplaapa ABplaapaa ABplaapap\n",
      "dividing  200109plc1p1 84 ABplpapp ABplpappa ABplpappp\n"
     ]
    },
    {
     "name": "stderr",
     "output_type": "stream",
     "text": [
      "\r",
      "generating 200109plc1p1 nucloc file:  47%|██████████▎           | 84/180 [00:10<00:22,  4.18it/s]"
     ]
    },
    {
     "name": "stdout",
     "output_type": "stream",
     "text": [
      "dividing  200109plc1p1 84 Cpaa Cpaaa Cpaap\n",
      "dividing  200109plc1p1 84 Cpap Cpapa Cpapp\n",
      "dividing  200109plc1p1 84 Da Daa Dap\n",
      "dividing  200109plc1p1 85 ABalpaap ABalpaapa ABalpaapp\n",
      "dividing  200109plc1p1 85 ABalpapp ABalpappa ABalpappp\n",
      "dividing  200109plc1p1 85 ABalpppp ABalppppa ABalppppp\n",
      "dividing  200109plc1p1 85 ABaraapp ABaraappa ABaraappp\n",
      "dividing  200109plc1p1 85 ABplaapa ABplaapaa ABplaapap\n",
      "dividing  200109plc1p1 85 ABplapap ABplapapa ABplapapp\n",
      "dividing  200109plc1p1 85 ABplpapp ABplpappa ABplpappp\n",
      "dividing  200109plc1p1 85 ABpraapa ABpraapaa ABpraapap\n"
     ]
    },
    {
     "name": "stderr",
     "output_type": "stream",
     "text": [
      "\r",
      "generating 200109plc1p1 nucloc file:  47%|██████████▍           | 85/180 [00:11<00:23,  4.00it/s]"
     ]
    },
    {
     "name": "stdout",
     "output_type": "stream",
     "text": [
      "dividing  200109plc1p1 85 Cpap Cpapa Cpapp\n",
      "dividing  200109plc1p1 85 Da Daa Dap\n",
      "dividing  200109plc1p1 86 ABalappp ABalapppa ABalapppp\n",
      "dividing  200109plc1p1 86 ABalpaap ABalpaapa ABalpaapp\n",
      "dividing  200109plc1p1 86 ABalpapa ABalpapaa ABalpapap\n",
      "dividing  200109plc1p1 86 ABalpapp ABalpappa ABalpappp\n",
      "dividing  200109plc1p1 86 ABalpppp ABalppppa ABalppppp\n",
      "dividing  200109plc1p1 86 ABaraaap ABaraaapa ABaraaapp\n",
      "dividing  200109plc1p1 86 ABaraapa ABaraapaa ABaraapap\n",
      "dividing  200109plc1p1 86 ABarapap ABarapapa ABarapapp\n",
      "dividing  200109plc1p1 86 ABplaaaa ABplaaaaa ABplaaaap\n",
      "dividing  200109plc1p1 86 ABplappa ABplappaa ABplappap\n",
      "dividing  200109plc1p1 86 ABplpaap ABplpaapa ABplpaapp\n",
      "dividing  200109plc1p1 86 ABplpapa ABplpapaa ABplpapap\n",
      "dividing  200109plc1p1 86 ABplpapp ABplpappa ABplpappp\n"
     ]
    },
    {
     "name": "stderr",
     "output_type": "stream",
     "text": [
      "\r",
      "generating 200109plc1p1 nucloc file:  48%|██████████▌           | 86/180 [00:11<00:25,  3.73it/s]"
     ]
    },
    {
     "name": "stdout",
     "output_type": "stream",
     "text": [
      "dividing  200109plc1p1 86 ABpraaap ABpraaapa ABpraaapp\n",
      "dividing  200109plc1p1 86 ABpraapa ABpraapaa ABpraapap\n",
      "dividing  200109plc1p1 86 ABprapap ABprapapa ABprapapp\n",
      "dividing  200109plc1p1 86 ABprpapp ABprpappa ABprpappp\n",
      "dividing  200109plc1p1 86 Da Daa Dap\n",
      "dividing  200109plc1p1 87 ABalappp ABalapppa ABalapppp\n",
      "dividing  200109plc1p1 87 ABalpaap ABalpaapa ABalpaapp\n",
      "dividing  200109plc1p1 87 ABalppap ABalppapa ABalppapp\n",
      "dividing  200109plc1p1 87 ABalpppa ABalpppaa ABalpppap\n",
      "dividing  200109plc1p1 87 ABarapap ABarapapa ABarapapp\n",
      "dividing  200109plc1p1 87 ABarpaap ABarpaapa ABarpaapp\n",
      "dividing  200109plc1p1 87 ABarpapa ABarpapaa ABarpapap\n",
      "dividing  200109plc1p1 87 ABarpapp ABarpappa ABarpappp\n",
      "dividing  200109plc1p1 87 ABplaaap ABplaaapa ABplaaapp\n",
      "dividing  200109plc1p1 87 ABplpaaa ABplpaaaa ABplpaaap\n",
      "dividing  200109plc1p1 87 ABplpapa ABplpapaa ABplpapap\n",
      "dividing  200109plc1p1 87 ABplpppa ABplpppaa ABplpppap\n",
      "dividing  200109plc1p1 87 ABplpppp ABplppppa ABplppppp\n",
      "dividing  200109plc1p1 87 ABpraaap ABpraaapa ABpraaapp\n",
      "dividing  200109plc1p1 87 ABprpapa ABprpapaa ABprpapap\n"
     ]
    },
    {
     "name": "stderr",
     "output_type": "stream",
     "text": [
      "\r",
      "generating 200109plc1p1 nucloc file:  48%|██████████▋           | 87/180 [00:11<00:26,  3.48it/s]"
     ]
    },
    {
     "name": "stdout",
     "output_type": "stream",
     "text": [
      "dividing  200109plc1p1 87 Da Daa Dap\n",
      "dividing  200109plc1p1 88 ABalapap ABalapapa ABalapapp\n",
      "dividing  200109plc1p1 88 ABalppap ABalppapa ABalppapp\n",
      "dividing  200109plc1p1 88 ABarapaa ABarapaaa ABarapaap\n",
      "dividing  200109plc1p1 88 ABarappa ABarappaa ABarappap\n",
      "dividing  200109plc1p1 88 ABarappp ABarapppa ABarapppp\n",
      "dividing  200109plc1p1 88 ABarpapp ABarpappa ABarpappp\n",
      "dividing  200109plc1p1 88 ABplapaa ABplapaaa ABplapaap\n"
     ]
    },
    {
     "name": "stderr",
     "output_type": "stream",
     "text": [
      "\r",
      "generating 200109plc1p1 nucloc file:  49%|██████████▊           | 88/180 [00:12<00:28,  3.27it/s]"
     ]
    },
    {
     "name": "stdout",
     "output_type": "stream",
     "text": [
      "dividing  200109plc1p1 88 ABplpppa ABplpppaa ABplpppap\n",
      "dividing  200109plc1p1 88 ABprapaa ABprapaaa ABprapaap\n",
      "dividing  200109plc1p1 88 ABprpaaa ABprpaaaa ABprpaaap\n",
      "dividing  200109plc1p1 88 ABprpaap ABprpaapa ABprpaapp\n",
      "dividing  200109plc1p1 88 ABprpppa ABprpppaa ABprpppap\n",
      "dividing  200109plc1p1 88 ABprpppp ABprppppa ABprppppp\n",
      "dividing  200109plc1p1 89 ABalaapp ABalaappa ABalaappp\n",
      "dividing  200109plc1p1 89 ABalappa ABalappaa ABalappap\n",
      "dividing  200109plc1p1 89 ABarapaa ABarapaaa ABarapaap\n",
      "dividing  200109plc1p1 89 ABarappa ABarappaa ABarappap\n",
      "dividing  200109plc1p1 89 ABarappp ABarapppa ABarapppp\n",
      "dividing  200109plc1p1 89 ABarpppa ABarpppaa ABarpppap\n",
      "dividing  200109plc1p1 89 ABplappp ABplapppa ABplapppp\n",
      "dividing  200109plc1p1 89 ABplppap ABplppapa ABplppapp\n",
      "dividing  200109plc1p1 89 ABplpppa ABplpppaa ABplpppap\n",
      "dividing  200109plc1p1 89 ABpraaaa ABpraaaaa ABpraaaap\n",
      "dividing  200109plc1p1 89 ABprappa ABprappaa ABprappap\n"
     ]
    },
    {
     "name": "stderr",
     "output_type": "stream",
     "text": [
      "\r",
      "generating 200109plc1p1 nucloc file:  49%|██████████▉           | 89/180 [00:12<00:29,  3.11it/s]"
     ]
    },
    {
     "name": "stdout",
     "output_type": "stream",
     "text": [
      "dividing  200109plc1p1 90 ABalapaa ABalapaaa ABalapaap\n",
      "dividing  200109plc1p1 90 ABalpaaa ABalpaaaa ABalpaaap\n",
      "dividing  200109plc1p1 90 ABarppap ABarppapa ABarppapp\n",
      "dividing  200109plc1p1 90 ABarpppa ABarpppaa ABarpppap\n",
      "dividing  200109plc1p1 90 ABplppaa ABplppaaa ABplppaap\n",
      "dividing  200109plc1p1 90 ABpraaaa ABpraaaaa ABpraaaap\n",
      "dividing  200109plc1p1 90 ABprappp ABprapppa ABprapppp\n"
     ]
    },
    {
     "name": "stderr",
     "output_type": "stream",
     "text": [
      "\r",
      "generating 200109plc1p1 nucloc file:  50%|███████████           | 90/180 [00:12<00:30,  3.00it/s]"
     ]
    },
    {
     "name": "stdout",
     "output_type": "stream",
     "text": [
      "dividing  200109plc1p1 90 ABprppap ABprppapa ABprppapp\n",
      "dividing  200109plc1p1 91 ABalaaaa ABalaaaal ABalaaaar\n",
      "dividing  200109plc1p1 91 ABalaapa ABalaapaa ABalaapap\n",
      "dividing  200109plc1p1 91 ABalapaa ABalapaaa ABalapaap\n",
      "dividing  200109plc1p1 91 ABalpaaa ABalpaaaa ABalpaaap\n",
      "dividing  200109plc1p1 91 ABalppaa ABalppaaa ABalppaap\n",
      "dividing  200109plc1p1 91 ABarppaa ABarppaaa ABarppaap\n",
      "dividing  200109plc1p1 91 ABarppap ABarppapa ABarppapp\n",
      "dividing  200109plc1p1 91 ABarpppp ABarppppa ABarppppp\n",
      "dividing  200109plc1p1 91 ABplppaa ABplppaaa ABplppaap\n",
      "dividing  200109plc1p1 91 ABprappp ABprapppa ABprapppp\n",
      "dividing  200109plc1p1 91 ABprppap ABprppapa ABprppapp\n",
      "dividing  200109plc1p1 91 Caap Caapa Caapp\n"
     ]
    },
    {
     "name": "stderr",
     "output_type": "stream",
     "text": [
      "\r",
      "generating 200109plc1p1 nucloc file:  51%|███████████           | 91/180 [00:13<00:31,  2.84it/s]"
     ]
    },
    {
     "name": "stdout",
     "output_type": "stream",
     "text": [
      "dividing  200109plc1p1 91 Cppp Cpppa Cpppp\n",
      "dividing  200109plc1p1 92 ABalaaaa ABalaaaal ABalaaaar\n",
      "dividing  200109plc1p1 92 ABalppaa ABalppaaa ABalppaap\n",
      "dividing  200109plc1p1 92 ABaraaaa ABaraaaaa ABaraaaap\n",
      "dividing  200109plc1p1 92 ABarpaaa ABarpaaaa ABarpaaap\n"
     ]
    },
    {
     "name": "stderr",
     "output_type": "stream",
     "text": [
      "\r",
      "generating 200109plc1p1 nucloc file:  51%|███████████▏          | 92/180 [00:13<00:32,  2.75it/s]"
     ]
    },
    {
     "name": "stdout",
     "output_type": "stream",
     "text": [
      "dividing  200109plc1p1 92 ABprppaa ABprppaaa ABprppaap\n",
      "dividing  200109plc1p1 92 MSpaaa MSpaaaa MSpaaap\n",
      "dividing  200109plc1p1 92 Cppp Cpppa Cpppp\n"
     ]
    },
    {
     "name": "stderr",
     "output_type": "stream",
     "text": [
      "\r",
      "generating 200109plc1p1 nucloc file:  52%|███████████▎          | 93/180 [00:13<00:31,  2.75it/s]"
     ]
    },
    {
     "name": "stdout",
     "output_type": "stream",
     "text": [
      "dividing  200109plc1p1 93 MSaaaa MSaaaaa MSaaaap\n",
      "dividing  200109plc1p1 93 MSpaaa MSpaaaa MSpaaap\n",
      "dividing  200109plc1p1 93 MSpapa MSpapaa MSpapap\n"
     ]
    },
    {
     "name": "stderr",
     "output_type": "stream",
     "text": [
      "\r",
      "generating 200109plc1p1 nucloc file:  52%|███████████▍          | 94/180 [00:14<00:31,  2.75it/s]"
     ]
    },
    {
     "name": "stdout",
     "output_type": "stream",
     "text": [
      "dividing  200109plc1p1 94 MSaaaa MSaaaaa MSaaaap\n",
      "dividing  200109plc1p1 94 MSaapa MSaapaa MSaapap\n",
      "dividing  200109plc1p1 94 MSpaaa MSpaaaa MSpaaap\n",
      "dividing  200109plc1p1 94 MSpapa MSpapaa MSpapap\n"
     ]
    },
    {
     "name": "stderr",
     "output_type": "stream",
     "text": [
      "\r",
      "generating 200109plc1p1 nucloc file:  53%|███████████▌          | 95/180 [00:14<00:31,  2.74it/s]"
     ]
    },
    {
     "name": "stdout",
     "output_type": "stream",
     "text": [
      "dividing  200109plc1p1 95 MSaaap MSaaapa MSaaapp\n",
      "dividing  200109plc1p1 95 MSaapa MSaapaa MSaapap\n",
      "dividing  200109plc1p1 95 MSpapa MSpapaa MSpapap\n"
     ]
    },
    {
     "name": "stderr",
     "output_type": "stream",
     "text": [
      "\r",
      "generating 200109plc1p1 nucloc file:  53%|███████████▋          | 96/180 [00:14<00:30,  2.74it/s]"
     ]
    },
    {
     "name": "stdout",
     "output_type": "stream",
     "text": [
      "dividing  200109plc1p1 96 MSaaap MSaaapa MSaaapp\n",
      "dividing  200109plc1p1 96 MSaapa MSaapaa MSaapap\n"
     ]
    },
    {
     "name": "stderr",
     "output_type": "stream",
     "text": [
      "\r",
      "generating 200109plc1p1 nucloc file:  54%|███████████▊          | 97/180 [00:15<00:30,  2.73it/s]"
     ]
    },
    {
     "name": "stdout",
     "output_type": "stream",
     "text": [
      "dividing  200109plc1p1 97 MSpaap MSpaapa MSpaapp\n",
      "dividing  200109plc1p1 97 Capp Cappa Cappp\n",
      "dividing  200109plc1p1 97 Cppa Cppaa Cppap\n"
     ]
    },
    {
     "name": "stderr",
     "output_type": "stream",
     "text": [
      "\r",
      "generating 200109plc1p1 nucloc file:  54%|███████████▉          | 98/180 [00:15<00:30,  2.72it/s]"
     ]
    },
    {
     "name": "stdout",
     "output_type": "stream",
     "text": [
      "dividing  200109plc1p1 98 MSpaap MSpaapa MSpaapp\n",
      "dividing  200109plc1p1 98 MSppap MSppapa MSppapp\n",
      "dividing  200109plc1p1 98 Cppa Cppaa Cppap\n"
     ]
    },
    {
     "name": "stderr",
     "output_type": "stream",
     "text": [
      "\r",
      "generating 200109plc1p1 nucloc file:  55%|████████████          | 99/180 [00:16<00:29,  2.70it/s]"
     ]
    },
    {
     "name": "stdout",
     "output_type": "stream",
     "text": [
      "dividing  200109plc1p1 99 MSapaa MSapaaa MSapaap\n",
      "dividing  200109plc1p1 99 MSapap MSapapa MSapapp\n"
     ]
    },
    {
     "name": "stderr",
     "output_type": "stream",
     "text": [
      "\r",
      "generating 200109plc1p1 nucloc file:  56%|███████████▋         | 100/180 [00:16<00:30,  2.66it/s]"
     ]
    },
    {
     "name": "stdout",
     "output_type": "stream",
     "text": [
      "dividing  200109plc1p1 100 MSapap MSapapa MSapapp\n",
      "dividing  200109plc1p1 100 MSpapp MSpappa MSpappp\n",
      "dividing  200109plc1p1 100 MSppaa MSppaaa MSppaap\n",
      "dividing  200109plc1p1 100 Capa Capaa Capap\n"
     ]
    },
    {
     "name": "stderr",
     "output_type": "stream",
     "text": [
      "\r",
      "generating 200109plc1p1 nucloc file:  56%|███████████▊         | 101/180 [00:16<00:30,  2.63it/s]"
     ]
    },
    {
     "name": "stdout",
     "output_type": "stream",
     "text": [
      "dividing  200109plc1p1 101 MSaapp MSaappa MSaappp\n",
      "dividing  200109plc1p1 101 MSapap MSapapa MSapapp\n",
      "dividing  200109plc1p1 101 MSpapp MSpappa MSpappp\n",
      "dividing  200109plc1p1 101 MSppaa MSppaaa MSppaap\n",
      "dividing  200109plc1p1 101 MSpppa MSpppaa MSpppap\n",
      "dividing  200109plc1p1 101 Capa Capaa Capap\n"
     ]
    },
    {
     "name": "stderr",
     "output_type": "stream",
     "text": [
      "\r",
      "generating 200109plc1p1 nucloc file:  57%|███████████▉         | 102/180 [00:17<00:30,  2.59it/s]"
     ]
    },
    {
     "name": "stdout",
     "output_type": "stream",
     "text": [
      "dividing  200109plc1p1 102 MSaapp MSaappa MSaappp\n",
      "dividing  200109plc1p1 102 MSappa MSappaa MSappap\n",
      "dividing  200109plc1p1 102 MSpppa MSpppaa MSpppap\n",
      "dividing  200109plc1p1 102 MSpppp MSppppa MSppppp\n"
     ]
    },
    {
     "name": "stderr",
     "output_type": "stream",
     "text": [
      "\r",
      "generating 200109plc1p1 nucloc file:  57%|████████████         | 103/180 [00:17<00:29,  2.59it/s]"
     ]
    },
    {
     "name": "stdout",
     "output_type": "stream",
     "text": [
      "dividing  200109plc1p1 103 MSappa MSappaa MSappap\n"
     ]
    },
    {
     "name": "stderr",
     "output_type": "stream",
     "text": [
      "\r",
      "generating 200109plc1p1 nucloc file:  58%|████████████▏        | 104/180 [00:18<00:29,  2.58it/s]"
     ]
    },
    {
     "name": "stdout",
     "output_type": "stream",
     "text": [
      "dividing  200109plc1p1 104 MSappp MSapppa MSapppp\n"
     ]
    },
    {
     "name": "stderr",
     "output_type": "stream",
     "text": [
      "generating 200109plc1p1 nucloc file:  62%|████████████▉        | 111/180 [00:20<00:26,  2.59it/s]"
     ]
    },
    {
     "name": "stdout",
     "output_type": "stream",
     "text": [
      "dividing  200109plc1p1 111 Dpp Dppa Dppp\n",
      "dividing  200109plc1p1 112 ABalpaapa ABalpaapaa ABalpaapap\n",
      "dividing  200109plc1p1 112 ABplaappp ABplaapppa ABplaapppp\n"
     ]
    },
    {
     "name": "stderr",
     "output_type": "stream",
     "text": [
      "\r",
      "generating 200109plc1p1 nucloc file:  62%|█████████████        | 112/180 [00:21<00:26,  2.53it/s]"
     ]
    },
    {
     "name": "stdout",
     "output_type": "stream",
     "text": [
      "dividing  200109plc1p1 112 Dap Dapa Dapp\n",
      "dividing  200109plc1p1 112 Dpp Dppa Dppp\n",
      "dividing  200109plc1p1 113 ABalpaapa ABalpaapaa ABalpaapap\n",
      "dividing  200109plc1p1 113 ABalppppp ABalpppppa ABalpppppp\n"
     ]
    },
    {
     "name": "stderr",
     "output_type": "stream",
     "text": [
      "\r",
      "generating 200109plc1p1 nucloc file:  63%|█████████████▏       | 113/180 [00:21<00:27,  2.48it/s]"
     ]
    },
    {
     "name": "stdout",
     "output_type": "stream",
     "text": [
      "dividing  200109plc1p1 113 Daa Daaa Daap\n",
      "dividing  200109plc1p1 113 Dap Dapa Dapp\n",
      "dividing  200109plc1p1 113 Dpp Dppa Dppp\n",
      "dividing  200109plc1p1 114 ABalpappp ABalpapppa ABalpapppp\n",
      "dividing  200109plc1p1 114 ABaraaapa ABaraaapaa ABaraaapap\n",
      "dividing  200109plc1p1 114 ABarapapp ABarapappa ABarapappp\n",
      "dividing  200109plc1p1 114 ABplpappa ABplpappaa ABplpappap\n",
      "dividing  200109plc1p1 114 ABpraaapp ABpraaappa ABpraaappp\n",
      "dividing  200109plc1p1 114 Caaap Caaapa Caaapp\n",
      "dividing  200109plc1p1 114 Daa Daaa Daap\n"
     ]
    },
    {
     "name": "stderr",
     "output_type": "stream",
     "text": [
      "\r",
      "generating 200109plc1p1 nucloc file:  63%|█████████████▎       | 114/180 [00:22<00:27,  2.40it/s]"
     ]
    },
    {
     "name": "stdout",
     "output_type": "stream",
     "text": [
      "dividing  200109plc1p1 114 Dpa Dpaa Dpap\n",
      "dividing  200109plc1p1 114 Dpp Dppa Dppp\n",
      "dividing  200109plc1p1 115 ABalpappa ABalpappaa ABalpappap\n",
      "dividing  200109plc1p1 115 ABalppppa ABalppppaa ABalppppap\n",
      "dividing  200109plc1p1 115 ABarapapp ABarapappa ABarapappp\n"
     ]
    },
    {
     "name": "stderr",
     "output_type": "stream",
     "text": [
      "\r",
      "generating 200109plc1p1 nucloc file:  64%|█████████████▍       | 115/180 [00:22<00:27,  2.35it/s]"
     ]
    },
    {
     "name": "stdout",
     "output_type": "stream",
     "text": [
      "dividing  200109plc1p1 115 ABpraappp ABpraapppa ABpraapppp\n",
      "dividing  200109plc1p1 115 Cpaap Cpaapa Cpaapp\n",
      "dividing  200109plc1p1 115 Daa Daaa Daap\n",
      "dividing  200109plc1p1 115 Dpa Dpaa Dpap\n",
      "dividing  200109plc1p1 116 ABaraapap ABaraapapa ABaraapapp\n",
      "dividing  200109plc1p1 116 ABplaapap ABplaapapa ABplaapapp\n",
      "dividing  200109plc1p1 116 ABprpappa ABprpappaa ABprpappap\n"
     ]
    },
    {
     "name": "stderr",
     "output_type": "stream",
     "text": [
      "\r",
      "generating 200109plc1p1 nucloc file:  64%|█████████████▌       | 116/180 [00:22<00:27,  2.30it/s]"
     ]
    },
    {
     "name": "stdout",
     "output_type": "stream",
     "text": [
      "dividing  200109plc1p1 116 Caaaa Caaaaa Caaaap\n",
      "dividing  200109plc1p1 116 Cpaap Cpaapa Cpaapp\n",
      "dividing  200109plc1p1 116 Daa Daaa Daap\n",
      "dividing  200109plc1p1 116 Dpa Dpaa Dpap\n",
      "dividing  200109plc1p1 117 ABalapppa ABalapppaa ABalapppap\n",
      "dividing  200109plc1p1 117 ABalppapp ABalppappa ABalppappp\n",
      "dividing  200109plc1p1 117 ABalpppap ABalpppapa ABalpppapp\n",
      "dividing  200109plc1p1 117 ABaraapaa ABaraapaaa ABaraapaap\n",
      "dividing  200109plc1p1 117 ABarapapa ABarapapaa ABarapapap\n",
      "dividing  200109plc1p1 117 ABarpaapp ABarpaappa ABarpaappp\n",
      "dividing  200109plc1p1 117 ABplaappa ABplaappaa ABplaappap\n",
      "dividing  200109plc1p1 117 ABplpaaaa ABplpaaaaa ABplpaaaap\n",
      "dividing  200109plc1p1 117 ABprapapp ABprapappa ABprapappp\n",
      "dividing  200109plc1p1 117 ABprpappa ABprpappaa ABprpappap\n",
      "dividing  200109plc1p1 117 ABprpappp ABprpapppa ABprpapppp\n"
     ]
    },
    {
     "name": "stderr",
     "output_type": "stream",
     "text": [
      "\r",
      "generating 200109plc1p1 nucloc file:  65%|█████████████▋       | 117/180 [00:23<00:28,  2.20it/s]"
     ]
    },
    {
     "name": "stdout",
     "output_type": "stream",
     "text": [
      "dividing  200109plc1p1 117 Daa Daaa Daap\n",
      "dividing  200109plc1p1 117 Dpa Dpaa Dpap\n",
      "dividing  200109plc1p1 118 ABalaaapp ABalaaappl ABalaaappr\n",
      "dividing  200109plc1p1 118 ABalapppp ABalappppa ABalappppp\n",
      "dividing  200109plc1p1 118 ABalppapa ABalppapaa ABalppapap\n",
      "dividing  200109plc1p1 118 ABaraappp ABaraapppa ABaraapppp\n",
      "dividing  200109plc1p1 118 ABarapaap ABarapaapa ABarapaapp\n",
      "dividing  200109plc1p1 118 ABarapapa ABarapapaa ABarapapap\n",
      "dividing  200109plc1p1 118 ABarpaapa ABarpaapaa ABarpaapap\n",
      "dividing  200109plc1p1 118 ABplaapaa ABplaapaaa ABplaapaap\n",
      "dividing  200109plc1p1 118 ABplpaaaa ABplpaaaaa ABplpaaaap\n",
      "dividing  200109plc1p1 118 ABplppppa ABplppppaa ABplppppap\n",
      "dividing  200109plc1p1 118 ABpraappa ABpraappaa ABpraappap\n"
     ]
    },
    {
     "name": "stderr",
     "output_type": "stream",
     "text": [
      "\r",
      "generating 200109plc1p1 nucloc file:  66%|█████████████▊       | 118/180 [00:24<00:30,  2.06it/s]"
     ]
    },
    {
     "name": "stdout",
     "output_type": "stream",
     "text": [
      "dividing  200109plc1p1 118 ABprpappp ABprpapppa ABprpapppp\n",
      "dividing  200109plc1p1 118 Cpaaa Cpaaaa Cpaaap\n",
      "dividing  200109plc1p1 118 Dpa Dpaa Dpap\n",
      "dividing  200109plc1p1 119 ABalapapp ABalapappa ABalapappp\n",
      "dividing  200109plc1p1 119 ABalapppp ABalappppa ABalappppp\n",
      "dividing  200109plc1p1 119 ABalpapaa ABalpapaaa ABalpapaap\n",
      "dividing  200109plc1p1 119 ABalpapap ABalpapapa ABalpapapp\n",
      "dividing  200109plc1p1 119 ABarapppp ABarappppa ABarappppp\n",
      "dividing  200109plc1p1 119 ABplaaaap ABplaaaapa ABplaaaapp\n",
      "dividing  200109plc1p1 119 ABplappaa ABplappaaa ABplappaap\n",
      "dividing  200109plc1p1 119 ABplpaaaa ABplpaaaaa ABplpaaaap\n",
      "dividing  200109plc1p1 119 ABplpaaap ABplpaaapa ABplpaaapp\n",
      "dividing  200109plc1p1 119 ABplpappp ABplpapppa ABplpapppp\n",
      "dividing  200109plc1p1 119 ABplpppaa ABplpppaaa ABplpppaap\n",
      "dividing  200109plc1p1 119 ABplpppap ABplpppapa ABplpppapp\n",
      "dividing  200109plc1p1 119 ABplppppa ABplppppaa ABplppppap\n",
      "dividing  200109plc1p1 119 ABpraapap ABpraapapa ABpraapapp\n",
      "dividing  200109plc1p1 119 ABprpaaaa ABprpaaaaa ABprpaaaap\n",
      "dividing  200109plc1p1 119 ABprpaapp ABprpaappa ABprpaappp\n",
      "dividing  200109plc1p1 119 ABprpapap ABprpapapa ABprpapapp\n",
      "dividing  200109plc1p1 119 ABprppppa ABprppppaa ABprppppap\n",
      "dividing  200109plc1p1 119 ABprppppp ABprpppppa ABprpppppp\n"
     ]
    },
    {
     "name": "stderr",
     "output_type": "stream",
     "text": [
      "\r",
      "generating 200109plc1p1 nucloc file:  66%|█████████████▉       | 119/180 [00:24<00:31,  1.96it/s]"
     ]
    },
    {
     "name": "stdout",
     "output_type": "stream",
     "text": [
      "dividing  200109plc1p1 120 ABalaappp ABalaapppa ABalaapppp\n",
      "dividing  200109plc1p1 120 ABaraaapp ABaraaappa ABaraaappp\n",
      "dividing  200109plc1p1 120 ABarappap ABarappapa ABarappapp\n",
      "dividing  200109plc1p1 120 ABarapppp ABarappppa ABarappppp\n",
      "dividing  200109plc1p1 120 ABarpapaa ABarpapaaa ABarpapaap\n",
      "dividing  200109plc1p1 120 ABarpapap ABarpapapa ABarpapapp\n",
      "dividing  200109plc1p1 120 ABarpappp ABarpapppa ABarpapppp\n",
      "dividing  200109plc1p1 120 ABplaaapp ABplaaappa ABplaaappp\n",
      "dividing  200109plc1p1 120 ABplapapa ABplapapaa ABplapapap\n",
      "dividing  200109plc1p1 120 ABplappap ABplappapa ABplappapp\n",
      "dividing  200109plc1p1 120 ABplpaapa ABplpaapaa ABplpaapap\n",
      "dividing  200109plc1p1 120 ABplpapap ABplpapapa ABplpapapp\n",
      "dividing  200109plc1p1 120 ABplpappp ABplpapppa ABplpapppp\n",
      "dividing  200109plc1p1 120 ABplpppaa ABplpppaaa ABplpppaap\n",
      "dividing  200109plc1p1 120 ABplppppa ABplppppaa ABplppppap\n",
      "dividing  200109plc1p1 120 ABplppppp ABplpppppa ABplpppppp\n",
      "dividing  200109plc1p1 120 ABpraaapa ABpraaapaa ABpraaapap\n",
      "dividing  200109plc1p1 120 ABprapaaa ABprapaaaa ABprapaaap\n",
      "dividing  200109plc1p1 120 ABprapapa ABprapapaa ABprapapap\n",
      "dividing  200109plc1p1 120 ABprpaaap ABprpaaapa ABprpaaapp\n",
      "dividing  200109plc1p1 120 MSaaaaa MSaaaaaa MSaaaaap\n"
     ]
    },
    {
     "name": "stderr",
     "output_type": "stream",
     "text": [
      "\r",
      "generating 200109plc1p1 nucloc file:  67%|██████████████       | 120/180 [00:25<00:32,  1.84it/s]"
     ]
    },
    {
     "name": "stdout",
     "output_type": "stream",
     "text": [
      "dividing  200109plc1p1 120 MSpaaap MSpaaapa MSpaaapp\n",
      "dividing  200109plc1p1 120 MSpapaa MSpapaaa MSpapaap\n",
      "dividing  200109plc1p1 120 Cpapp Cpappd Cpappv\n",
      "dividing  200109plc1p1 121 ABalaaaal ABalaaaala ABalaaaalp\n",
      "dividing  200109plc1p1 121 ABalappap ABalappapa ABalappapp\n",
      "dividing  200109plc1p1 121 ABalpppaa ABalpppaaa ABalpppaap\n",
      "dividing  200109plc1p1 121 ABarapppa ABarapppaa ABarapppap\n",
      "dividing  200109plc1p1 121 ABplaaaaa ABplaaaaaa ABplaaaaap\n",
      "dividing  200109plc1p1 121 ABplapaaa ABplapaaaa ABplapaaap\n",
      "dividing  200109plc1p1 121 ABplppapa ABplppapaa ABplppapap\n",
      "dividing  200109plc1p1 121 ABpraaaap ABpraaaapa ABpraaaapp\n",
      "dividing  200109plc1p1 121 ABprpaapa ABprpaapaa ABprpaapap\n",
      "dividing  200109plc1p1 121 ABprpapaa ABprpapaaa ABprpapaap\n",
      "dividing  200109plc1p1 121 MSaaapa MSaaapaa MSaaapap\n",
      "dividing  200109plc1p1 121 MSaapaa MSaapaaa MSaapaap\n",
      "dividing  200109plc1p1 121 MSpaaap MSpaaapa MSpaaapp\n"
     ]
    },
    {
     "name": "stderr",
     "output_type": "stream",
     "text": [
      "\r",
      "generating 200109plc1p1 nucloc file:  67%|██████████████       | 121/180 [00:25<00:34,  1.73it/s]"
     ]
    },
    {
     "name": "stdout",
     "output_type": "stream",
     "text": [
      "dividing  200109plc1p1 121 Eala Ealaa Ealap\n",
      "dividing  200109plc1p1 121 Cpapa Cpapaa Cpapap\n",
      "dividing  200109plc1p1 121 Cpapp Cpappd Cpappv\n",
      "dividing  200109plc1p1 122 ABalaaaal ABalaaaala ABalaaaalp\n",
      "dividing  200109plc1p1 122 ABarapaaa ABarapaaaa ABarapaaap\n",
      "dividing  200109plc1p1 122 ABarpppap ABarpppapa ABarpppapp\n",
      "dividing  200109plc1p1 122 ABplpapaa ABplpapaaa ABplpapaap\n",
      "dividing  200109plc1p1 122 ABplppapp ABplppappa ABplppappp\n",
      "dividing  200109plc1p1 122 ABprappap ABprappapa ABprappapp\n",
      "dividing  200109plc1p1 122 ABprppapa ABprppapaa ABprppapap\n"
     ]
    },
    {
     "name": "stderr",
     "output_type": "stream",
     "text": [
      "\r",
      "generating 200109plc1p1 nucloc file:  68%|██████████████▏      | 122/180 [00:26<00:34,  1.67it/s]"
     ]
    },
    {
     "name": "stdout",
     "output_type": "stream",
     "text": [
      "dividing  200109plc1p1 123 ABalapaap ABalapaapa ABalapaapp\n",
      "dividing  200109plc1p1 123 ABalapapa ABalapapaa ABalapapap\n",
      "dividing  200109plc1p1 123 ABarapaaa ABarapaaaa ABarapaaap\n",
      "dividing  200109plc1p1 123 ABplppapp ABplppappa ABplppappp\n",
      "dividing  200109plc1p1 123 ABprapaap ABprapaapa ABprapaapp\n",
      "dividing  200109plc1p1 123 MSaaaap MSaaaapa MSaaaapp\n"
     ]
    },
    {
     "name": "stderr",
     "output_type": "stream",
     "text": [
      "\r",
      "generating 200109plc1p1 nucloc file:  68%|██████████████▎      | 123/180 [00:27<00:34,  1.63it/s]"
     ]
    },
    {
     "name": "stdout",
     "output_type": "stream",
     "text": [
      "dividing  200109plc1p1 123 Ealp Ealpa Ealpp\n",
      "dividing  200109plc1p1 123 Eara Earaa Earap\n",
      "dividing  200109plc1p1 124 ABalaaaar ABalaaaarl ABalaaaarr\n",
      "dividing  200109plc1p1 124 ABarpappa ABarpappaa ABarpappap\n",
      "dividing  200109plc1p1 124 ABplppaap ABplppaapa ABplppaapp\n",
      "dividing  200109plc1p1 124 ABprappaa ABprappaaa ABprappaap\n"
     ]
    },
    {
     "name": "stderr",
     "output_type": "stream",
     "text": [
      "\r",
      "generating 200109plc1p1 nucloc file:  69%|██████████████▍      | 124/180 [00:27<00:34,  1.60it/s]"
     ]
    },
    {
     "name": "stdout",
     "output_type": "stream",
     "text": [
      "dividing  200109plc1p1 124 ABprppaap ABprppaapa ABprppaapp\n",
      "dividing  200109plc1p1 124 Ealp Ealpa Ealpp\n",
      "dividing  200109plc1p1 125 ABalaaaar ABalaaaarl ABalaaaarr\n",
      "dividing  200109plc1p1 125 ABalaapaa ABalaapaaa ABalaapaap\n",
      "dividing  200109plc1p1 125 ABalaapap ABalaapapa ABalaapapp\n",
      "dividing  200109plc1p1 125 ABalaappa ABalaappaa ABalaappap\n",
      "dividing  200109plc1p1 125 ABalapaaa ABalapaaaa ABalapaaap\n",
      "dividing  200109plc1p1 125 ABalpaaap ABalpaaapa ABalpaaapp\n",
      "dividing  200109plc1p1 125 ABarppppa ABarppppaa ABarppppap\n",
      "dividing  200109plc1p1 125 ABplapppa ABplapppaa ABplapppap\n",
      "dividing  200109plc1p1 125 ABpraaaaa ABpraaaaaa ABpraaaaap\n"
     ]
    },
    {
     "name": "stderr",
     "output_type": "stream",
     "text": [
      "\r",
      "generating 200109plc1p1 nucloc file:  69%|██████████████▌      | 125/180 [00:28<00:35,  1.56it/s]"
     ]
    },
    {
     "name": "stdout",
     "output_type": "stream",
     "text": [
      "dividing  200109plc1p1 125 MSpapap MSpapapa MSpapapp\n",
      "dividing  200109plc1p1 125 Epla Eplaa Eplap\n",
      "dividing  200109plc1p1 126 ABalapaaa ABalapaaaa ABalapaaap\n",
      "dividing  200109plc1p1 126 ABalppaap ABalppaapa ABalppaapp\n",
      "dividing  200109plc1p1 126 ABaraaaaa ABaraaaaaa ABaraaaaap\n",
      "dividing  200109plc1p1 126 ABarppaap ABarppaapa ABarppaapp\n",
      "dividing  200109plc1p1 126 ABarppapa ABarppapaa ABarppapap\n",
      "dividing  200109plc1p1 126 ABarpppaa ABarpppaaa ABarpppaap\n",
      "dividing  200109plc1p1 126 ABarppppa ABarppppaa ABarppppap\n",
      "dividing  200109plc1p1 126 ABarppppp ABarpppppa ABarpppppp\n",
      "dividing  200109plc1p1 126 ABplapppp ABplappppa ABplappppp\n",
      "dividing  200109plc1p1 126 ABplppaaa ABplppaaaa ABplppaaap\n",
      "dividing  200109plc1p1 126 ABpraaaaa ABpraaaaaa ABpraaaaap\n",
      "dividing  200109plc1p1 126 ABprapppp ABprappppa ABprappppp\n"
     ]
    },
    {
     "name": "stderr",
     "output_type": "stream",
     "text": [
      "\r",
      "generating 200109plc1p1 nucloc file:  70%|██████████████▋      | 126/180 [00:29<00:35,  1.51it/s]"
     ]
    },
    {
     "name": "stdout",
     "output_type": "stream",
     "text": [
      "dividing  200109plc1p1 126 MSpapap MSpapapa MSpapapp\n",
      "dividing  200109plc1p1 126 Earp Earpa Earpp\n",
      "dividing  200109plc1p1 126 Epla Eplaa Eplap\n",
      "dividing  200109plc1p1 127 ABalppaaa ABalppaaaa ABalppaaap\n",
      "dividing  200109plc1p1 127 ABarpaaaa ABarpaaaaa ABarpaaaap\n",
      "dividing  200109plc1p1 127 ABprapppa ABprapppaa ABprapppap\n",
      "dividing  200109plc1p1 127 MSpaapa MSpaapaa MSpaapap\n",
      "dividing  200109plc1p1 127 Earp Earpa Earpp\n",
      "dividing  200109plc1p1 127 Epra Epraa Eprap\n"
     ]
    },
    {
     "name": "stderr",
     "output_type": "stream",
     "text": [
      "\r",
      "generating 200109plc1p1 nucloc file:  71%|██████████████▊      | 127/180 [00:29<00:35,  1.48it/s]"
     ]
    },
    {
     "name": "stdout",
     "output_type": "stream",
     "text": [
      "dividing  200109plc1p1 127 Cpppa Cpppaa Cpppap\n",
      "dividing  200109plc1p1 127 Cpppp Cppppa Cppppp\n",
      "dividing  200109plc1p1 128 ABarppapp ABarppappa ABarppappp\n"
     ]
    },
    {
     "name": "stderr",
     "output_type": "stream",
     "text": [
      "\r",
      "generating 200109plc1p1 nucloc file:  71%|██████████████▉      | 128/180 [00:30<00:35,  1.46it/s]"
     ]
    },
    {
     "name": "stdout",
     "output_type": "stream",
     "text": [
      "dividing  200109plc1p1 128 Epra Epraa Eprap\n",
      "dividing  200109plc1p1 128 Cpppa Cpppaa Cpppap\n",
      "dividing  200109plc1p1 128 Cpppp Cppppa Cppppp\n",
      "dividing  200109plc1p1 129 ABarppaaa ABarppaaaa ABarppaaap\n",
      "dividing  200109plc1p1 129 ABprppaaa ABprppaaaa ABprppaaap\n",
      "dividing  200109plc1p1 129 Caapp Caappd Caappv\n",
      "dividing  200109plc1p1 129 Cpppa Cpppaa Cpppap\n"
     ]
    },
    {
     "name": "stderr",
     "output_type": "stream",
     "text": [
      "\r",
      "generating 200109plc1p1 nucloc file:  72%|███████████████      | 129/180 [00:31<00:35,  1.45it/s]"
     ]
    },
    {
     "name": "stdout",
     "output_type": "stream",
     "text": [
      "dividing  200109plc1p1 130 ABaraaaap ABaraaaapa ABaraaaapp\n",
      "dividing  200109plc1p1 130 ABarpaaap ABarpaaapa ABarpaaapp\n"
     ]
    },
    {
     "name": "stderr",
     "output_type": "stream",
     "text": [
      "\r",
      "generating 200109plc1p1 nucloc file:  72%|███████████████▏     | 130/180 [00:32<00:34,  1.43it/s]"
     ]
    },
    {
     "name": "stdout",
     "output_type": "stream",
     "text": [
      "dividing  200109plc1p1 130 MSaapap MSaapapa MSaapapp\n",
      "dividing  200109plc1p1 130 MSppapa MSppapaa MSppapap\n"
     ]
    },
    {
     "name": "stderr",
     "output_type": "stream",
     "text": [
      "\r",
      "generating 200109plc1p1 nucloc file:  73%|███████████████▎     | 131/180 [00:32<00:34,  1.43it/s]"
     ]
    },
    {
     "name": "stdout",
     "output_type": "stream",
     "text": [
      "dividing  200109plc1p1 131 MSaapap MSaapapa MSaapapp\n",
      "dividing  200109plc1p1 131 MSapaaa MSapaaaa MSapaaap\n",
      "dividing  200109plc1p1 131 Cppaa Cppaaa Cppaap\n"
     ]
    },
    {
     "name": "stderr",
     "output_type": "stream",
     "text": [
      "\r",
      "generating 200109plc1p1 nucloc file:  73%|███████████████▍     | 132/180 [00:33<00:33,  1.42it/s]"
     ]
    },
    {
     "name": "stdout",
     "output_type": "stream",
     "text": [
      "dividing  200109plc1p1 132 Cppaa Cppaaa Cppaap\n"
     ]
    },
    {
     "name": "stderr",
     "output_type": "stream",
     "text": [
      "\r",
      "generating 200109plc1p1 nucloc file:  74%|███████████████▌     | 133/180 [00:34<00:33,  1.41it/s]"
     ]
    },
    {
     "name": "stdout",
     "output_type": "stream",
     "text": [
      "dividing  200109plc1p1 133 MSppaaa MSppaaaa MSppaaap\n",
      "dividing  200109plc1p1 133 Eprp Eprpa Eprpp\n",
      "dividing  200109plc1p1 133 Cappa Cappaa Cappap\n"
     ]
    },
    {
     "name": "stderr",
     "output_type": "stream",
     "text": [
      "\r",
      "generating 200109plc1p1 nucloc file:  74%|███████████████▋     | 134/180 [00:34<00:32,  1.40it/s]"
     ]
    },
    {
     "name": "stdout",
     "output_type": "stream",
     "text": [
      "dividing  200109plc1p1 134 MSppaaa MSppaaaa MSppaaap\n",
      "dividing  200109plc1p1 134 Eprp Eprpa Eprpp\n",
      "dividing  200109plc1p1 134 Cappa Cappaa Cappap\n"
     ]
    },
    {
     "name": "stderr",
     "output_type": "stream",
     "text": [
      "\r",
      "generating 200109plc1p1 nucloc file:  75%|███████████████▊     | 135/180 [00:35<00:32,  1.38it/s]"
     ]
    },
    {
     "name": "stdout",
     "output_type": "stream",
     "text": [
      "dividing  200109plc1p1 135 Eplp Eplpa Eplpp\n",
      "dividing  200109plc1p1 135 Cappp Capppa Capppp\n",
      "dividing  200109plc1p1 135 Cppap Cppapa Cppapp\n"
     ]
    },
    {
     "name": "stderr",
     "output_type": "stream",
     "text": [
      "\r",
      "generating 200109plc1p1 nucloc file:  76%|███████████████▊     | 136/180 [00:36<00:32,  1.36it/s]"
     ]
    },
    {
     "name": "stdout",
     "output_type": "stream",
     "text": [
      "dividing  200109plc1p1 136 MSppapp MSppappa MSppappp\n",
      "dividing  200109plc1p1 136 Cappp Capppa Capppp\n",
      "dividing  200109plc1p1 136 Cppap Cppapa Cppapp\n"
     ]
    },
    {
     "name": "stderr",
     "output_type": "stream",
     "text": [
      "\r",
      "generating 200109plc1p1 nucloc file:  76%|███████████████▉     | 137/180 [00:37<00:31,  1.36it/s]"
     ]
    },
    {
     "name": "stdout",
     "output_type": "stream",
     "text": [
      "dividing  200109plc1p1 137 MSapapp MSapappa MSapappp\n",
      "dividing  200109plc1p1 137 MSppapp MSppappa MSppappp\n",
      "dividing  200109plc1p1 137 Cappp Capppa Capppp\n",
      "dividing  200109plc1p1 137 Cppap Cppapa Cppapp\n"
     ]
    },
    {
     "name": "stderr",
     "output_type": "stream",
     "text": [
      "\r",
      "generating 200109plc1p1 nucloc file:  77%|████████████████     | 138/180 [00:37<00:30,  1.36it/s]"
     ]
    },
    {
     "name": "stdout",
     "output_type": "stream",
     "text": [
      "dividing  200109plc1p1 138 MSapapp MSapappa MSapappp\n",
      "dividing  200109plc1p1 138 Capaa Capaaa Capaap\n",
      "dividing  200109plc1p1 138 Capap Capapa Capapp\n"
     ]
    },
    {
     "name": "stderr",
     "output_type": "stream",
     "text": [
      "\r",
      "generating 200109plc1p1 nucloc file:  77%|████████████████▏    | 139/180 [00:38<00:30,  1.36it/s]"
     ]
    },
    {
     "name": "stdout",
     "output_type": "stream",
     "text": [
      "dividing  200109plc1p1 139 Capap Capapa Capapp\n"
     ]
    },
    {
     "name": "stderr",
     "output_type": "stream",
     "text": [
      "generating 200109plc1p1 nucloc file:  79%|████████████████▌    | 142/180 [00:40<00:27,  1.37it/s]"
     ]
    },
    {
     "name": "stdout",
     "output_type": "stream",
     "text": [
      "dividing  200109plc1p1 142 MSppppa MSppppaa MSppppap\n"
     ]
    },
    {
     "name": "stderr",
     "output_type": "stream",
     "text": [
      "\r",
      "generating 200109plc1p1 nucloc file:  79%|████████████████▋    | 143/180 [00:41<00:27,  1.37it/s]"
     ]
    },
    {
     "name": "stdout",
     "output_type": "stream",
     "text": [
      "dividing  200109plc1p1 143 MSapaap MSapaapa MSapaapp\n",
      "dividing  200109plc1p1 143 MSapppa MSapppaa MSapppap\n",
      "dividing  200109plc1p1 144 MSaaapp MSaaappa MSaaappp\n",
      "dividing  200109plc1p1 144 MSpappp MSpapppa MSpapppp\n"
     ]
    },
    {
     "name": "stderr",
     "output_type": "stream",
     "text": [
      "generating 200109plc1p1 nucloc file:  81%|████████████████▉    | 145/180 [00:43<00:25,  1.36it/s]"
     ]
    },
    {
     "name": "stdout",
     "output_type": "stream",
     "text": [
      "dividing  200109plc1p1 145 MSppppp MSpppppa MSpppppp\n",
      "dividing  200109plc1p1 146 ABalpaapap ABalpaapapa ABalpaapapp\n"
     ]
    },
    {
     "name": "stderr",
     "output_type": "stream",
     "text": [
      "\r",
      "generating 200109plc1p1 nucloc file:  81%|█████████████████    | 146/180 [00:43<00:25,  1.34it/s]"
     ]
    },
    {
     "name": "stdout",
     "output_type": "stream",
     "text": [
      "dividing  200109plc1p1 146 MSapppp MSappppa MSappppp\n",
      "dividing  200109plc1p1 146 MSppppp MSpppppa MSpppppp\n",
      "dividing  200109plc1p1 147 ABpraaappp ABpraaapppa ABpraaapppp\n",
      "dividing  200109plc1p1 147 MSappaa MSappaaa MSappaap\n"
     ]
    },
    {
     "name": "stderr",
     "output_type": "stream",
     "text": [
      "\r",
      "generating 200109plc1p1 nucloc file:  82%|█████████████████▏   | 147/180 [00:44<00:24,  1.34it/s]"
     ]
    },
    {
     "name": "stdout",
     "output_type": "stream",
     "text": [
      "dividing  200109plc1p1 148 ABalpapppp ABalpappppa ABalpappppp\n"
     ]
    },
    {
     "name": "stderr",
     "output_type": "stream",
     "text": [
      "\r",
      "generating 200109plc1p1 nucloc file:  82%|█████████████████▎   | 148/180 [00:45<00:24,  1.33it/s]"
     ]
    },
    {
     "name": "stdout",
     "output_type": "stream",
     "text": [
      "dividing  200109plc1p1 148 MSpppaa MSpppaaa MSpppaap\n",
      "dividing  200109plc1p1 148 Dppp Dpppa Dpppp\n",
      "dividing  200109plc1p1 149 ABaraaapap ABaraaapapa ABaraaapapp\n",
      "dividing  200109plc1p1 149 ABarapappp ABarapapppa ABarapapppp\n",
      "dividing  200109plc1p1 149 MSaappp MSaapppa MSaapppp\n",
      "dividing  200109plc1p1 149 MSppaap MSppaapa MSppaapp\n",
      "dividing  200109plc1p1 149 MSpppaa MSpppaaa MSpppaap\n",
      "dividing  200109plc1p1 149 Dppp Dpppa Dpppp\n"
     ]
    },
    {
     "name": "stderr",
     "output_type": "stream",
     "text": [
      "\r",
      "generating 200109plc1p1 nucloc file:  83%|█████████████████▍   | 149/180 [00:46<00:23,  1.31it/s]"
     ]
    },
    {
     "name": "stdout",
     "output_type": "stream",
     "text": [
      "dividing  200109plc1p1 150 ABaraapapa ABaraapapaa ABaraapapap\n",
      "dividing  200109plc1p1 150 ABplpappaa ABplpappaaa ABplpappaap\n",
      "dividing  200109plc1p1 150 MSaappp MSaapppa MSaapppp\n",
      "dividing  200109plc1p1 150 MSappap MSappapa MSappapp\n",
      "dividing  200109plc1p1 150 MSppaap MSppaapa MSppaapp\n"
     ]
    },
    {
     "name": "stderr",
     "output_type": "stream",
     "text": [
      "\r",
      "generating 200109plc1p1 nucloc file:  83%|█████████████████▌   | 150/180 [00:46<00:23,  1.30it/s]"
     ]
    },
    {
     "name": "stdout",
     "output_type": "stream",
     "text": [
      "dividing  200109plc1p1 150 Dppp Dpppa Dpppp\n"
     ]
    },
    {
     "name": "stderr",
     "output_type": "stream",
     "text": [
      "\r",
      "generating 200109plc1p1 nucloc file:  84%|█████████████████▌   | 151/180 [00:47<00:22,  1.29it/s]"
     ]
    },
    {
     "name": "stdout",
     "output_type": "stream",
     "text": [
      "dividing  200109plc1p1 151 MSpppap MSpppapa MSpppapp\n",
      "dividing  200109plc1p1 151 Dppa Dppaa Dppap\n"
     ]
    },
    {
     "name": "stderr",
     "output_type": "stream",
     "text": [
      "\r",
      "generating 200109plc1p1 nucloc file:  84%|█████████████████▋   | 152/180 [00:48<00:21,  1.28it/s]"
     ]
    },
    {
     "name": "stdout",
     "output_type": "stream",
     "text": [
      "dividing  200109plc1p1 152 Dppa Dppaa Dppap\n",
      "dividing  200109plc1p1 153 ABaraapppa ABaraapppaa ABaraapppap\n"
     ]
    },
    {
     "name": "stderr",
     "output_type": "stream",
     "text": [
      "\r",
      "generating 200109plc1p1 nucloc file:  85%|█████████████████▊   | 153/180 [00:49<00:21,  1.28it/s]"
     ]
    },
    {
     "name": "stdout",
     "output_type": "stream",
     "text": [
      "dividing  200109plc1p1 153 MSpaaaap MSpaaaapa MSpaaaapp\n",
      "dividing  200109plc1p1 154 ABalpappap ABalpappapa ABalpappapp\n",
      "dividing  200109plc1p1 154 MSaaaaap MSaaaaapa MSaaaaapp\n",
      "dividing  200109plc1p1 154 MSpaaapp MSpaaappa MSpaaappp\n"
     ]
    },
    {
     "name": "stderr",
     "output_type": "stream",
     "text": [
      "\r",
      "generating 200109plc1p1 nucloc file:  86%|█████████████████▉   | 154/180 [00:50<00:20,  1.26it/s]"
     ]
    },
    {
     "name": "stdout",
     "output_type": "stream",
     "text": [
      "dividing  200109plc1p1 154 Daap Daapa Daapp\n",
      "dividing  200109plc1p1 154 Dapp Dappa Dappp\n",
      "dividing  200109plc1p1 155 ABprpppapa ABprpppapaa ABprpppapap\n",
      "dividing  200109plc1p1 155 MSpapaap MSpapaapa MSpapaapp\n"
     ]
    },
    {
     "name": "stderr",
     "output_type": "stream",
     "text": [
      "\r",
      "generating 200109plc1p1 nucloc file:  86%|██████████████████   | 155/180 [00:50<00:19,  1.25it/s]"
     ]
    },
    {
     "name": "stdout",
     "output_type": "stream",
     "text": [
      "dividing  200109plc1p1 155 Daaa Daaaa Daaap\n",
      "dividing  200109plc1p1 155 Dapa Dapaa Dapap\n",
      "dividing  200109plc1p1 156 ABprpppapa ABprpppapaa ABprpppapap\n",
      "dividing  200109plc1p1 156 MSaaapaa MSaaapaaa MSaaapaap\n"
     ]
    },
    {
     "name": "stderr",
     "output_type": "stream",
     "text": [
      "\r",
      "generating 200109plc1p1 nucloc file:  87%|██████████████████▏  | 156/180 [00:51<00:19,  1.25it/s]"
     ]
    },
    {
     "name": "stdout",
     "output_type": "stream",
     "text": [
      "dividing  200109plc1p1 156 Daaa Daaaa Daaap\n",
      "dividing  200109plc1p1 156 Dapa Dapaa Dapap\n",
      "dividing  200109plc1p1 156 Dpaa Dpaaa Dpaap\n",
      "dividing  200109plc1p1 157 ABalpaapaa ABalpaapaaa ABalpaapaap\n",
      "dividing  200109plc1p1 157 ABarapaapp ABarapaappa ABarapaappp\n"
     ]
    },
    {
     "name": "stderr",
     "output_type": "stream",
     "text": [
      "\r",
      "generating 200109plc1p1 nucloc file:  87%|██████████████████▎  | 157/180 [00:52<00:18,  1.22it/s]"
     ]
    },
    {
     "name": "stdout",
     "output_type": "stream",
     "text": [
      "dividing  200109plc1p1 157 MSpappa MSpappaa MSpappap\n",
      "dividing  200109plc1p1 157 Dpaa Dpaaa Dpaap\n",
      "dividing  200109plc1p1 158 ABalappppa ABalappppaa ABalappppap\n",
      "dividing  200109plc1p1 158 ABaraappap ABaraappapa ABaraappapp\n",
      "dividing  200109plc1p1 158 ABplpppapa ABplpppapaa ABplpppapap\n"
     ]
    },
    {
     "name": "stderr",
     "output_type": "stream",
     "text": [
      "\r",
      "generating 200109plc1p1 nucloc file:  88%|██████████████████▍  | 158/180 [00:53<00:18,  1.22it/s]"
     ]
    },
    {
     "name": "stdout",
     "output_type": "stream",
     "text": [
      "dividing  200109plc1p1 159 ABalapappa ABalapappaa ABalapappap\n",
      "dividing  200109plc1p1 159 ABalapppap ABalapppapa ABalapppapp\n",
      "dividing  200109plc1p1 159 ABalappppa ABalappppaa ABalappppap\n",
      "dividing  200109plc1p1 159 ABaraaapaa ABaraaapaaa ABaraaapaap\n",
      "dividing  200109plc1p1 159 MSaapaap MSaapaapa MSaapaapp\n",
      "dividing  200109plc1p1 159 MSpapaaa MSpapaaaa MSpapaaap\n"
     ]
    },
    {
     "name": "stderr",
     "output_type": "stream",
     "text": [
      "\r",
      "generating 200109plc1p1 nucloc file:  88%|██████████████████▌  | 159/180 [00:54<00:17,  1.20it/s]"
     ]
    },
    {
     "name": "stdout",
     "output_type": "stream",
     "text": [
      "dividing  200109plc1p1 160 ABalapppap ABalapppapa ABalapppapp\n",
      "dividing  200109plc1p1 160 ABalpppapp ABalpppappa ABalpppappp\n",
      "dividing  200109plc1p1 160 ABprpappaa ABprpappaaa ABprpappaap\n",
      "dividing  200109plc1p1 160 ABprpappap ABprpappapa ABprpappapp\n",
      "dividing  200109plc1p1 160 MSaapaap MSaapaapa MSaapaapp\n",
      "dividing  200109plc1p1 160 MSaappa MSaappaa MSaappap\n"
     ]
    },
    {
     "name": "stderr",
     "output_type": "stream",
     "text": [
      "\r",
      "generating 200109plc1p1 nucloc file:  89%|██████████████████▋  | 160/180 [00:55<00:16,  1.19it/s]"
     ]
    },
    {
     "name": "stdout",
     "output_type": "stream",
     "text": [
      "dividing  200109plc1p1 161 ABalpppapp ABalpppappa ABalpppappp\n",
      "dividing  200109plc1p1 161 ABpraapapp ABpraapappa ABpraapappp\n",
      "dividing  200109plc1p1 161 MSaaapap MSaaapapa MSaaapapp\n",
      "dividing  200109plc1p1 161 MSaapaaa MSaapaaaa MSaapaaap\n"
     ]
    },
    {
     "name": "stderr",
     "output_type": "stream",
     "text": [
      "\r",
      "generating 200109plc1p1 nucloc file:  89%|██████████████████▊  | 161/180 [00:55<00:16,  1.18it/s]"
     ]
    },
    {
     "name": "stdout",
     "output_type": "stream",
     "text": [
      "dividing  200109plc1p1 161 MSpaapap MSpaapapa MSpaapapp\n",
      "dividing  200109plc1p1 161 Dpap Dpapa Dpapp\n",
      "dividing  200109plc1p1 162 ABalpapaaa ABalpapaaaa ABalpapaaap\n",
      "dividing  200109plc1p1 162 ABaraapaap ABaraapaapa ABaraapaapp\n",
      "dividing  200109plc1p1 162 ABarapapap ABarapapapa ABarapapapp\n",
      "dividing  200109plc1p1 162 MSaapaaa MSaapaaaa MSaapaaap\n"
     ]
    },
    {
     "name": "stderr",
     "output_type": "stream",
     "text": [
      "\r",
      "generating 200109plc1p1 nucloc file:  90%|██████████████████▉  | 162/180 [00:56<00:15,  1.17it/s]"
     ]
    },
    {
     "name": "stdout",
     "output_type": "stream",
     "text": [
      "dividing  200109plc1p1 162 Dpap Dpapa Dpapp\n",
      "dividing  200109plc1p1 163 ABalaaapal ABalaaapall ABalaaapalr\n",
      "dividing  200109plc1p1 163 ABalaaappr ABalaaapprl ABalaaapprr\n",
      "dividing  200109plc1p1 163 ABalppppap ABalppppapa ABalppppapp\n",
      "dividing  200109plc1p1 163 ABplaapaap ABplaapaapa ABplaapaapp\n",
      "dividing  200109plc1p1 163 ABplpaaaap ABplpaaaapa ABplpaaaapp\n",
      "dividing  200109plc1p1 163 ABpraapaap ABpraapaapa ABpraapaapp\n",
      "dividing  200109plc1p1 163 ABprpaaaap ABprpaaaapa ABprpaaaapp\n",
      "dividing  200109plc1p1 163 MSaaaapa MSaaaapaa MSaaaapap\n"
     ]
    },
    {
     "name": "stderr",
     "output_type": "stream",
     "text": [
      "\r",
      "generating 200109plc1p1 nucloc file:  91%|███████████████████  | 163/180 [00:57<00:14,  1.14it/s]"
     ]
    },
    {
     "name": "stdout",
     "output_type": "stream",
     "text": [
      "dividing  200109plc1p1 164 ABalaaapal ABalaaapall ABalaaapalr\n",
      "dividing  200109plc1p1 164 ABalaapppp ABalaappppa ABalaappppp\n",
      "dividing  200109plc1p1 164 ABalppappp ABalppapppa ABalppapppp\n",
      "dividing  200109plc1p1 164 ABarappppp ABarapppppa ABarapppppp\n",
      "dividing  200109plc1p1 164 ABplpaappa ABplpaappaa ABplpaappap\n",
      "dividing  200109plc1p1 164 ABplpaappp ABplpaapppa ABplpaapppp\n",
      "dividing  200109plc1p1 164 ABprpapapa ABprpapapaa ABprpapapap\n",
      "dividing  200109plc1p1 164 ABprpppppp ABprppppppa ABprppppppp\n",
      "dividing  200109plc1p1 164 MSpapapp MSpapappa MSpapappp\n"
     ]
    },
    {
     "name": "stderr",
     "output_type": "stream",
     "text": [
      "\r",
      "generating 200109plc1p1 nucloc file:  91%|███████████████████▏ | 164/180 [00:58<00:14,  1.11it/s]"
     ]
    },
    {
     "name": "stdout",
     "output_type": "stream",
     "text": [
      "dividing  200109plc1p1 165 ABalaaapal ABalaaapall ABalaaapalr\n",
      "dividing  200109plc1p1 165 ABalaapppp ABalaappppa ABalaappppp\n",
      "dividing  200109plc1p1 165 ABalapaapp ABalapaappa ABalapaappp\n",
      "dividing  200109plc1p1 165 ABalapapap ABalapapapa ABalapapapp\n",
      "dividing  200109plc1p1 165 ABalappapp ABalappappa ABalappappp\n",
      "dividing  200109plc1p1 165 ABalpapapp ABalpapappa ABalpapappp\n",
      "dividing  200109plc1p1 165 ABalpppapa ABalpppapad ABalpppapav\n",
      "dividing  200109plc1p1 165 ABplpaaaaa ABplpaaaaaa ABplpaaaaap\n",
      "dividing  200109plc1p1 165 ABplpaaapp ABplpaaappa ABplpaaappp\n",
      "dividing  200109plc1p1 165 ABplppppap ABplppppapa ABplppppapp\n",
      "dividing  200109plc1p1 165 ABprpapapp ABprpapappa ABprpapappp\n",
      "dividing  200109plc1p1 165 ABprpapppp ABprpappppa ABprpappppp\n",
      "dividing  200109plc1p1 165 ABprpppppp ABprppppppa ABprppppppp\n",
      "dividing  200109plc1p1 165 MSpapapp MSpapappa MSpapappp\n"
     ]
    },
    {
     "name": "stderr",
     "output_type": "stream",
     "text": [
      "\r",
      "generating 200109plc1p1 nucloc file:  92%|███████████████████▎ | 165/180 [00:59<00:13,  1.08it/s]"
     ]
    },
    {
     "name": "stdout",
     "output_type": "stream",
     "text": [
      "dividing  200109plc1p1 166 ABalapppaa ABalapppaaa ABalapppaap\n",
      "dividing  200109plc1p1 166 ABalpapapa ABalpapapaa ABalpapapap\n",
      "dividing  200109plc1p1 166 ABalpapapp ABalpapappa ABalpapappp\n",
      "dividing  200109plc1p1 166 ABalppppaa ABalppppaad ABalppppaav\n",
      "dividing  200109plc1p1 166 ABplpaaapp ABplpaaappa ABplpaaappp\n",
      "dividing  200109plc1p1 166 ABplppaaaa ABplppaaaaa ABplppaaaap\n",
      "dividing  200109plc1p1 166 ABplppppap ABplppppapa ABplppppapp\n",
      "dividing  200109plc1p1 166 ABpraaappa ABpraaappaa ABpraaappap\n",
      "dividing  200109plc1p1 166 ABprpaaaaa ABprpaaaaaa ABprpaaaaap\n",
      "dividing  200109plc1p1 166 ABprpaappp ABprpaapppa ABprpaapppp\n",
      "dividing  200109plc1p1 166 ABprpapppa ABprpapppaa ABprpapppap\n",
      "dividing  200109plc1p1 166 ABprpapppp ABprpappppa ABprpappppp\n",
      "dividing  200109plc1p1 166 ABprppppaa ABprppppaaa ABprppppaap\n"
     ]
    },
    {
     "name": "stderr",
     "output_type": "stream",
     "text": [
      "\r",
      "generating 200109plc1p1 nucloc file:  92%|███████████████████▎ | 166/180 [01:00<00:13,  1.06it/s]"
     ]
    },
    {
     "name": "stdout",
     "output_type": "stream",
     "text": [
      "dividing  200109plc1p1 167 ABalpaappp ABalpaapppa ABalpaapppp\n",
      "dividing  200109plc1p1 167 ABalppapap ABalppapapa ABalppapapp\n",
      "dividing  200109plc1p1 167 ABalppppaa ABalppppaad ABalppppaav\n",
      "dividing  200109plc1p1 167 ABarappppa ABarappppaa ABarappppap\n",
      "dividing  200109plc1p1 167 ABplpaaapp ABplpaaappa ABplpaaappp\n",
      "dividing  200109plc1p1 167 ABplppapaa ABplppapaaa ABplppapaap\n",
      "dividing  200109plc1p1 167 ABpraaappa ABpraaappaa ABpraaappap\n"
     ]
    },
    {
     "name": "stderr",
     "output_type": "stream",
     "text": [
      "\r",
      "generating 200109plc1p1 nucloc file:  93%|███████████████████▍ | 167/180 [01:01<00:12,  1.06it/s]"
     ]
    },
    {
     "name": "stdout",
     "output_type": "stream",
     "text": [
      "dividing  200109plc1p1 168 ABalpappaa ABalpappaaa ABalpappaap\n",
      "dividing  200109plc1p1 168 ABalppappa ABalppappaa ABalppappap\n",
      "dividing  200109plc1p1 168 ABaraapaaa ABaraapaaaa ABaraapaaap\n",
      "dividing  200109plc1p1 168 ABplapaaap ABplapaaapa ABplapaaapp\n",
      "dividing  200109plc1p1 168 ABplpaapap ABplpaapapa ABplpaapapp\n",
      "dividing  200109plc1p1 168 ABplpapapa ABplpapapaa ABplpapapap\n",
      "dividing  200109plc1p1 168 ABplpapppa ABplpapppaa ABplpapppap\n",
      "dividing  200109plc1p1 168 ABpraaaapp ABpraaaappa ABpraaaappp\n",
      "dividing  200109plc1p1 168 ABprppaaaa ABprppaaaaa ABprppaaaap\n",
      "dividing  200109plc1p1 168 ABprppapaa ABprppapaaa ABprppapaap\n"
     ]
    },
    {
     "name": "stderr",
     "output_type": "stream",
     "text": [
      "\r",
      "generating 200109plc1p1 nucloc file:  93%|███████████████████▌ | 168/180 [01:02<00:11,  1.05it/s]"
     ]
    },
    {
     "name": "stdout",
     "output_type": "stream",
     "text": [
      "dividing  200109plc1p1 169 ABaraaappp ABaraaapppa ABaraaapppp\n",
      "dividing  200109plc1p1 169 ABarapapaa ABarapapaaa ABarapapaap\n",
      "dividing  200109plc1p1 169 ABplapppap ABplapppapa ABplapppapp\n",
      "dividing  200109plc1p1 169 ABplppppaa ABplppppaaa ABplppppaap\n",
      "dividing  200109plc1p1 169 ABplpppppp ABplppppppa ABplppppppp\n",
      "dividing  200109plc1p1 169 ABprpppaaa ABprpppaaaa ABprpppaaap\n"
     ]
    },
    {
     "name": "stderr",
     "output_type": "stream",
     "text": [
      "\r",
      "generating 200109plc1p1 nucloc file:  94%|███████████████████▋ | 169/180 [01:03<00:10,  1.03it/s]"
     ]
    },
    {
     "name": "stdout",
     "output_type": "stream",
     "text": [
      "dividing  200109plc1p1 170 ABaraappaa ABaraappaaa ABaraappaap\n",
      "dividing  200109plc1p1 170 ABarappapp ABarappappa ABarappappp\n",
      "dividing  200109plc1p1 170 ABarapppap ABarapppapa ABarapppapp\n",
      "dividing  200109plc1p1 170 ABplpaapaa ABplpaapaaa ABplpaapaap\n",
      "dividing  200109plc1p1 170 ABpraapaaa ABpraapaaaa ABpraapaaap\n",
      "dividing  200109plc1p1 170 ABprapaaap ABprapaaapa ABprapaaapp\n"
     ]
    },
    {
     "name": "stderr",
     "output_type": "stream",
     "text": [
      "\r",
      "generating 200109plc1p1 nucloc file:  94%|███████████████████▊ | 170/180 [01:04<00:09,  1.02it/s]"
     ]
    },
    {
     "name": "stdout",
     "output_type": "stream",
     "text": [
      "dividing  200109plc1p1 171 ABalaapapp ABalaapappa ABalaapappp\n",
      "dividing  200109plc1p1 171 ABalppapaa ABalppapaaa ABalppapaap\n",
      "dividing  200109plc1p1 171 ABarapppap ABarapppapa ABarapppapp\n",
      "dividing  200109plc1p1 171 ABplaapaaa ABplaapaaaa ABplaapaaap\n",
      "dividing  200109plc1p1 171 ABplpaapaa ABplpaapaaa ABplpaapaap\n",
      "dividing  200109plc1p1 171 ABplpppaaa ABplpppaaaa ABplpppaaap\n",
      "dividing  200109plc1p1 171 ABprpaapaa ABprpaapaaa ABprpaapaap\n",
      "dividing  200109plc1p1 171 ABprpaapap ABprpaapapa ABprpaapapp\n",
      "dividing  200109plc1p1 171 ABprpapaap ABprpapaapa ABprpapaapp\n",
      "dividing  200109plc1p1 171 MSaaaapp MSaaaappa MSaaaappp\n",
      "dividing  200109plc1p1 171 MSpaaapa MSpaaapaa MSpaaapap\n"
     ]
    },
    {
     "name": "stderr",
     "output_type": "stream",
     "text": [
      "\r",
      "generating 200109plc1p1 nucloc file:  95%|███████████████████▉ | 171/180 [01:05<00:08,  1.01it/s]"
     ]
    },
    {
     "name": "stdout",
     "output_type": "stream",
     "text": [
      "dividing  200109plc1p1 171 Cppppa Cppppaa Cppppap\n",
      "dividing  200109plc1p1 172 ABalaappap ABalaappapa ABalaappapp\n",
      "dividing  200109plc1p1 172 ABalpaaaaa ABalpaaaaaa ABalpaaaaap\n",
      "dividing  200109plc1p1 172 ABalppaapp ABalppaappa ABalppaappp\n",
      "dividing  200109plc1p1 172 ABarapaaaa ABarapaaaaa ABarapaaaap\n",
      "dividing  200109plc1p1 172 ABplpapppp ABplpappppa ABplpappppp\n",
      "dividing  200109plc1p1 172 ABpraaapap ABpraaapapa ABpraaapapp\n",
      "dividing  200109plc1p1 172 ABprpapaaa ABprpapaaaa ABprpapaaap\n",
      "dividing  200109plc1p1 172 ABprpppaap ABprpppaapa ABprpppaapp\n"
     ]
    },
    {
     "name": "stderr",
     "output_type": "stream",
     "text": [
      "\r",
      "generating 200109plc1p1 nucloc file:  96%|████████████████████ | 172/180 [01:06<00:08,  1.01s/it]"
     ]
    },
    {
     "name": "stdout",
     "output_type": "stream",
     "text": [
      "dividing  200109plc1p1 173 ABalapaaap ABalapaaapa ABalapaaapp\n",
      "dividing  200109plc1p1 173 ABarapaaaa ABarapaaaaa ABarapaaaap\n",
      "dividing  200109plc1p1 173 ABplppaapp ABplppaappa ABplppaappp\n",
      "dividing  200109plc1p1 173 ABplppappa ABplppappaa ABplppappap\n",
      "dividing  200109plc1p1 173 ABpraaaapa ABpraaaapad ABpraaaapav\n"
     ]
    },
    {
     "name": "stderr",
     "output_type": "stream",
     "text": [
      "\r",
      "generating 200109plc1p1 nucloc file:  96%|████████████████████▏| 173/180 [01:07<00:07,  1.03s/it]"
     ]
    },
    {
     "name": "stdout",
     "output_type": "stream",
     "text": [
      "dividing  200109plc1p1 173 Caapa Caapaa Caapap\n",
      "dividing  200109plc1p1 174 ABalppaaap ABalppaaapa ABalppaaapp\n",
      "dividing  200109plc1p1 174 ABalpppaaa ABalpppaaaa ABalpppaaap\n",
      "dividing  200109plc1p1 174 ABarapppaa ABarapppaaa ABarapppaap\n",
      "dividing  200109plc1p1 174 ABplppaapp ABplppaappa ABplppaappp\n",
      "dividing  200109plc1p1 174 ABplppappa ABplppappaa ABplppappap\n",
      "dividing  200109plc1p1 174 ABplpppaap ABplpppaapa ABplpppaapp\n",
      "dividing  200109plc1p1 174 ABpraapapa ABpraapapaa ABpraapapap\n",
      "dividing  200109plc1p1 174 ABprpppppa ABprpppppaa ABprpppppap\n",
      "dividing  200109plc1p1 174 MSaapapp MSaapappa MSaapappp\n"
     ]
    },
    {
     "name": "stderr",
     "output_type": "stream",
     "text": [
      "\r",
      "generating 200109plc1p1 nucloc file:  97%|████████████████████▎| 174/180 [01:08<00:06,  1.04s/it]"
     ]
    },
    {
     "name": "stdout",
     "output_type": "stream",
     "text": [
      "dividing  200109plc1p1 174 Cpppaa Cpppaaa Cpppaap\n",
      "dividing  200109plc1p1 175 ABalpapaap ABalpapaapa ABalpapaapp\n",
      "dividing  200109plc1p1 175 ABarapppaa ABarapppaaa ABarapppaap\n",
      "dividing  200109plc1p1 175 ABplpapaap ABplpapaapa ABplpapaapp\n",
      "dividing  200109plc1p1 175 ABprapaaaa ABprapaaaaa ABprapaaaap\n",
      "dividing  200109plc1p1 175 ABprpppppa ABprpppppaa ABprpppppap\n",
      "dividing  200109plc1p1 175 MSaapapp MSaapappa MSaapappp\n"
     ]
    },
    {
     "name": "stderr",
     "output_type": "stream",
     "text": [
      "\r",
      "generating 200109plc1p1 nucloc file:  97%|████████████████████▍| 175/180 [01:09<00:05,  1.05s/it]"
     ]
    },
    {
     "name": "stdout",
     "output_type": "stream",
     "text": [
      "dividing  200109plc1p1 176 ABalpaappa ABalpaappaa ABalpaappap\n",
      "dividing  200109plc1p1 176 ABarpapaaa ABarpapaaaa ABarpapaaap\n",
      "dividing  200109plc1p1 176 ABplpapaaa ABplpapaaaa ABplpapaaap\n"
     ]
    },
    {
     "name": "stderr",
     "output_type": "stream",
     "text": [
      "\r",
      "generating 200109plc1p1 nucloc file:  98%|████████████████████▌| 176/180 [01:10<00:04,  1.06s/it]"
     ]
    },
    {
     "name": "stdout",
     "output_type": "stream",
     "text": [
      "dividing  200109plc1p1 177 ABalaaapar ABalaaaparl ABalaaaparr\n",
      "dividing  200109plc1p1 177 ABalpaaaap ABalpaaaapa ABalpaaaapp\n",
      "dividing  200109plc1p1 177 ABpraaapaa ABpraaapaad ABpraaapaav\n",
      "dividing  200109plc1p1 177 ABprapppap ABprapppapa ABprapppapp\n",
      "dividing  200109plc1p1 177 ABprppaapa ABprppaapaa ABprppaapap\n",
      "dividing  200109plc1p1 177 ABprppappa ABprppappaa ABprppappap\n"
     ]
    },
    {
     "name": "stderr",
     "output_type": "stream",
     "text": [
      "\r",
      "generating 200109plc1p1 nucloc file:  98%|████████████████████▋| 177/180 [01:12<00:03,  1.07s/it]"
     ]
    },
    {
     "name": "stdout",
     "output_type": "stream",
     "text": [
      "dividing  200109plc1p1 178 ABarappaaa ABarappaaaa ABarappaaap\n"
     ]
    },
    {
     "name": "stderr",
     "output_type": "stream",
     "text": [
      "\r",
      "generating 200109plc1p1 nucloc file:  99%|████████████████████▊| 178/180 [01:13<00:02,  1.07s/it]"
     ]
    },
    {
     "name": "stdout",
     "output_type": "stream",
     "text": [
      "dividing  200109plc1p1 179 ABalaaaarr ABalaaaarra ABalaaaarrp\n",
      "dividing  200109plc1p1 179 ABalaapppa ABalaapppaa ABalaapppap\n",
      "dividing  200109plc1p1 179 ABplapappp ABplapapppa ABplapapppp\n",
      "dividing  200109plc1p1 179 MSpaaaaa MSpaaaaaa MSpaaaaap\n"
     ]
    },
    {
     "name": "stderr",
     "output_type": "stream",
     "text": [
      "\r",
      "generating 200109plc1p1 nucloc file:  99%|████████████████████▉| 179/180 [01:14<00:01,  1.08s/it]"
     ]
    },
    {
     "name": "stdout",
     "output_type": "stream",
     "text": [
      "dividing  200109plc1p1 180 ABaraaaaaa ABaraaaaaaa ABaraaaaaap\n",
      "dividing  200109plc1p1 180 ABarappaap ABarappaapa ABarappaapp\n",
      "dividing  200109plc1p1 180 ABplppaapa ABplppaapaa ABplppaapap\n",
      "dividing  200109plc1p1 180 ABplpppppa ABplpppppaa ABplpppppap\n",
      "dividing  200109plc1p1 180 ABpraaaaaa ABpraaaaaaa ABpraaaaaap\n"
     ]
    },
    {
     "name": "stderr",
     "output_type": "stream",
     "text": [
      "generating 200109plc1p1 nucloc file: 100%|█████████████████████| 180/180 [01:15<00:00,  2.39it/s]\n"
     ]
    },
    {
     "name": "stdout",
     "output_type": "stream",
     "text": [
      "constructing cell tree for  200113plc1p2\n"
     ]
    },
    {
     "name": "stderr",
     "output_type": "stream",
     "text": [
      "generating 200113plc1p2 nucloc file:   3%|▋                      | 6/187 [00:00<00:08, 22.12it/s]"
     ]
    },
    {
     "name": "stdout",
     "output_type": "stream",
     "text": [
      "dividing  200113plc1p2 2 AB ABa ABp\n",
      "dividing  200113plc1p2 3 AB ABa ABp\n",
      "dividing  200113plc1p2 5 P1 EMS P2\n"
     ]
    },
    {
     "name": "stderr",
     "output_type": "stream",
     "text": [
      "generating 200113plc1p2 nucloc file:   8%|█▊                    | 15/187 [00:00<00:08, 20.64it/s]"
     ]
    },
    {
     "name": "stdout",
     "output_type": "stream",
     "text": [
      "dividing  200113plc1p2 12 ABa ABal ABar\n",
      "dividing  200113plc1p2 12 ABp ABpl ABpr\n",
      "dividing  200113plc1p2 13 ABa ABal ABar\n",
      "dividing  200113plc1p2 13 ABp ABpl ABpr\n",
      "dividing  200113plc1p2 14 ABp ABpl ABpr\n",
      "dividing  200113plc1p2 15 EMS E MS\n"
     ]
    },
    {
     "name": "stderr",
     "output_type": "stream",
     "text": [
      "\r",
      "generating 200113plc1p2 nucloc file:  10%|██                    | 18/187 [00:00<00:08, 20.14it/s]"
     ]
    },
    {
     "name": "stdout",
     "output_type": "stream",
     "text": [
      "dividing  200113plc1p2 16 EMS E MS\n",
      "dividing  200113plc1p2 18 P2 P3 C\n"
     ]
    },
    {
     "name": "stderr",
     "output_type": "stream",
     "text": [
      "generating 200113plc1p2 nucloc file:  13%|██▉                   | 25/187 [00:01<00:09, 17.89it/s]"
     ]
    },
    {
     "name": "stdout",
     "output_type": "stream",
     "text": [
      "dividing  200113plc1p2 23 ABal ABala ABalp\n",
      "dividing  200113plc1p2 23 ABar ABara ABarp\n",
      "dividing  200113plc1p2 23 ABpl ABpla ABplp\n",
      "dividing  200113plc1p2 23 ABpr ABpra ABprp\n",
      "dividing  200113plc1p2 24 ABar ABara ABarp\n",
      "dividing  200113plc1p2 24 ABpl ABpla ABplp\n",
      "dividing  200113plc1p2 24 ABpr ABpra ABprp\n",
      "dividing  200113plc1p2 25 ABar ABara ABarp\n"
     ]
    },
    {
     "name": "stderr",
     "output_type": "stream",
     "text": [
      "generating 200113plc1p2 nucloc file:  16%|███▍                  | 29/187 [00:01<00:09, 16.82it/s]"
     ]
    },
    {
     "name": "stdout",
     "output_type": "stream",
     "text": [
      "dividing  200113plc1p2 28 MS MSa MSp\n",
      "dividing  200113plc1p2 29 MS MSa MSp\n",
      "dividing  200113plc1p2 29 E Ea Ep\n",
      "dividing  200113plc1p2 30 E Ea Ep\n",
      "dividing  200113plc1p2 31 C Ca Cp\n"
     ]
    },
    {
     "name": "stderr",
     "output_type": "stream",
     "text": [
      "generating 200113plc1p2 nucloc file:  18%|███▉                  | 33/187 [00:01<00:09, 15.94it/s]"
     ]
    },
    {
     "name": "stdout",
     "output_type": "stream",
     "text": [
      "dividing  200113plc1p2 32 C Ca Cp\n",
      "dividing  200113plc1p2 35 ABala ABalaa ABalap\n",
      "dividing  200113plc1p2 35 ABalp ABalpa ABalpp\n",
      "dividing  200113plc1p2 35 ABara ABaraa ABarap\n",
      "dividing  200113plc1p2 35 ABarp ABarpa ABarpp\n",
      "dividing  200113plc1p2 35 ABpla ABplaa ABplap\n"
     ]
    },
    {
     "name": "stderr",
     "output_type": "stream",
     "text": [
      "generating 200113plc1p2 nucloc file:  20%|████▎                 | 37/187 [00:02<00:11, 13.63it/s]"
     ]
    },
    {
     "name": "stdout",
     "output_type": "stream",
     "text": [
      "dividing  200113plc1p2 35 ABpra ABpraa ABprap\n",
      "dividing  200113plc1p2 36 ABpla ABplaa ABplap\n",
      "dividing  200113plc1p2 36 ABplp ABplpa ABplpp\n",
      "dividing  200113plc1p2 36 ABpra ABpraa ABprap\n",
      "dividing  200113plc1p2 36 ABprp ABprpa ABprpp\n",
      "dividing  200113plc1p2 36 P3 P4 D\n",
      "dividing  200113plc1p2 37 ABpla ABplaa ABplap\n"
     ]
    },
    {
     "name": "stderr",
     "output_type": "stream",
     "text": [
      "generating 200113plc1p2 nucloc file:  24%|█████▎                | 45/187 [00:02<00:11, 12.15it/s]"
     ]
    },
    {
     "name": "stdout",
     "output_type": "stream",
     "text": [
      "dividing  200113plc1p2 43 MSa MSaa MSap\n",
      "dividing  200113plc1p2 43 MSp MSpa MSpp\n",
      "dividing  200113plc1p2 44 MSa MSaa MSap\n",
      "dividing  200113plc1p2 44 MSp MSpa MSpp\n",
      "dividing  200113plc1p2 45 MSa MSaa MSap\n"
     ]
    },
    {
     "name": "stderr",
     "output_type": "stream",
     "text": [
      "generating 200113plc1p2 nucloc file:  26%|█████▊                | 49/187 [00:03<00:11, 11.76it/s]"
     ]
    },
    {
     "name": "stdout",
     "output_type": "stream",
     "text": [
      "dividing  200113plc1p2 48 Cp Cpa Cpp\n",
      "dividing  200113plc1p2 49 Ca Caa Cap\n",
      "dividing  200113plc1p2 50 Ca Caa Cap\n"
     ]
    },
    {
     "name": "stderr",
     "output_type": "stream",
     "text": [
      "\r",
      "generating 200113plc1p2 nucloc file:  27%|██████                | 51/187 [00:03<00:11, 11.58it/s]"
     ]
    },
    {
     "name": "stdout",
     "output_type": "stream",
     "text": [
      "dividing  200113plc1p2 52 ABalaa ABalaaa ABalaap\n",
      "dividing  200113plc1p2 52 ABaraa ABaraaa ABaraap\n",
      "dividing  200113plc1p2 52 ABarap ABarapa ABarapp\n",
      "dividing  200113plc1p2 52 ABplaa ABplaaa ABplaap\n",
      "dividing  200113plc1p2 52 ABplap ABplapa ABplapp\n",
      "dividing  200113plc1p2 53 ABalaa ABalaaa ABalaap\n",
      "dividing  200113plc1p2 53 ABalap ABalapa ABalapp\n",
      "dividing  200113plc1p2 53 ABalpa ABalpaa ABalpap\n",
      "dividing  200113plc1p2 53 ABalpp ABalppa ABalppp\n",
      "dividing  200113plc1p2 53 ABaraa ABaraaa ABaraap\n",
      "dividing  200113plc1p2 53 ABarpp ABarppa ABarppp\n",
      "dividing  200113plc1p2 53 ABplaa ABplaaa ABplaap\n",
      "dividing  200113plc1p2 53 ABplap ABplapa ABplapp\n",
      "dividing  200113plc1p2 53 ABplpa ABplpaa ABplpap\n",
      "dividing  200113plc1p2 53 ABpraa ABpraaa ABpraap\n",
      "dividing  200113plc1p2 53 ABprap ABprapa ABprapp\n",
      "dividing  200113plc1p2 53 ABprpp ABprppa ABprppp\n"
     ]
    },
    {
     "name": "stderr",
     "output_type": "stream",
     "text": [
      "\r",
      "generating 200113plc1p2 nucloc file:  28%|██████▏               | 53/187 [00:03<00:13, 10.14it/s]"
     ]
    },
    {
     "name": "stdout",
     "output_type": "stream",
     "text": [
      "dividing  200113plc1p2 54 ABalap ABalapa ABalapp\n",
      "dividing  200113plc1p2 54 ABalpa ABalpaa ABalpap\n",
      "dividing  200113plc1p2 54 ABalpp ABalppa ABalppp\n",
      "dividing  200113plc1p2 54 ABarpa ABarpaa ABarpap\n",
      "dividing  200113plc1p2 54 ABarpp ABarppa ABarppp\n",
      "dividing  200113plc1p2 54 ABplap ABplapa ABplapp\n",
      "dividing  200113plc1p2 54 ABplpa ABplpaa ABplpap\n",
      "dividing  200113plc1p2 54 ABplpp ABplppa ABplppp\n",
      "dividing  200113plc1p2 54 ABpraa ABpraaa ABpraap\n",
      "dividing  200113plc1p2 54 ABprpa ABprpaa ABprpap\n",
      "dividing  200113plc1p2 54 ABprpp ABprppa ABprppp\n",
      "dividing  200113plc1p2 55 ABalpa ABalpaa ABalpap\n",
      "dividing  200113plc1p2 55 ABalpp ABalppa ABalppp\n",
      "dividing  200113plc1p2 55 ABplpa ABplpaa ABplpap\n",
      "dividing  200113plc1p2 55 ABplpp ABplppa ABplppp\n",
      "dividing  200113plc1p2 55 ABpraa ABpraaa ABpraap\n"
     ]
    },
    {
     "name": "stderr",
     "output_type": "stream",
     "text": [
      "generating 200113plc1p2 nucloc file:  30%|██████▋               | 57/187 [00:04<00:14,  8.76it/s]"
     ]
    },
    {
     "name": "stdout",
     "output_type": "stream",
     "text": [
      "dividing  200113plc1p2 56 Ea Eal Ear\n",
      "dividing  200113plc1p2 57 Ea Eal Ear\n"
     ]
    },
    {
     "name": "stderr",
     "output_type": "stream",
     "text": [
      "generating 200113plc1p2 nucloc file:  32%|██████▉               | 59/187 [00:04<00:15,  8.41it/s]"
     ]
    },
    {
     "name": "stdout",
     "output_type": "stream",
     "text": [
      "dividing  200113plc1p2 58 Ep Epl Epr\n",
      "dividing  200113plc1p2 59 Ep Epl Epr\n"
     ]
    },
    {
     "name": "stderr",
     "output_type": "stream",
     "text": [
      "generating 200113plc1p2 nucloc file:  33%|███████▏              | 61/187 [00:04<00:15,  8.06it/s]"
     ]
    },
    {
     "name": "stdout",
     "output_type": "stream",
     "text": [
      "dividing  200113plc1p2 60 Ep Epl Epr\n",
      "dividing  200113plc1p2 61 MSaa MSaaa MSaap\n",
      "dividing  200113plc1p2 61 MSpa MSpaa MSpap\n",
      "dividing  200113plc1p2 61 D Da Dp\n"
     ]
    },
    {
     "name": "stderr",
     "output_type": "stream",
     "text": [
      "generating 200113plc1p2 nucloc file:  34%|███████▍              | 63/187 [00:04<00:16,  7.65it/s]"
     ]
    },
    {
     "name": "stdout",
     "output_type": "stream",
     "text": [
      "dividing  200113plc1p2 62 MSaa MSaaa MSaap\n",
      "dividing  200113plc1p2 62 MSap MSapa MSapp\n",
      "dividing  200113plc1p2 62 MSpa MSpaa MSpap\n",
      "dividing  200113plc1p2 62 D Da Dp\n",
      "dividing  200113plc1p2 63 MSap MSapa MSapp\n",
      "dividing  200113plc1p2 63 MSpp MSppa MSppp\n"
     ]
    },
    {
     "name": "stderr",
     "output_type": "stream",
     "text": [
      "generating 200113plc1p2 nucloc file:  35%|███████▋              | 65/187 [00:05<00:16,  7.59it/s]"
     ]
    },
    {
     "name": "stdout",
     "output_type": "stream",
     "text": [
      "dividing  200113plc1p2 64 MSap MSapa MSapp\n",
      "dividing  200113plc1p2 64 MSpp MSppa MSppp\n"
     ]
    },
    {
     "name": "stderr",
     "output_type": "stream",
     "text": [
      "generating 200113plc1p2 nucloc file:  38%|████████▎             | 71/187 [00:05<00:16,  7.14it/s]"
     ]
    },
    {
     "name": "stdout",
     "output_type": "stream",
     "text": [
      "dividing  200113plc1p2 70 Caa Caaa Caap\n",
      "dividing  200113plc1p2 70 Cpa Cpaa Cpap\n",
      "dividing  200113plc1p2 71 ABaraap ABaraapa ABaraapp\n",
      "dividing  200113plc1p2 71 ABplaaa ABplaaaa ABplaaap\n",
      "dividing  200113plc1p2 71 ABplaap ABplaapa ABplaapp\n",
      "dividing  200113plc1p2 71 ABplapa ABplapaa ABplapap\n",
      "dividing  200113plc1p2 71 Caa Caaa Caap\n"
     ]
    },
    {
     "name": "stderr",
     "output_type": "stream",
     "text": [
      "\r",
      "generating 200113plc1p2 nucloc file:  39%|████████▍             | 72/187 [00:06<00:18,  6.16it/s]"
     ]
    },
    {
     "name": "stdout",
     "output_type": "stream",
     "text": [
      "dividing  200113plc1p2 72 ABalapa ABalapaa ABalapap\n",
      "dividing  200113plc1p2 72 ABalapp ABalappa ABalappp\n",
      "dividing  200113plc1p2 72 ABalpap ABalpapa ABalpapp\n",
      "dividing  200113plc1p2 72 ABalppp ABalpppa ABalpppp\n",
      "dividing  200113plc1p2 72 ABaraaa ABaraaaa ABaraaap\n",
      "dividing  200113plc1p2 72 ABarapa ABarapaa ABarapap\n",
      "dividing  200113plc1p2 72 ABarapp ABarappa ABarappp\n",
      "dividing  200113plc1p2 72 ABarpaa ABarpaaa ABarpaap\n",
      "dividing  200113plc1p2 72 ABarpap ABarpapa ABarpapp\n",
      "dividing  200113plc1p2 72 ABarppa ABarppaa ABarppap\n",
      "dividing  200113plc1p2 72 ABarppp ABarpppa ABarpppp\n",
      "dividing  200113plc1p2 72 ABplaaa ABplaaaa ABplaaap\n",
      "dividing  200113plc1p2 72 ABplapp ABplappa ABplappp\n",
      "dividing  200113plc1p2 72 ABpraap ABpraapa ABpraapp\n",
      "dividing  200113plc1p2 72 ABprapa ABprapaa ABprapap\n",
      "dividing  200113plc1p2 72 ABprapp ABprappa ABprappp\n",
      "dividing  200113plc1p2 72 Cpp Cppa Cppp\n",
      "dividing  200113plc1p2 73 ABalaaa ABalaaaa ABalaaap\n",
      "dividing  200113plc1p2 73 ABalaap ABalaapa ABalaapp\n"
     ]
    },
    {
     "name": "stderr",
     "output_type": "stream",
     "text": [
      "\r",
      "generating 200113plc1p2 nucloc file:  39%|████████▌             | 73/187 [00:06<00:20,  5.46it/s]"
     ]
    },
    {
     "name": "stdout",
     "output_type": "stream",
     "text": [
      "dividing  200113plc1p2 73 ABalapp ABalappa ABalappp\n",
      "dividing  200113plc1p2 73 ABalpaa ABalpaaa ABalpaap\n",
      "dividing  200113plc1p2 73 ABalpap ABalpapa ABalpapp\n",
      "dividing  200113plc1p2 73 ABalppa ABalppaa ABalppap\n",
      "dividing  200113plc1p2 73 ABalppp ABalpppa ABalpppp\n",
      "dividing  200113plc1p2 73 ABarppp ABarpppa ABarpppp\n",
      "dividing  200113plc1p2 73 ABplapp ABplappa ABplappp\n",
      "dividing  200113plc1p2 73 ABplpaa ABplpaaa ABplpaap\n",
      "dividing  200113plc1p2 73 ABplpap ABplpapa ABplpapp\n",
      "dividing  200113plc1p2 73 ABpraaa ABpraaaa ABpraaap\n",
      "dividing  200113plc1p2 73 ABpraap ABpraapa ABpraapp\n",
      "dividing  200113plc1p2 73 ABprpap ABprpapa ABprpapp\n",
      "dividing  200113plc1p2 73 ABprppp ABprpppa ABprpppp\n"
     ]
    },
    {
     "name": "stderr",
     "output_type": "stream",
     "text": [
      "\r",
      "generating 200113plc1p2 nucloc file:  40%|████████▋             | 74/187 [00:06<00:22,  5.10it/s]"
     ]
    },
    {
     "name": "stdout",
     "output_type": "stream",
     "text": [
      "dividing  200113plc1p2 74 ABalaap ABalaapa ABalaapp\n",
      "dividing  200113plc1p2 74 ABalapp ABalappa ABalappp\n",
      "dividing  200113plc1p2 74 ABalppa ABalppaa ABalppap\n",
      "dividing  200113plc1p2 74 ABalppp ABalpppa ABalpppp\n",
      "dividing  200113plc1p2 74 ABplapp ABplappa ABplappp\n",
      "dividing  200113plc1p2 74 ABplpap ABplpapa ABplpapp\n",
      "dividing  200113plc1p2 74 ABplppp ABplpppa ABplpppp\n",
      "dividing  200113plc1p2 74 ABprpaa ABprpaaa ABprpaap\n",
      "dividing  200113plc1p2 74 ABprpap ABprpapa ABprpapp\n",
      "dividing  200113plc1p2 74 ABprppp ABprpppa ABprpppp\n",
      "dividing  200113plc1p2 74 Cap Capa Capp\n"
     ]
    },
    {
     "name": "stderr",
     "output_type": "stream",
     "text": [
      "\r",
      "generating 200113plc1p2 nucloc file:  40%|████████▊             | 75/187 [00:06<00:22,  5.02it/s]"
     ]
    },
    {
     "name": "stdout",
     "output_type": "stream",
     "text": [
      "dividing  200113plc1p2 75 ABplppa ABplppaa ABplppap\n",
      "dividing  200113plc1p2 75 ABprppa ABprppaa ABprppap\n"
     ]
    },
    {
     "name": "stderr",
     "output_type": "stream",
     "text": [
      "generating 200113plc1p2 nucloc file:  44%|█████████▋            | 82/187 [00:08<00:22,  4.77it/s]"
     ]
    },
    {
     "name": "stdout",
     "output_type": "stream",
     "text": [
      "dividing  200113plc1p2 82 MSaaa MSaaaa MSaaap\n",
      "dividing  200113plc1p2 82 MSaap MSaapa MSaapp\n",
      "dividing  200113plc1p2 82 MSpaa MSpaaa MSpaap\n",
      "dividing  200113plc1p2 82 MSpap MSpapa MSpapp\n"
     ]
    },
    {
     "name": "stderr",
     "output_type": "stream",
     "text": [
      "\r",
      "generating 200113plc1p2 nucloc file:  44%|█████████▊            | 83/187 [00:08<00:22,  4.72it/s]"
     ]
    },
    {
     "name": "stdout",
     "output_type": "stream",
     "text": [
      "dividing  200113plc1p2 83 MSapa MSapaa MSapap\n",
      "dividing  200113plc1p2 83 MSapp MSappa MSappp\n",
      "dividing  200113plc1p2 83 MSpap MSpapa MSpapp\n",
      "dividing  200113plc1p2 84 MSapa MSapaa MSapap\n"
     ]
    },
    {
     "name": "stderr",
     "output_type": "stream",
     "text": [
      "\r",
      "generating 200113plc1p2 nucloc file:  45%|█████████▉            | 84/187 [00:08<00:22,  4.67it/s]"
     ]
    },
    {
     "name": "stdout",
     "output_type": "stream",
     "text": [
      "dividing  200113plc1p2 84 MSppa MSppaa MSppap\n",
      "dividing  200113plc1p2 84 MSppp MSpppa MSpppp\n"
     ]
    },
    {
     "name": "stderr",
     "output_type": "stream",
     "text": [
      "\r",
      "generating 200113plc1p2 nucloc file:  45%|██████████            | 85/187 [00:08<00:22,  4.63it/s]"
     ]
    },
    {
     "name": "stdout",
     "output_type": "stream",
     "text": [
      "dividing  200113plc1p2 85 MSppa MSppaa MSppap\n",
      "dividing  200113plc1p2 85 MSppp MSpppa MSpppp\n",
      "dividing  200113plc1p2 85 P4 Z2 Z3\n"
     ]
    },
    {
     "name": "stderr",
     "output_type": "stream",
     "text": [
      "\r",
      "generating 200113plc1p2 nucloc file:  46%|██████████            | 86/187 [00:09<00:21,  4.65it/s]"
     ]
    },
    {
     "name": "stdout",
     "output_type": "stream",
     "text": [
      "dividing  200113plc1p2 86 P4 Z2 Z3\n",
      "dividing  200113plc1p2 87 P4 Z2 Z3\n"
     ]
    },
    {
     "name": "stderr",
     "output_type": "stream",
     "text": [
      "generating 200113plc1p2 nucloc file:  47%|██████████▎           | 88/187 [00:09<00:21,  4.65it/s]"
     ]
    },
    {
     "name": "stdout",
     "output_type": "stream",
     "text": [
      "dividing  200113plc1p2 88 Eal Eala Ealp\n"
     ]
    },
    {
     "name": "stderr",
     "output_type": "stream",
     "text": [
      "\r",
      "generating 200113plc1p2 nucloc file:  48%|██████████▍           | 89/187 [00:09<00:21,  4.58it/s]"
     ]
    },
    {
     "name": "stdout",
     "output_type": "stream",
     "text": [
      "dividing  200113plc1p2 89 Eal Eala Ealp\n",
      "dividing  200113plc1p2 89 Ear Eara Earp\n",
      "dividing  200113plc1p2 89 Da Daa Dap\n"
     ]
    },
    {
     "name": "stderr",
     "output_type": "stream",
     "text": [
      "\r",
      "generating 200113plc1p2 nucloc file:  48%|██████████▌           | 90/187 [00:10<00:21,  4.50it/s]"
     ]
    },
    {
     "name": "stdout",
     "output_type": "stream",
     "text": [
      "dividing  200113plc1p2 90 Ear Eara Earp\n",
      "dividing  200113plc1p2 90 Epl Epla Eplp\n",
      "dividing  200113plc1p2 90 Epr Epra Eprp\n",
      "dividing  200113plc1p2 90 Da Daa Dap\n"
     ]
    },
    {
     "name": "stderr",
     "output_type": "stream",
     "text": [
      "\r",
      "generating 200113plc1p2 nucloc file:  49%|██████████▋           | 91/187 [00:10<00:21,  4.45it/s]"
     ]
    },
    {
     "name": "stdout",
     "output_type": "stream",
     "text": [
      "dividing  200113plc1p2 91 Epr Epra Eprp\n",
      "dividing  200113plc1p2 91 Da Daa Dap\n",
      "dividing  200113plc1p2 91 Dp Dpa Dpp\n"
     ]
    },
    {
     "name": "stderr",
     "output_type": "stream",
     "text": [
      "\r",
      "generating 200113plc1p2 nucloc file:  49%|██████████▊           | 92/187 [00:10<00:21,  4.44it/s]"
     ]
    },
    {
     "name": "stdout",
     "output_type": "stream",
     "text": [
      "dividing  200113plc1p2 92 Dp Dpa Dpp\n"
     ]
    },
    {
     "name": "stderr",
     "output_type": "stream",
     "text": [
      "\r",
      "generating 200113plc1p2 nucloc file:  50%|██████████▉           | 93/187 [00:10<00:21,  4.45it/s]"
     ]
    },
    {
     "name": "stdout",
     "output_type": "stream",
     "text": [
      "dividing  200113plc1p2 94 ABalpapp ABalpappa ABalpappp\n",
      "dividing  200113plc1p2 94 ABaraapa ABaraapaa ABaraapap\n",
      "dividing  200113plc1p2 94 ABaraapp ABaraappa ABaraappp\n",
      "dividing  200113plc1p2 94 ABarapap ABarapapa ABarapapp\n",
      "dividing  200113plc1p2 94 ABarpaap ABarpaapa ABarpaapp\n",
      "dividing  200113plc1p2 94 ABplaapa ABplaapaa ABplaapap\n",
      "dividing  200113plc1p2 94 ABplaapp ABplaappa ABplaappp\n",
      "dividing  200113plc1p2 94 ABplapap ABplapapa ABplapapp\n",
      "dividing  200113plc1p2 94 Cpaa Cpaaa Cpaap\n"
     ]
    },
    {
     "name": "stderr",
     "output_type": "stream",
     "text": [
      "\r",
      "generating 200113plc1p2 nucloc file:  50%|███████████           | 94/187 [00:10<00:22,  4.19it/s]"
     ]
    },
    {
     "name": "stdout",
     "output_type": "stream",
     "text": [
      "dividing  200113plc1p2 95 ABalpaap ABalpaapa ABalpaapp\n",
      "dividing  200113plc1p2 95 ABalpppp ABalppppa ABalppppp\n",
      "dividing  200113plc1p2 95 ABaraaap ABaraaapa ABaraaapp\n",
      "dividing  200113plc1p2 95 ABaraapa ABaraapaa ABaraapap\n",
      "dividing  200113plc1p2 95 ABarapap ABarapapa ABarapapp\n",
      "dividing  200113plc1p2 95 ABplaaaa ABplaaaaa ABplaaaap\n",
      "dividing  200113plc1p2 95 ABplaapa ABplaapaa ABplaapap\n",
      "dividing  200113plc1p2 95 ABplaapp ABplaappa ABplaappp\n",
      "dividing  200113plc1p2 95 ABplapap ABplapapa ABplapapp\n",
      "dividing  200113plc1p2 95 ABpraapp ABpraappa ABpraappp\n",
      "dividing  200113plc1p2 95 Caaa Caaaa Caaap\n"
     ]
    },
    {
     "name": "stderr",
     "output_type": "stream",
     "text": [
      "\r",
      "generating 200113plc1p2 nucloc file:  51%|███████████▏          | 95/187 [00:11<00:23,  3.93it/s]"
     ]
    },
    {
     "name": "stdout",
     "output_type": "stream",
     "text": [
      "dividing  200113plc1p2 95 Cpap Cpapa Cpapp\n",
      "dividing  200113plc1p2 96 ABalappp ABalapppa ABalapppp\n",
      "dividing  200113plc1p2 96 ABalpaap ABalpaapa ABalpaapp\n",
      "dividing  200113plc1p2 96 ABalpapa ABalpapaa ABalpapap\n",
      "dividing  200113plc1p2 96 ABalpppa ABalpppaa ABalpppap\n",
      "dividing  200113plc1p2 96 ABalpppp ABalppppa ABalppppp\n",
      "dividing  200113plc1p2 96 ABaraaap ABaraaapa ABaraaapp\n",
      "dividing  200113plc1p2 96 ABarapaa ABarapaaa ABarapaap\n",
      "dividing  200113plc1p2 96 ABarappp ABarapppa ABarapppp\n",
      "dividing  200113plc1p2 96 ABplaaaa ABplaaaaa ABplaaaap\n",
      "dividing  200113plc1p2 96 ABplaaap ABplaaapa ABplaaapp\n",
      "dividing  200113plc1p2 96 ABplpaaa ABplpaaaa ABplpaaap\n",
      "dividing  200113plc1p2 96 ABplpaap ABplpaapa ABplpaapp\n"
     ]
    },
    {
     "name": "stderr",
     "output_type": "stream",
     "text": [
      "\r",
      "generating 200113plc1p2 nucloc file:  51%|███████████▎          | 96/187 [00:11<00:25,  3.62it/s]"
     ]
    },
    {
     "name": "stdout",
     "output_type": "stream",
     "text": [
      "dividing  200113plc1p2 96 ABplpapp ABplpappa ABplpappp\n",
      "dividing  200113plc1p2 96 ABpraaap ABpraaapa ABpraaapp\n",
      "dividing  200113plc1p2 96 ABpraapa ABpraapaa ABpraapap\n",
      "dividing  200113plc1p2 96 ABprapap ABprapapa ABprapapp\n",
      "dividing  200113plc1p2 96 ABprpapp ABprpappa ABprpappp\n",
      "dividing  200113plc1p2 97 ABalapap ABalapapa ABalapapp\n",
      "dividing  200113plc1p2 97 ABalappp ABalapppa ABalapppp\n",
      "dividing  200113plc1p2 97 ABalpapa ABalpapaa ABalpapap\n",
      "dividing  200113plc1p2 97 ABalppap ABalppapa ABalppapp\n",
      "dividing  200113plc1p2 97 ABalpppa ABalpppaa ABalpppap\n",
      "dividing  200113plc1p2 97 ABarappp ABarapppa ABarapppp\n",
      "dividing  200113plc1p2 97 ABarpapa ABarpapaa ABarpapap\n",
      "dividing  200113plc1p2 97 ABplaaaa ABplaaaaa ABplaaaap\n",
      "dividing  200113plc1p2 97 ABplaaap ABplaaapa ABplaaapp\n",
      "dividing  200113plc1p2 97 ABplapaa ABplapaaa ABplapaap\n",
      "dividing  200113plc1p2 97 ABplappa ABplappaa ABplappap\n",
      "dividing  200113plc1p2 97 ABplpaaa ABplpaaaa ABplpaaap\n",
      "dividing  200113plc1p2 97 ABplpapa ABplpapaa ABplpapap\n",
      "dividing  200113plc1p2 97 ABplpppp ABplppppa ABplppppp\n",
      "dividing  200113plc1p2 97 ABpraapa ABpraapaa ABpraapap\n",
      "dividing  200113plc1p2 97 ABprpapa ABprpapaa ABprpapap\n",
      "dividing  200113plc1p2 97 ABprpppa ABprpppaa ABprpppap\n",
      "dividing  200113plc1p2 97 ABprpppp ABprppppa ABprppppp\n"
     ]
    },
    {
     "name": "stderr",
     "output_type": "stream",
     "text": [
      "\r",
      "generating 200113plc1p2 nucloc file:  52%|███████████▍          | 97/187 [00:11<00:26,  3.36it/s]"
     ]
    },
    {
     "name": "stdout",
     "output_type": "stream",
     "text": [
      "dividing  200113plc1p2 98 ABalaapp ABalaappa ABalaappp\n",
      "dividing  200113plc1p2 98 ABaraaaa ABaraaaaa ABaraaaap\n",
      "dividing  200113plc1p2 98 ABarappa ABarappaa ABarappap\n",
      "dividing  200113plc1p2 98 ABarpapp ABarpappa ABarpappp\n",
      "dividing  200113plc1p2 98 ABarpppa ABarpppaa ABarpppap\n",
      "dividing  200113plc1p2 98 ABplappa ABplappaa ABplappap\n",
      "dividing  200113plc1p2 98 ABplpppa ABplpppaa ABplpppap\n",
      "dividing  200113plc1p2 98 ABplpppp ABplppppa ABplppppp\n",
      "dividing  200113plc1p2 98 ABprappa ABprappaa ABprappap\n",
      "dividing  200113plc1p2 98 ABprpaaa ABprpaaaa ABprpaaap\n",
      "dividing  200113plc1p2 98 ABprpaap ABprpaapa ABprpaapp\n"
     ]
    },
    {
     "name": "stderr",
     "output_type": "stream",
     "text": [
      "\r",
      "generating 200113plc1p2 nucloc file:  52%|███████████▌          | 98/187 [00:12<00:28,  3.16it/s]"
     ]
    },
    {
     "name": "stdout",
     "output_type": "stream",
     "text": [
      "dividing  200113plc1p2 98 ABprpppp ABprppppa ABprppppp\n",
      "dividing  200113plc1p2 99 ABalappa ABalappaa ABalappap\n",
      "dividing  200113plc1p2 99 ABarpaaa ABarpaaaa ABarpaaap\n",
      "dividing  200113plc1p2 99 ABarppaa ABarppaaa ABarppaap\n",
      "dividing  200113plc1p2 99 ABplappp ABplapppa ABplapppp\n",
      "dividing  200113plc1p2 99 ABplppap ABplppapa ABplppapp\n",
      "dividing  200113plc1p2 99 ABpraaaa ABpraaaaa ABpraaaap\n"
     ]
    },
    {
     "name": "stderr",
     "output_type": "stream",
     "text": [
      "\r",
      "generating 200113plc1p2 nucloc file:  53%|███████████▋          | 99/187 [00:12<00:29,  3.03it/s]"
     ]
    },
    {
     "name": "stdout",
     "output_type": "stream",
     "text": [
      "dividing  200113plc1p2 100 ABalaapa ABalaapaa ABalaapap\n",
      "dividing  200113plc1p2 100 ABalppaa ABalppaaa ABalppaap\n",
      "dividing  200113plc1p2 100 ABarpaaa ABarpaaaa ABarpaaap\n",
      "dividing  200113plc1p2 100 ABarppap ABarppapa ABarppapp\n",
      "dividing  200113plc1p2 100 ABarpppp ABarppppa ABarppppp\n",
      "dividing  200113plc1p2 100 ABplppap ABplppapa ABplppapp\n"
     ]
    },
    {
     "name": "stderr",
     "output_type": "stream",
     "text": [
      "\r",
      "generating 200113plc1p2 nucloc file:  53%|███████████▏         | 100/187 [00:13<00:30,  2.90it/s]"
     ]
    },
    {
     "name": "stdout",
     "output_type": "stream",
     "text": [
      "dividing  200113plc1p2 100 ABprappp ABprapppa ABprapppp\n",
      "dividing  200113plc1p2 100 ABprppap ABprppapa ABprppapp\n",
      "dividing  200113plc1p2 101 ABalaaaa ABalaaaal ABalaaaar\n",
      "dividing  200113plc1p2 101 ABalaapa ABalaapaa ABalaapap\n",
      "dividing  200113plc1p2 101 ABalppaa ABalppaaa ABalppaap\n",
      "dividing  200113plc1p2 101 ABarppap ABarppapa ABarppapp\n",
      "dividing  200113plc1p2 101 ABplppaa ABplppaaa ABplppaap\n",
      "dividing  200113plc1p2 101 ABplppap ABplppapa ABplppapp\n",
      "dividing  200113plc1p2 101 Caap Caapa Caapp\n"
     ]
    },
    {
     "name": "stderr",
     "output_type": "stream",
     "text": [
      "\r",
      "generating 200113plc1p2 nucloc file:  54%|███████████▎         | 101/187 [00:13<00:30,  2.78it/s]"
     ]
    },
    {
     "name": "stdout",
     "output_type": "stream",
     "text": [
      "dividing  200113plc1p2 101 Cppp Cpppa Cpppp\n"
     ]
    },
    {
     "name": "stderr",
     "output_type": "stream",
     "text": [
      "\r",
      "generating 200113plc1p2 nucloc file:  55%|███████████▍         | 102/187 [00:13<00:30,  2.80it/s]"
     ]
    },
    {
     "name": "stdout",
     "output_type": "stream",
     "text": [
      "dividing  200113plc1p2 102 Cppp Cpppa Cpppp\n"
     ]
    },
    {
     "name": "stderr",
     "output_type": "stream",
     "text": [
      "\r",
      "generating 200113plc1p2 nucloc file:  55%|███████████▌         | 103/187 [00:14<00:30,  2.80it/s]"
     ]
    },
    {
     "name": "stdout",
     "output_type": "stream",
     "text": [
      "dividing  200113plc1p2 103 ABprppaa ABprppaaa ABprppaap\n"
     ]
    },
    {
     "name": "stderr",
     "output_type": "stream",
     "text": [
      "\r",
      "generating 200113plc1p2 nucloc file:  56%|███████████▋         | 104/187 [00:14<00:30,  2.76it/s]"
     ]
    },
    {
     "name": "stdout",
     "output_type": "stream",
     "text": [
      "dividing  200113plc1p2 104 MSaaaa MSaaaaa MSaaaap\n",
      "dividing  200113plc1p2 104 MSaapa MSaapaa MSaapap\n",
      "dividing  200113plc1p2 104 MSpaaa MSpaaaa MSpaaap\n"
     ]
    },
    {
     "name": "stderr",
     "output_type": "stream",
     "text": [
      "\r",
      "generating 200113plc1p2 nucloc file:  56%|███████████▊         | 105/187 [00:14<00:29,  2.74it/s]"
     ]
    },
    {
     "name": "stdout",
     "output_type": "stream",
     "text": [
      "dividing  200113plc1p2 105 MSpaaa MSpaaaa MSpaaap\n",
      "dividing  200113plc1p2 105 MSpapa MSpapaa MSpapap\n"
     ]
    },
    {
     "name": "stderr",
     "output_type": "stream",
     "text": [
      "\r",
      "generating 200113plc1p2 nucloc file:  57%|███████████▉         | 106/187 [00:15<00:29,  2.72it/s]"
     ]
    },
    {
     "name": "stdout",
     "output_type": "stream",
     "text": [
      "dividing  200113plc1p2 106 MSaaap MSaaapa MSaaapp\n",
      "dividing  200113plc1p2 106 MSpaaa MSpaaaa MSpaaap\n",
      "dividing  200113plc1p2 106 MSpapa MSpapaa MSpapap\n"
     ]
    },
    {
     "name": "stderr",
     "output_type": "stream",
     "text": [
      "\r",
      "generating 200113plc1p2 nucloc file:  57%|████████████         | 107/187 [00:15<00:29,  2.70it/s]"
     ]
    },
    {
     "name": "stdout",
     "output_type": "stream",
     "text": [
      "dividing  200113plc1p2 107 Cppa Cppaa Cppap\n"
     ]
    },
    {
     "name": "stderr",
     "output_type": "stream",
     "text": [
      "\r",
      "generating 200113plc1p2 nucloc file:  58%|████████████▏        | 108/187 [00:16<00:29,  2.67it/s]"
     ]
    },
    {
     "name": "stdout",
     "output_type": "stream",
     "text": [
      "dividing  200113plc1p2 108 MSapaa MSapaaa MSapaap\n",
      "dividing  200113plc1p2 108 MSapap MSapapa MSapapp\n",
      "dividing  200113plc1p2 108 MSpaap MSpaapa MSpaapp\n",
      "dividing  200113plc1p2 108 Cppa Cppaa Cppap\n"
     ]
    },
    {
     "name": "stderr",
     "output_type": "stream",
     "text": [
      "\r",
      "generating 200113plc1p2 nucloc file:  58%|████████████▏        | 109/187 [00:16<00:29,  2.64it/s]"
     ]
    },
    {
     "name": "stdout",
     "output_type": "stream",
     "text": [
      "dividing  200113plc1p2 109 MSaapp MSaappa MSaappp\n",
      "dividing  200113plc1p2 109 MSpaap MSpaapa MSpaapp\n",
      "dividing  200113plc1p2 109 MSpapp MSpappa MSpappp\n",
      "dividing  200113plc1p2 109 Capa Capaa Capap\n",
      "dividing  200113plc1p2 109 Cppa Cppaa Cppap\n"
     ]
    },
    {
     "name": "stderr",
     "output_type": "stream",
     "text": [
      "\r",
      "generating 200113plc1p2 nucloc file:  59%|████████████▎        | 110/187 [00:16<00:29,  2.62it/s]"
     ]
    },
    {
     "name": "stdout",
     "output_type": "stream",
     "text": [
      "dividing  200113plc1p2 110 MSpaap MSpaapa MSpaapp\n",
      "dividing  200113plc1p2 110 MSppaa MSppaaa MSppaap\n",
      "dividing  200113plc1p2 110 MSppap MSppapa MSppapp\n"
     ]
    },
    {
     "name": "stderr",
     "output_type": "stream",
     "text": [
      "\r",
      "generating 200113plc1p2 nucloc file:  59%|████████████▍        | 111/187 [00:17<00:29,  2.61it/s]"
     ]
    },
    {
     "name": "stdout",
     "output_type": "stream",
     "text": [
      "dividing  200113plc1p2 111 MSppap MSppapa MSppapp\n"
     ]
    },
    {
     "name": "stderr",
     "output_type": "stream",
     "text": [
      "generating 200113plc1p2 nucloc file:  60%|████████████▋        | 113/187 [00:17<00:28,  2.61it/s]"
     ]
    },
    {
     "name": "stdout",
     "output_type": "stream",
     "text": [
      "dividing  200113plc1p2 113 MSpppa MSpppaa MSpppap\n"
     ]
    },
    {
     "name": "stderr",
     "output_type": "stream",
     "text": [
      "\r",
      "generating 200113plc1p2 nucloc file:  61%|████████████▊        | 114/187 [00:18<00:28,  2.58it/s]"
     ]
    },
    {
     "name": "stdout",
     "output_type": "stream",
     "text": [
      "dividing  200113plc1p2 114 MSappa MSappaa MSappap\n",
      "dividing  200113plc1p2 114 MSappp MSapppa MSapppp\n",
      "dividing  200113plc1p2 114 MSpppa MSpppaa MSpppap\n",
      "dividing  200113plc1p2 114 MSpppp MSppppa MSppppp\n"
     ]
    },
    {
     "name": "stderr",
     "output_type": "stream",
     "text": [
      "\r",
      "generating 200113plc1p2 nucloc file:  61%|████████████▉        | 115/187 [00:18<00:27,  2.57it/s]"
     ]
    },
    {
     "name": "stdout",
     "output_type": "stream",
     "text": [
      "dividing  200113plc1p2 115 MSappa MSappaa MSappap\n",
      "dividing  200113plc1p2 115 MSappp MSapppa MSapppp\n"
     ]
    },
    {
     "name": "stderr",
     "output_type": "stream",
     "text": [
      "\r",
      "generating 200113plc1p2 nucloc file:  62%|█████████████        | 116/187 [00:19<00:27,  2.57it/s]"
     ]
    },
    {
     "name": "stdout",
     "output_type": "stream",
     "text": [
      "dividing  200113plc1p2 116 MSappp MSapppa MSapppp\n"
     ]
    },
    {
     "name": "stderr",
     "output_type": "stream",
     "text": [
      "\r",
      "generating 200113plc1p2 nucloc file:  63%|█████████████▏       | 117/187 [00:19<00:27,  2.57it/s]"
     ]
    },
    {
     "name": "stdout",
     "output_type": "stream",
     "text": [
      "dividing  200113plc1p2 117 Dap Dapa Dapp\n"
     ]
    },
    {
     "name": "stderr",
     "output_type": "stream",
     "text": [
      "\r",
      "generating 200113plc1p2 nucloc file:  63%|█████████████▎       | 118/187 [00:19<00:26,  2.57it/s]"
     ]
    },
    {
     "name": "stdout",
     "output_type": "stream",
     "text": [
      "dividing  200113plc1p2 118 Dap Dapa Dapp\n"
     ]
    },
    {
     "name": "stderr",
     "output_type": "stream",
     "text": [
      "\r",
      "generating 200113plc1p2 nucloc file:  64%|█████████████▎       | 119/187 [00:20<00:26,  2.58it/s]"
     ]
    },
    {
     "name": "stdout",
     "output_type": "stream",
     "text": [
      "dividing  200113plc1p2 119 Dap Dapa Dapp\n"
     ]
    },
    {
     "name": "stderr",
     "output_type": "stream",
     "text": [
      "\r",
      "generating 200113plc1p2 nucloc file:  64%|█████████████▍       | 120/187 [00:20<00:26,  2.56it/s]"
     ]
    },
    {
     "name": "stdout",
     "output_type": "stream",
     "text": [
      "dividing  200113plc1p2 120 Dpp Dppa Dppp\n",
      "dividing  200113plc1p2 121 ABalpappa ABalpappaa ABalpappap\n",
      "dividing  200113plc1p2 121 ABalpappp ABalpapppa ABalpapppp\n",
      "dividing  200113plc1p2 121 ABalppppp ABalpppppa ABalpppppp\n"
     ]
    },
    {
     "name": "stderr",
     "output_type": "stream",
     "text": [
      "\r",
      "generating 200113plc1p2 nucloc file:  65%|█████████████▌       | 121/187 [00:21<00:26,  2.51it/s]"
     ]
    },
    {
     "name": "stdout",
     "output_type": "stream",
     "text": [
      "dividing  200113plc1p2 121 Dpp Dppa Dppp\n",
      "dividing  200113plc1p2 122 ABalpaapa ABalpaapaa ABalpaapap\n",
      "dividing  200113plc1p2 122 ABalpappa ABalpappaa ABalpappap\n"
     ]
    },
    {
     "name": "stderr",
     "output_type": "stream",
     "text": [
      "\r",
      "generating 200113plc1p2 nucloc file:  65%|█████████████▋       | 122/187 [00:21<00:26,  2.46it/s]"
     ]
    },
    {
     "name": "stdout",
     "output_type": "stream",
     "text": [
      "dividing  200113plc1p2 122 Daa Daaa Daap\n",
      "dividing  200113plc1p2 122 Dpa Dpaa Dpap\n",
      "dividing  200113plc1p2 123 ABaraaapa ABaraaapaa ABaraaapap\n",
      "dividing  200113plc1p2 123 ABarapapp ABarapappa ABarapappp\n",
      "dividing  200113plc1p2 123 ABplapapp ABplapappa ABplapappp\n"
     ]
    },
    {
     "name": "stderr",
     "output_type": "stream",
     "text": [
      "\r",
      "generating 200113plc1p2 nucloc file:  66%|█████████████▊       | 123/187 [00:21<00:26,  2.42it/s]"
     ]
    },
    {
     "name": "stdout",
     "output_type": "stream",
     "text": [
      "dividing  200113plc1p2 123 Daa Daaa Daap\n",
      "dividing  200113plc1p2 123 Dpa Dpaa Dpap\n",
      "dividing  200113plc1p2 124 ABarapapa ABarapapaa ABarapapap\n",
      "dividing  200113plc1p2 124 ABarpaapp ABarpaappa ABarpaappp\n",
      "dividing  200113plc1p2 124 ABplaappp ABplaapppa ABplaapppp\n",
      "dividing  200113plc1p2 124 ABpraaapp ABpraaappa ABpraaappp\n"
     ]
    },
    {
     "name": "stderr",
     "output_type": "stream",
     "text": [
      "\r",
      "generating 200113plc1p2 nucloc file:  66%|█████████████▉       | 124/187 [00:22<00:26,  2.38it/s]"
     ]
    },
    {
     "name": "stdout",
     "output_type": "stream",
     "text": [
      "dividing  200113plc1p2 124 Daa Daaa Daap\n",
      "dividing  200113plc1p2 124 Dpa Dpaa Dpap\n",
      "dividing  200113plc1p2 125 ABalppapp ABalppappa ABalppappp\n",
      "dividing  200113plc1p2 125 ABalpppap ABalpppapa ABalpppapp\n",
      "dividing  200113plc1p2 125 ABaraapap ABaraapapa ABaraapapp\n",
      "dividing  200113plc1p2 125 ABplpappa ABplpappaa ABplpappap\n",
      "dividing  200113plc1p2 125 ABpraappp ABpraapppa ABpraapppp\n",
      "dividing  200113plc1p2 125 Daa Daaa Daap\n"
     ]
    },
    {
     "name": "stderr",
     "output_type": "stream",
     "text": [
      "\r",
      "generating 200113plc1p2 nucloc file:  67%|██████████████       | 125/187 [00:22<00:26,  2.32it/s]"
     ]
    },
    {
     "name": "stdout",
     "output_type": "stream",
     "text": [
      "dividing  200113plc1p2 125 Dpa Dpaa Dpap\n",
      "dividing  200113plc1p2 126 ABalapppa ABalapppaa ABalapppap\n",
      "dividing  200113plc1p2 126 ABalpapap ABalpapapa ABalpapapp\n",
      "dividing  200113plc1p2 126 ABalppapp ABalppappa ABalppappp\n",
      "dividing  200113plc1p2 126 ABalpppap ABalpppapa ABalpppapp\n",
      "dividing  200113plc1p2 126 ABalppppa ABalppppaa ABalppppap\n",
      "dividing  200113plc1p2 126 ABaraapaa ABaraapaaa ABaraapaap\n",
      "dividing  200113plc1p2 126 ABaraapap ABaraapapa ABaraapapp\n",
      "dividing  200113plc1p2 126 ABaraappp ABaraapppa ABaraapppp\n",
      "dividing  200113plc1p2 126 ABarapaap ABarapaapa ABarapaapp\n",
      "dividing  200113plc1p2 126 ABplaapap ABplaapapa ABplaapapp\n",
      "dividing  200113plc1p2 126 ABplapapa ABplapapaa ABplapapap\n",
      "dividing  200113plc1p2 126 ABprapapa ABprapapaa ABprapapap\n"
     ]
    },
    {
     "name": "stderr",
     "output_type": "stream",
     "text": [
      "\r",
      "generating 200113plc1p2 nucloc file:  67%|██████████████▏      | 126/187 [00:23<00:27,  2.23it/s]"
     ]
    },
    {
     "name": "stdout",
     "output_type": "stream",
     "text": [
      "dividing  200113plc1p2 126 Caaap Caaapa Caaapp\n",
      "dividing  200113plc1p2 126 Cpaap Cpaapa Cpaapp\n",
      "dividing  200113plc1p2 126 Dpa Dpaa Dpap\n",
      "dividing  200113plc1p2 127 ABalpapaa ABalpapaaa ABalpapaap\n",
      "dividing  200113plc1p2 127 ABalppapa ABalppapaa ABalppapap\n",
      "dividing  200113plc1p2 127 ABalppppa ABalppppaa ABalppppap\n",
      "dividing  200113plc1p2 127 ABarapppp ABarappppa ABarappppp\n",
      "dividing  200113plc1p2 127 ABplaaapp ABplaaappa ABplaaappp\n",
      "dividing  200113plc1p2 127 ABplaapaa ABplaapaaa ABplaapaap\n",
      "dividing  200113plc1p2 127 ABplaapap ABplaapapa ABplaapapp\n",
      "dividing  200113plc1p2 127 ABplpaapp ABplpaappa ABplpaappp\n",
      "dividing  200113plc1p2 127 ABprpappa ABprpappaa ABprpappap\n"
     ]
    },
    {
     "name": "stderr",
     "output_type": "stream",
     "text": [
      "\r",
      "generating 200113plc1p2 nucloc file:  68%|██████████████▎      | 127/187 [00:23<00:27,  2.15it/s]"
     ]
    },
    {
     "name": "stdout",
     "output_type": "stream",
     "text": [
      "dividing  200113plc1p2 127 Cpaaa Cpaaaa Cpaaap\n",
      "dividing  200113plc1p2 127 Dpa Dpaa Dpap\n",
      "dividing  200113plc1p2 128 ABalaaapa ABalaaapal ABalaaapar\n",
      "dividing  200113plc1p2 128 ABalpaapp ABalpaappa ABalpaappp\n",
      "dividing  200113plc1p2 128 ABalpapaa ABalpapaaa ABalpapaap\n",
      "dividing  200113plc1p2 128 ABarapppa ABarapppaa ABarapppap\n",
      "dividing  200113plc1p2 128 ABarpapap ABarpapapa ABarpapapp\n",
      "dividing  200113plc1p2 128 ABplaaaap ABplaaaapa ABplaaaapp\n",
      "dividing  200113plc1p2 128 ABplaappa ABplaappaa ABplaappap\n",
      "dividing  200113plc1p2 128 ABplpaaaa ABplpaaaaa ABplpaaaap\n",
      "dividing  200113plc1p2 128 ABplppppa ABplppppaa ABplppppap\n",
      "dividing  200113plc1p2 128 ABpraapap ABpraapapa ABpraapapp\n",
      "dividing  200113plc1p2 128 ABprapapp ABprapappa ABprapappp\n",
      "dividing  200113plc1p2 128 ABprpappa ABprpappaa ABprpappap\n"
     ]
    },
    {
     "name": "stderr",
     "output_type": "stream",
     "text": [
      "\r",
      "generating 200113plc1p2 nucloc file:  68%|██████████████▎      | 128/187 [00:24<00:28,  2.05it/s]"
     ]
    },
    {
     "name": "stdout",
     "output_type": "stream",
     "text": [
      "dividing  200113plc1p2 128 Dpa Dpaa Dpap\n",
      "dividing  200113plc1p2 129 ABalaappp ABalaapppa ABalaapppp\n",
      "dividing  200113plc1p2 129 ABalpppaa ABalpppaaa ABalpppaap\n",
      "dividing  200113plc1p2 129 ABarapppa ABarapppaa ABarapppap\n",
      "dividing  200113plc1p2 129 ABarpapaa ABarpapaaa ABarpapaap\n",
      "dividing  200113plc1p2 129 ABarpappp ABarpapppa ABarpapppp\n",
      "dividing  200113plc1p2 129 ABplaaapa ABplaaapaa ABplaaapap\n",
      "dividing  200113plc1p2 129 ABplappap ABplappapa ABplappapp\n",
      "dividing  200113plc1p2 129 ABplpaaap ABplpaaapa ABplpaaapp\n",
      "dividing  200113plc1p2 129 ABplpaapa ABplpaapaa ABplpaapap\n",
      "dividing  200113plc1p2 129 ABplpapap ABplpapapa ABplpapapp\n",
      "dividing  200113plc1p2 129 ABplpappp ABplpapppa ABplpapppp\n",
      "dividing  200113plc1p2 129 ABplppppa ABplppppaa ABplppppap\n",
      "dividing  200113plc1p2 129 ABprpaaaa ABprpaaaaa ABprpaaaap\n",
      "dividing  200113plc1p2 129 ABprpappp ABprpapppa ABprpapppp\n"
     ]
    },
    {
     "name": "stderr",
     "output_type": "stream",
     "text": [
      "\r",
      "generating 200113plc1p2 nucloc file:  69%|██████████████▍      | 129/187 [00:24<00:29,  1.95it/s]"
     ]
    },
    {
     "name": "stdout",
     "output_type": "stream",
     "text": [
      "dividing  200113plc1p2 129 Dpa Dpaa Dpap\n",
      "dividing  200113plc1p2 130 ABalapaap ABalapaapa ABalapaapp\n",
      "dividing  200113plc1p2 130 ABalappap ABalappapa ABalappapp\n",
      "dividing  200113plc1p2 130 ABarappap ABarappapa ABarappapp\n",
      "dividing  200113plc1p2 130 ABarapppa ABarapppaa ABarapppap\n",
      "dividing  200113plc1p2 130 ABplaaaaa ABplaaaaaa ABplaaaaap\n",
      "dividing  200113plc1p2 130 ABplappaa ABplappaaa ABplappaap\n",
      "dividing  200113plc1p2 130 ABplpapaa ABplpapaaa ABplpapaap\n",
      "dividing  200113plc1p2 130 ABplpapap ABplpapapa ABplpapapp\n",
      "dividing  200113plc1p2 130 ABplpppaa ABplpppaaa ABplpppaap\n",
      "dividing  200113plc1p2 130 ABplppppp ABplpppppa ABplpppppp\n",
      "dividing  200113plc1p2 130 ABpraappa ABpraappaa ABpraappap\n",
      "dividing  200113plc1p2 130 ABprpaaap ABprpaaapa ABprpaaapp\n",
      "dividing  200113plc1p2 130 ABprpaapp ABprpaappa ABprpaappp\n",
      "dividing  200113plc1p2 130 ABprpapaa ABprpapaaa ABprpapaap\n",
      "dividing  200113plc1p2 130 ABprpapap ABprpapapa ABprpapapp\n",
      "dividing  200113plc1p2 130 ABprpappp ABprpapppa ABprpapppp\n"
     ]
    },
    {
     "name": "stderr",
     "output_type": "stream",
     "text": [
      "\r",
      "generating 200113plc1p2 nucloc file:  70%|██████████████▌      | 130/187 [00:25<00:30,  1.85it/s]"
     ]
    },
    {
     "name": "stdout",
     "output_type": "stream",
     "text": [
      "dividing  200113plc1p2 130 ABprpppaa ABprpppaaa ABprpppaap\n",
      "dividing  200113plc1p2 130 ABprppppp ABprpppppa ABprpppppp\n",
      "dividing  200113plc1p2 130 Dpa Dpaa Dpap\n",
      "dividing  200113plc1p2 131 ABalaappa ABalaappaa ABalaappap\n",
      "dividing  200113plc1p2 131 ABalapaaa ABalapaaaa ABalapaaap\n",
      "dividing  200113plc1p2 131 ABalapaap ABalapaapa ABalapaapp\n",
      "dividing  200113plc1p2 131 ABarapaaa ABarapaaaa ABarapaaap\n",
      "dividing  200113plc1p2 131 ABarappap ABarappapa ABarappapp\n",
      "dividing  200113plc1p2 131 ABarpppap ABarpppapa ABarpppapp\n",
      "dividing  200113plc1p2 131 ABprappap ABprappapa ABprappapp\n",
      "dividing  200113plc1p2 131 ABprpaapa ABprpaapaa ABprpaapap\n",
      "dividing  200113plc1p2 131 ABprpapaa ABprpapaaa ABprpapaap\n",
      "dividing  200113plc1p2 131 ABprpppaa ABprpppaaa ABprpppaap\n",
      "dividing  200113plc1p2 131 ABprppppp ABprpppppa ABprpppppp\n",
      "dividing  200113plc1p2 131 Dpa Dpaa Dpap\n"
     ]
    },
    {
     "name": "stderr",
     "output_type": "stream",
     "text": [
      "\r",
      "generating 200113plc1p2 nucloc file:  70%|██████████████▋      | 131/187 [00:26<00:31,  1.77it/s]"
     ]
    },
    {
     "name": "stdout",
     "output_type": "stream",
     "text": [
      "dividing  200113plc1p2 132 ABalapapa ABalapapaa ABalapapap\n",
      "dividing  200113plc1p2 132 ABalpaaaa ABalpaaaaa ABalpaaaap\n",
      "dividing  200113plc1p2 132 ABalpaaap ABalpaaapa ABalpaaapp\n",
      "dividing  200113plc1p2 132 ABaraaaaa ABaraaaaaa ABaraaaaap\n",
      "dividing  200113plc1p2 132 ABarppaap ABarppaapa ABarppaapp\n",
      "dividing  200113plc1p2 132 ABplppapa ABplppapaa ABplppapap\n",
      "dividing  200113plc1p2 132 ABprapaaa ABprapaaaa ABprapaaap\n",
      "dividing  200113plc1p2 132 ABprappaa ABprappaaa ABprappaap\n",
      "dividing  200113plc1p2 132 MSaapaa MSaapaaa MSaapaap\n",
      "dividing  200113plc1p2 132 MSpaaaa MSpaaaaa MSpaaaap\n"
     ]
    },
    {
     "name": "stderr",
     "output_type": "stream",
     "text": [
      "\r",
      "generating 200113plc1p2 nucloc file:  71%|██████████████▊      | 132/187 [00:26<00:32,  1.70it/s]"
     ]
    },
    {
     "name": "stdout",
     "output_type": "stream",
     "text": [
      "dividing  200113plc1p2 132 Cpapa Cpapaa Cpapap\n",
      "dividing  200113plc1p2 132 Dpa Dpaa Dpap\n",
      "dividing  200113plc1p2 133 ABalppaap ABalppaapa ABalppaapp\n",
      "dividing  200113plc1p2 133 ABarpppaa ABarpppaaa ABarpppaap\n",
      "dividing  200113plc1p2 133 ABarppppa ABarppppaa ABarppppap\n",
      "dividing  200113plc1p2 133 ABplppaap ABplppaapa ABplppaapp\n"
     ]
    },
    {
     "name": "stderr",
     "output_type": "stream",
     "text": [
      "\r",
      "generating 200113plc1p2 nucloc file:  71%|██████████████▉      | 133/187 [00:27<00:32,  1.65it/s]"
     ]
    },
    {
     "name": "stdout",
     "output_type": "stream",
     "text": [
      "dividing  200113plc1p2 133 MSpapaa MSpapaaa MSpapaap\n",
      "dividing  200113plc1p2 133 Cpapa Cpapaa Cpapap\n",
      "dividing  200113plc1p2 133 Dpa Dpaa Dpap\n",
      "dividing  200113plc1p2 134 ABalaaaal ABalaaaala ABalaaaalp\n",
      "dividing  200113plc1p2 134 ABalaaaar ABalaaaarl ABalaaaarr\n",
      "dividing  200113plc1p2 134 ABalaapap ABalaapapa ABalaapapp\n",
      "dividing  200113plc1p2 134 ABalppaaa ABalppaaaa ABalppaaap\n",
      "dividing  200113plc1p2 134 ABarpaaaa ABarpaaaaa ABarpaaaap\n",
      "dividing  200113plc1p2 134 ABarpappa ABarpappaa ABarpappap\n",
      "dividing  200113plc1p2 134 ABarppppa ABarppppaa ABarppppap\n",
      "dividing  200113plc1p2 134 ABplppapp ABplppappa ABplppappp\n",
      "dividing  200113plc1p2 134 ABpraaaaa ABpraaaaaa ABpraaaaap\n",
      "dividing  200113plc1p2 134 ABprapaap ABprapaapa ABprapaapp\n",
      "dividing  200113plc1p2 134 MSaaaap MSaaaapa MSaaaapp\n",
      "dividing  200113plc1p2 134 MSaaapa MSaaapaa MSaaapap\n"
     ]
    },
    {
     "name": "stderr",
     "output_type": "stream",
     "text": [
      "\r",
      "generating 200113plc1p2 nucloc file:  72%|███████████████      | 134/187 [00:28<00:33,  1.57it/s]"
     ]
    },
    {
     "name": "stdout",
     "output_type": "stream",
     "text": [
      "dividing  200113plc1p2 134 Cpapp Cpappd Cpappv\n",
      "dividing  200113plc1p2 134 Dpa Dpaa Dpap\n",
      "dividing  200113plc1p2 135 ABalappaa ABalappaaa ABalappaap\n",
      "dividing  200113plc1p2 135 ABarpaaap ABarpaaapa ABarpaaapp\n",
      "dividing  200113plc1p2 135 ABarppaaa ABarppaaaa ABarppaaap\n",
      "dividing  200113plc1p2 135 ABarppapa ABarppapaa ABarppapap\n",
      "dividing  200113plc1p2 135 ABarppppp ABarpppppa ABarpppppp\n",
      "dividing  200113plc1p2 135 ABplapppa ABplapppaa ABplapppap\n",
      "dividing  200113plc1p2 135 ABplapppp ABplappppa ABplappppp\n",
      "dividing  200113plc1p2 135 ABprapppa ABprapppaa ABprapppap\n",
      "dividing  200113plc1p2 135 ABprapppp ABprappppa ABprappppp\n",
      "dividing  200113plc1p2 135 ABprppaap ABprppaapa ABprppaapp\n",
      "dividing  200113plc1p2 135 ABprppapp ABprppappa ABprppappp\n"
     ]
    },
    {
     "name": "stderr",
     "output_type": "stream",
     "text": [
      "\r",
      "generating 200113plc1p2 nucloc file:  72%|███████████████▏     | 135/187 [00:28<00:34,  1.52it/s]"
     ]
    },
    {
     "name": "stdout",
     "output_type": "stream",
     "text": [
      "dividing  200113plc1p2 135 Dpa Dpaa Dpap\n",
      "dividing  200113plc1p2 136 ABarppapa ABarppapaa ABarppapap\n",
      "dividing  200113plc1p2 136 ABarppapp ABarppappa ABarppappp\n"
     ]
    },
    {
     "name": "stderr",
     "output_type": "stream",
     "text": [
      "\r",
      "generating 200113plc1p2 nucloc file:  73%|███████████████▎     | 136/187 [00:29<00:33,  1.50it/s]"
     ]
    },
    {
     "name": "stdout",
     "output_type": "stream",
     "text": [
      "dividing  200113plc1p2 136 Cpppa Cpppaa Cpppap\n",
      "dividing  200113plc1p2 136 Dpa Dpaa Dpap\n",
      "dividing  200113plc1p2 137 ABplppaaa ABplppaaaa ABplppaaap\n",
      "dividing  200113plc1p2 137 MSaapap MSaapapa MSaapapp\n"
     ]
    },
    {
     "name": "stderr",
     "output_type": "stream",
     "text": [
      "\r",
      "generating 200113plc1p2 nucloc file:  73%|███████████████▍     | 137/187 [00:30<00:33,  1.48it/s]"
     ]
    },
    {
     "name": "stdout",
     "output_type": "stream",
     "text": [
      "dividing  200113plc1p2 137 MSpaapa MSpaapaa MSpaapap\n",
      "dividing  200113plc1p2 137 Eala Ealaa Ealap\n",
      "dividing  200113plc1p2 137 Ealp Ealpa Ealpp\n",
      "dividing  200113plc1p2 137 Cpppa Cpppaa Cpppap\n",
      "dividing  200113plc1p2 137 Dpa Dpaa Dpap\n",
      "dividing  200113plc1p2 138 ABprppaaa ABprppaaaa ABprppaaap\n",
      "dividing  200113plc1p2 138 MSpaapa MSpaapaa MSpaapap\n",
      "dividing  200113plc1p2 138 Eala Ealaa Ealap\n",
      "dividing  200113plc1p2 138 Ealp Ealpa Ealpp\n",
      "dividing  200113plc1p2 138 Epla Eplaa Eplap\n",
      "dividing  200113plc1p2 138 Caapp Caappd Caappv\n",
      "dividing  200113plc1p2 138 Cappa Cappaa Cappap\n",
      "dividing  200113plc1p2 138 Cpppp Cppppa Cppppp\n"
     ]
    },
    {
     "name": "stderr",
     "output_type": "stream",
     "text": [
      "generating 200113plc1p2 nucloc file:  74%|███████████████▌     | 139/187 [00:31<00:32,  1.46it/s]"
     ]
    },
    {
     "name": "stdout",
     "output_type": "stream",
     "text": [
      "dividing  200113plc1p2 139 MSpapap MSpapapa MSpapapp\n",
      "dividing  200113plc1p2 139 Ealp Ealpa Ealpp\n",
      "dividing  200113plc1p2 139 Eara Earaa Earap\n",
      "dividing  200113plc1p2 139 Cappa Cappaa Cappap\n",
      "dividing  200113plc1p2 139 Cpppp Cppppa Cppppp\n"
     ]
    },
    {
     "name": "stderr",
     "output_type": "stream",
     "text": [
      "\r",
      "generating 200113plc1p2 nucloc file:  75%|███████████████▋     | 140/187 [00:32<00:32,  1.45it/s]"
     ]
    },
    {
     "name": "stdout",
     "output_type": "stream",
     "text": [
      "dividing  200113plc1p2 140 Eara Earaa Earap\n",
      "dividing  200113plc1p2 140 Earp Earpa Earpp\n",
      "dividing  200113plc1p2 140 Cpppp Cppppa Cppppp\n"
     ]
    },
    {
     "name": "stderr",
     "output_type": "stream",
     "text": [
      "\r",
      "generating 200113plc1p2 nucloc file:  75%|███████████████▊     | 141/187 [00:33<00:32,  1.44it/s]"
     ]
    },
    {
     "name": "stdout",
     "output_type": "stream",
     "text": [
      "dividing  200113plc1p2 141 MSapaaa MSapaaaa MSapaaap\n",
      "dividing  200113plc1p2 141 MSapapa MSapapaa MSapapap\n",
      "dividing  200113plc1p2 141 MSppaaa MSppaaaa MSppaaap\n",
      "dividing  200113plc1p2 141 Earp Earpa Earpp\n",
      "dividing  200113plc1p2 141 Cappp Capppa Capppp\n"
     ]
    },
    {
     "name": "stderr",
     "output_type": "stream",
     "text": [
      "\r",
      "generating 200113plc1p2 nucloc file:  76%|███████████████▉     | 142/187 [00:33<00:31,  1.42it/s]"
     ]
    },
    {
     "name": "stdout",
     "output_type": "stream",
     "text": [
      "dividing  200113plc1p2 142 MSppaaa MSppaaaa MSppaaap\n",
      "dividing  200113plc1p2 142 MSppapa MSppapaa MSppapap\n",
      "dividing  200113plc1p2 142 Earp Earpa Earpp\n",
      "dividing  200113plc1p2 142 Epra Epraa Eprap\n",
      "dividing  200113plc1p2 142 Cppaa Cppaaa Cppaap\n"
     ]
    },
    {
     "name": "stderr",
     "output_type": "stream",
     "text": [
      "\r",
      "generating 200113plc1p2 nucloc file:  76%|████████████████     | 143/187 [00:34<00:31,  1.42it/s]"
     ]
    },
    {
     "name": "stdout",
     "output_type": "stream",
     "text": [
      "dividing  200113plc1p2 143 Epra Epraa Eprap\n"
     ]
    },
    {
     "name": "stderr",
     "output_type": "stream",
     "text": [
      "\r",
      "generating 200113plc1p2 nucloc file:  77%|████████████████▏    | 144/187 [00:35<00:30,  1.41it/s]"
     ]
    },
    {
     "name": "stdout",
     "output_type": "stream",
     "text": [
      "dividing  200113plc1p2 144 Eplp Eplpa Eplpp\n",
      "dividing  200113plc1p2 144 Epra Epraa Eprap\n",
      "dividing  200113plc1p2 144 Cppap Cppapa Cppapp\n"
     ]
    },
    {
     "name": "stderr",
     "output_type": "stream",
     "text": [
      "\r",
      "generating 200113plc1p2 nucloc file:  78%|████████████████▎    | 145/187 [00:35<00:29,  1.40it/s]"
     ]
    },
    {
     "name": "stdout",
     "output_type": "stream",
     "text": [
      "dividing  200113plc1p2 145 Eplp Eplpa Eplpp\n",
      "dividing  200113plc1p2 145 Capaa Capaaa Capaap\n"
     ]
    },
    {
     "name": "stderr",
     "output_type": "stream",
     "text": [
      "\r",
      "generating 200113plc1p2 nucloc file:  78%|████████████████▍    | 146/187 [00:36<00:29,  1.39it/s]"
     ]
    },
    {
     "name": "stdout",
     "output_type": "stream",
     "text": [
      "dividing  200113plc1p2 146 Eplp Eplpa Eplpp\n",
      "dividing  200113plc1p2 146 Eprp Eprpa Eprpp\n",
      "dividing  200113plc1p2 146 Capap Capapa Capapp\n"
     ]
    },
    {
     "name": "stderr",
     "output_type": "stream",
     "text": [
      "\r",
      "generating 200113plc1p2 nucloc file:  79%|████████████████▌    | 147/187 [00:37<00:29,  1.38it/s]"
     ]
    },
    {
     "name": "stdout",
     "output_type": "stream",
     "text": [
      "dividing  200113plc1p2 147 MSapapp MSapappa MSapappp\n",
      "dividing  200113plc1p2 147 Eprp Eprpa Eprpp\n"
     ]
    },
    {
     "name": "stderr",
     "output_type": "stream",
     "text": [
      "\r",
      "generating 200113plc1p2 nucloc file:  79%|████████████████▌    | 148/187 [00:38<00:28,  1.37it/s]"
     ]
    },
    {
     "name": "stdout",
     "output_type": "stream",
     "text": [
      "dividing  200113plc1p2 148 MSppapp MSppappa MSppappp\n"
     ]
    },
    {
     "name": "stderr",
     "output_type": "stream",
     "text": [
      "generating 200113plc1p2 nucloc file:  81%|█████████████████    | 152/187 [00:41<00:25,  1.37it/s]"
     ]
    },
    {
     "name": "stdout",
     "output_type": "stream",
     "text": [
      "dividing  200113plc1p2 152 MSapppa MSapppaa MSapppap\n",
      "dividing  200113plc1p2 153 ABalpaapap ABalpaapapa ABalpaapapp\n"
     ]
    },
    {
     "name": "stderr",
     "output_type": "stream",
     "text": [
      "\r",
      "generating 200113plc1p2 nucloc file:  82%|█████████████████▏   | 153/187 [00:41<00:24,  1.36it/s]"
     ]
    },
    {
     "name": "stdout",
     "output_type": "stream",
     "text": [
      "dividing  200113plc1p2 153 MSpappp MSpapppa MSpapppp\n",
      "dividing  200113plc1p2 154 ABalpppppp ABalppppppa ABalppppppp\n",
      "dividing  200113plc1p2 154 MSaaapp MSaaappa MSaaappp\n",
      "dividing  200113plc1p2 154 MSapppp MSappppa MSappppp\n"
     ]
    },
    {
     "name": "stderr",
     "output_type": "stream",
     "text": [
      "generating 200113plc1p2 nucloc file:  83%|█████████████████▍   | 155/187 [00:43<00:23,  1.35it/s]"
     ]
    },
    {
     "name": "stdout",
     "output_type": "stream",
     "text": [
      "dividing  200113plc1p2 155 MSppaap MSppaapa MSppaapp\n",
      "dividing  200113plc1p2 155 MSppppa MSppppaa MSppppap\n"
     ]
    },
    {
     "name": "stderr",
     "output_type": "stream",
     "text": [
      "\r",
      "generating 200113plc1p2 nucloc file:  83%|█████████████████▌   | 156/187 [00:44<00:23,  1.34it/s]"
     ]
    },
    {
     "name": "stdout",
     "output_type": "stream",
     "text": [
      "dividing  200113plc1p2 156 MSappaa MSappaaa MSappaap\n",
      "dividing  200113plc1p2 156 MSppppa MSppppaa MSppppap\n",
      "dividing  200113plc1p2 157 ABarapappp ABarapapppa ABarapapppp\n",
      "dividing  200113plc1p2 157 ABpraaappp ABpraaapppa ABpraaapppp\n",
      "dividing  200113plc1p2 157 MSaappp MSaapppa MSaapppp\n",
      "dividing  200113plc1p2 157 MSappaa MSappaaa MSappaap\n"
     ]
    },
    {
     "name": "stderr",
     "output_type": "stream",
     "text": [
      "\r",
      "generating 200113plc1p2 nucloc file:  84%|█████████████████▋   | 157/187 [00:44<00:22,  1.33it/s]"
     ]
    },
    {
     "name": "stdout",
     "output_type": "stream",
     "text": [
      "dividing  200113plc1p2 157 Dapp Dappa Dappp\n",
      "dividing  200113plc1p2 157 Dppp Dpppa Dpppp\n",
      "dividing  200113plc1p2 158 ABplpappaa ABplpappaaa ABplpappaap\n",
      "dividing  200113plc1p2 158 MSaappp MSaapppa MSaapppp\n"
     ]
    },
    {
     "name": "stderr",
     "output_type": "stream",
     "text": [
      "\r",
      "generating 200113plc1p2 nucloc file:  84%|█████████████████▋   | 158/187 [00:45<00:22,  1.32it/s]"
     ]
    },
    {
     "name": "stdout",
     "output_type": "stream",
     "text": [
      "dividing  200113plc1p2 158 MSppppp MSpppppa MSpppppp\n",
      "dividing  200113plc1p2 158 Dapp Dappa Dappp\n",
      "dividing  200113plc1p2 158 Dppp Dpppa Dpppp\n",
      "dividing  200113plc1p2 159 ABaraaapap ABaraaapapa ABaraaapapp\n"
     ]
    },
    {
     "name": "stderr",
     "output_type": "stream",
     "text": [
      "\r",
      "generating 200113plc1p2 nucloc file:  85%|█████████████████▊   | 159/187 [00:46<00:21,  1.30it/s]"
     ]
    },
    {
     "name": "stdout",
     "output_type": "stream",
     "text": [
      "dividing  200113plc1p2 159 Dapa Dapaa Dapap\n",
      "dividing  200113plc1p2 159 Dppa Dppaa Dppap\n",
      "dividing  200113plc1p2 160 MSaappa MSaappaa MSaappap\n",
      "dividing  200113plc1p2 160 Dapa Dapaa Dapap\n",
      "dividing  200113plc1p2 160 Dpaa Dpaaa Dpaap\n"
     ]
    },
    {
     "name": "stderr",
     "output_type": "stream",
     "text": [
      "\r",
      "generating 200113plc1p2 nucloc file:  86%|█████████████████▉   | 160/187 [00:47<00:20,  1.30it/s]"
     ]
    },
    {
     "name": "stdout",
     "output_type": "stream",
     "text": [
      "dividing  200113plc1p2 160 Dppa Dppaa Dppap\n",
      "dividing  200113plc1p2 161 ABaraapppa ABaraapppaa ABaraapppap\n"
     ]
    },
    {
     "name": "stderr",
     "output_type": "stream",
     "text": [
      "\r",
      "generating 200113plc1p2 nucloc file:  86%|██████████████████   | 161/187 [00:47<00:20,  1.29it/s]"
     ]
    },
    {
     "name": "stdout",
     "output_type": "stream",
     "text": [
      "dividing  200113plc1p2 161 MSappap MSappapa MSappapp\n",
      "dividing  200113plc1p2 161 Dapa Dapaa Dapap\n",
      "dividing  200113plc1p2 161 Dpaa Dpaaa Dpaap\n",
      "dividing  200113plc1p2 161 Dppa Dppaa Dppap\n"
     ]
    },
    {
     "name": "stderr",
     "output_type": "stream",
     "text": [
      "\r",
      "generating 200113plc1p2 nucloc file:  87%|██████████████████▏  | 162/187 [00:48<00:19,  1.27it/s]"
     ]
    },
    {
     "name": "stdout",
     "output_type": "stream",
     "text": [
      "dividing  200113plc1p2 162 MSpppap MSpppapa MSpppapp\n",
      "dividing  200113plc1p2 162 Daaa Daaaa Daaap\n",
      "dividing  200113plc1p2 162 Dpaa Dpaaa Dpaap\n",
      "dividing  200113plc1p2 162 Dpap Dpapa Dpapp\n",
      "dividing  200113plc1p2 162 Dppa Dppaa Dppap\n",
      "dividing  200113plc1p2 163 ABalappppa ABalappppaa ABalappppap\n"
     ]
    },
    {
     "name": "stderr",
     "output_type": "stream",
     "text": [
      "\r",
      "generating 200113plc1p2 nucloc file:  87%|██████████████████▎  | 163/187 [00:49<00:19,  1.25it/s]"
     ]
    },
    {
     "name": "stdout",
     "output_type": "stream",
     "text": [
      "dividing  200113plc1p2 163 Daaa Daaaa Daaap\n",
      "dividing  200113plc1p2 163 Daap Daapa Daapp\n",
      "dividing  200113plc1p2 163 Dpaa Dpaaa Dpaap\n",
      "dividing  200113plc1p2 164 ABarapaapp ABarapaappa ABarapaappp\n",
      "dividing  200113plc1p2 164 ABplpppapa ABplpppapaa ABplpppapap\n"
     ]
    },
    {
     "name": "stderr",
     "output_type": "stream",
     "text": [
      "\r",
      "generating 200113plc1p2 nucloc file:  88%|██████████████████▍  | 164/187 [00:50<00:18,  1.24it/s]"
     ]
    },
    {
     "name": "stdout",
     "output_type": "stream",
     "text": [
      "dividing  200113plc1p2 164 MSpappa MSpappaa MSpappap\n",
      "dividing  200113plc1p2 164 Daaa Daaaa Daaap\n",
      "dividing  200113plc1p2 165 MSaaaaap MSaaaaapa MSaaaaapp\n"
     ]
    },
    {
     "name": "stderr",
     "output_type": "stream",
     "text": [
      "\r",
      "generating 200113plc1p2 nucloc file:  88%|██████████████████▌  | 165/187 [00:51<00:17,  1.24it/s]"
     ]
    },
    {
     "name": "stdout",
     "output_type": "stream",
     "text": [
      "dividing  200113plc1p2 165 Daaa Daaaa Daaap\n",
      "dividing  200113plc1p2 166 ABalapappa ABalapappaa ABalapappap\n",
      "dividing  200113plc1p2 166 ABalapppap ABalapppapa ABalapppapp\n",
      "dividing  200113plc1p2 166 ABarapapap ABarapapapa ABarapapapp\n"
     ]
    },
    {
     "name": "stderr",
     "output_type": "stream",
     "text": [
      "\r",
      "generating 200113plc1p2 nucloc file:  89%|██████████████████▋  | 166/187 [00:52<00:16,  1.24it/s]"
     ]
    },
    {
     "name": "stdout",
     "output_type": "stream",
     "text": [
      "dividing  200113plc1p2 167 ABalppappp ABalppapppa ABalppapppp\n",
      "dividing  200113plc1p2 167 ABalpppppa ABalpppppaa ABalpppppap\n",
      "dividing  200113plc1p2 167 ABaraaapaa ABaraaapaaa ABaraaapaap\n",
      "dividing  200113plc1p2 167 ABplaapapp ABplaapappa ABplaapappp\n",
      "dividing  200113plc1p2 167 MSaapaap MSaapaapa MSaapaapp\n",
      "dividing  200113plc1p2 167 MSpaaaap MSpaaaapa MSpaaaapp\n"
     ]
    },
    {
     "name": "stderr",
     "output_type": "stream",
     "text": [
      "\r",
      "generating 200113plc1p2 nucloc file:  89%|██████████████████▊  | 167/187 [00:52<00:16,  1.22it/s]"
     ]
    },
    {
     "name": "stdout",
     "output_type": "stream",
     "text": [
      "dividing  200113plc1p2 168 ABprpppapa ABprpppapaa ABprpppapap\n",
      "dividing  200113plc1p2 168 MSpaaapp MSpaaappa MSpaaappp\n"
     ]
    },
    {
     "name": "stderr",
     "output_type": "stream",
     "text": [
      "\r",
      "generating 200113plc1p2 nucloc file:  90%|██████████████████▊  | 168/187 [00:53<00:15,  1.22it/s]"
     ]
    },
    {
     "name": "stdout",
     "output_type": "stream",
     "text": [
      "dividing  200113plc1p2 169 ABalappppp ABalapppppa ABalapppppp\n",
      "dividing  200113plc1p2 169 ABalpaapaa ABalpaapaaa ABalpaapaap\n",
      "dividing  200113plc1p2 169 ABaraapaap ABaraapaapa ABaraapaapp\n"
     ]
    },
    {
     "name": "stderr",
     "output_type": "stream",
     "text": [
      "\r",
      "generating 200113plc1p2 nucloc file:  90%|██████████████████▉  | 169/187 [00:54<00:14,  1.21it/s]"
     ]
    },
    {
     "name": "stdout",
     "output_type": "stream",
     "text": [
      "dividing  200113plc1p2 169 MSpapaap MSpapaapa MSpapaapp\n",
      "dividing  200113plc1p2 170 ABalaaappr ABalaaapprl ABalaaapprr\n",
      "dividing  200113plc1p2 170 ABalpppapp ABalpppappa ABalpppappp\n",
      "dividing  200113plc1p2 170 ABalppppap ABalppppapa ABalppppapp\n",
      "dividing  200113plc1p2 170 ABaraappap ABaraappapa ABaraappapp\n",
      "dividing  200113plc1p2 170 ABarappppp ABarapppppa ABarapppppp\n"
     ]
    },
    {
     "name": "stderr",
     "output_type": "stream",
     "text": [
      "\r",
      "generating 200113plc1p2 nucloc file:  91%|███████████████████  | 170/187 [00:55<00:14,  1.19it/s]"
     ]
    },
    {
     "name": "stdout",
     "output_type": "stream",
     "text": [
      "dividing  200113plc1p2 171 ABalpapaaa ABalpapaaaa ABalpapaaap\n",
      "dividing  200113plc1p2 171 ABplaapaap ABplaapaapa ABplaapaapp\n",
      "dividing  200113plc1p2 171 ABprpappaa ABprpappaaa ABprpappaap\n",
      "dividing  200113plc1p2 171 ABprppppap ABprppppapa ABprppppapp\n"
     ]
    },
    {
     "name": "stderr",
     "output_type": "stream",
     "text": [
      "\r",
      "generating 200113plc1p2 nucloc file:  91%|███████████████████▏ | 171/187 [00:56<00:13,  1.17it/s]"
     ]
    },
    {
     "name": "stdout",
     "output_type": "stream",
     "text": [
      "dividing  200113plc1p2 172 ABarapapaa ABarapapaaa ABarapapaap\n",
      "dividing  200113plc1p2 172 ABplapaaap ABplapaaapa ABplapaaapp\n",
      "dividing  200113plc1p2 172 ABplpaaaap ABplpaaaapa ABplpaaaapp\n",
      "dividing  200113plc1p2 172 ABplpaappp ABplpaapppa ABplpaapppp\n",
      "dividing  200113plc1p2 172 ABpraaappa ABpraaappaa ABpraaappap\n",
      "dividing  200113plc1p2 172 MSaapaaa MSaapaaaa MSaapaaap\n"
     ]
    },
    {
     "name": "stderr",
     "output_type": "stream",
     "text": [
      "\r",
      "generating 200113plc1p2 nucloc file:  92%|███████████████████▎ | 172/187 [00:57<00:12,  1.16it/s]"
     ]
    },
    {
     "name": "stdout",
     "output_type": "stream",
     "text": [
      "dividing  200113plc1p2 172 MSpapaaa MSpapaaaa MSpapaaap\n",
      "dividing  200113plc1p2 173 ABalaaapal ABalaaapall ABalaaapalr\n",
      "dividing  200113plc1p2 173 ABalaapppp ABalaappppa ABalaappppp\n",
      "dividing  200113plc1p2 173 ABalapaapp ABalapaappa ABalapaappp\n",
      "dividing  200113plc1p2 173 ABalappapp ABalappappa ABalappappp\n",
      "dividing  200113plc1p2 173 ABplpapapa ABplpapapaa ABplpapapap\n",
      "dividing  200113plc1p2 173 ABplppppap ABplppppapa ABplppppapp\n",
      "dividing  200113plc1p2 173 ABpraapaap ABpraapaapa ABpraapaapp\n",
      "dividing  200113plc1p2 173 MSaaaapa MSaaaapaa MSaaaapap\n"
     ]
    },
    {
     "name": "stderr",
     "output_type": "stream",
     "text": [
      "\r",
      "generating 200113plc1p2 nucloc file:  93%|███████████████████▍ | 173/187 [00:58<00:12,  1.13it/s]"
     ]
    },
    {
     "name": "stdout",
     "output_type": "stream",
     "text": [
      "dividing  200113plc1p2 174 ABplaapapa ABplaapapaa ABplaapapap\n",
      "dividing  200113plc1p2 174 ABplpaaapp ABplpaaappa ABplpaaappp\n",
      "dividing  200113plc1p2 174 ABplppaaaa ABplppaaaaa ABplppaaaap\n",
      "dividing  200113plc1p2 174 ABplppapaa ABplppapaaa ABplppapaap\n",
      "dividing  200113plc1p2 174 ABplppppap ABplppppapa ABplppppapp\n",
      "dividing  200113plc1p2 174 ABpraaaapp ABpraaaappa ABpraaaappp\n",
      "dividing  200113plc1p2 174 ABprppppaa ABprppppaaa ABprppppaap\n",
      "dividing  200113plc1p2 174 MSaaapap MSaaapapa MSaaapapp\n"
     ]
    },
    {
     "name": "stderr",
     "output_type": "stream",
     "text": [
      "\r",
      "generating 200113plc1p2 nucloc file:  93%|███████████████████▌ | 174/187 [00:59<00:11,  1.12it/s]"
     ]
    },
    {
     "name": "stdout",
     "output_type": "stream",
     "text": [
      "dividing  200113plc1p2 175 ABarappppa ABarappppaa ABarappppap\n",
      "dividing  200113plc1p2 175 ABplpaaaaa ABplpaaaaaa ABplpaaaaap\n",
      "dividing  200113plc1p2 175 ABprpaaaap ABprpaaaapa ABprpaaaapp\n",
      "dividing  200113plc1p2 175 ABprpaaapp ABprpaaappa ABprpaaappp\n",
      "dividing  200113plc1p2 175 ABprpaappa ABprpaappaa ABprpaappap\n",
      "dividing  200113plc1p2 175 ABprpaappp ABprpaapppa ABprpaapppp\n",
      "dividing  200113plc1p2 175 MSpaapap MSpaapapa MSpaapapp\n"
     ]
    },
    {
     "name": "stderr",
     "output_type": "stream",
     "text": [
      "\r",
      "generating 200113plc1p2 nucloc file:  94%|███████████████████▋ | 175/187 [00:59<00:10,  1.10it/s]"
     ]
    },
    {
     "name": "stdout",
     "output_type": "stream",
     "text": [
      "dividing  200113plc1p2 176 ABalapaaap ABalapaaapa ABalapaaapp\n",
      "dividing  200113plc1p2 176 ABalpaappp ABalpaapppa ABalpaapppp\n",
      "dividing  200113plc1p2 176 ABalpapapp ABalpapappa ABalpapappp\n",
      "dividing  200113plc1p2 176 ABalppapaa ABalppapaaa ABalppapaap\n",
      "dividing  200113plc1p2 176 ABalppapap ABalppapapa ABalppapapp\n",
      "dividing  200113plc1p2 176 ABplpaappa ABplpaappaa ABplpaappap\n",
      "dividing  200113plc1p2 176 ABplpapapp ABplpapappa ABplpapappp\n",
      "dividing  200113plc1p2 176 ABplpapppa ABplpapppaa ABplpapppap\n",
      "dividing  200113plc1p2 176 ABplppppaa ABplppppaaa ABplppppaap\n",
      "dividing  200113plc1p2 176 ABprapaaap ABprapaaapa ABprapaaapp\n",
      "dividing  200113plc1p2 176 ABprpapppp ABprpappppa ABprpappppp\n",
      "dividing  200113plc1p2 176 ABprppaaaa ABprppaaaaa ABprppaaaap\n",
      "dividing  200113plc1p2 176 ABprppapaa ABprppapaaa ABprppapaap\n"
     ]
    },
    {
     "name": "stderr",
     "output_type": "stream",
     "text": [
      "\r",
      "generating 200113plc1p2 nucloc file:  94%|███████████████████▊ | 176/187 [01:00<00:10,  1.07it/s]"
     ]
    },
    {
     "name": "stdout",
     "output_type": "stream",
     "text": [
      "dividing  200113plc1p2 177 ABaraapaaa ABaraapaaaa ABaraapaaap\n",
      "dividing  200113plc1p2 177 ABarapppap ABarapppapa ABarapppapp\n",
      "dividing  200113plc1p2 177 ABplpapppa ABplpapppaa ABplpapppap\n",
      "dividing  200113plc1p2 177 ABplpapppp ABplpappppa ABplpappppp\n",
      "dividing  200113plc1p2 177 ABplpppaaa ABplpppaaaa ABplpppaaap\n",
      "dividing  200113plc1p2 177 ABprpppppp ABprppppppa ABprppppppp\n"
     ]
    },
    {
     "name": "stderr",
     "output_type": "stream",
     "text": [
      "\r",
      "generating 200113plc1p2 nucloc file:  95%|███████████████████▉ | 177/187 [01:01<00:09,  1.05it/s]"
     ]
    },
    {
     "name": "stdout",
     "output_type": "stream",
     "text": [
      "dividing  200113plc1p2 178 ABalppaapp ABalppaappa ABalppaappp\n",
      "dividing  200113plc1p2 178 ABarapaaaa ABarapaaaaa ABarapaaaap\n",
      "dividing  200113plc1p2 178 ABplapaaaa ABplapaaaaa ABplapaaaap\n",
      "dividing  200113plc1p2 178 ABplpaapaa ABplpaapaaa ABplpaapaap\n",
      "dividing  200113plc1p2 178 ABplpaapap ABplpaapapa ABplpaapapp\n",
      "dividing  200113plc1p2 178 ABplpapaap ABplpapaapa ABplpapaapp\n",
      "dividing  200113plc1p2 178 ABplpapppp ABplpappppa ABplpappppp\n",
      "dividing  200113plc1p2 178 ABplpppaap ABplpppaapa ABplpppaapp\n",
      "dividing  200113plc1p2 178 ABprpaaaaa ABprpaaaaaa ABprpaaaaap\n",
      "dividing  200113plc1p2 178 ABprpaapap ABprpaapapa ABprpaapapp\n",
      "dividing  200113plc1p2 178 ABprpapaaa ABprpapaaaa ABprpapaaap\n"
     ]
    },
    {
     "name": "stderr",
     "output_type": "stream",
     "text": [
      "\r",
      "generating 200113plc1p2 nucloc file:  95%|███████████████████▉ | 178/187 [01:02<00:08,  1.03it/s]"
     ]
    },
    {
     "name": "stdout",
     "output_type": "stream",
     "text": [
      "dividing  200113plc1p2 179 ABaraaappp ABaraaapppa ABaraaapppp\n",
      "dividing  200113plc1p2 179 ABplpapaaa ABplpapaaaa ABplpapaaap\n",
      "dividing  200113plc1p2 179 ABplpapppp ABplpappppa ABplpappppp\n",
      "dividing  200113plc1p2 179 ABplpppppp ABplppppppa ABplppppppp\n",
      "dividing  200113plc1p2 179 ABprpaapap ABprpaapapa ABprpaapapp\n",
      "dividing  200113plc1p2 179 ABprpapapp ABprpapappa ABprpapappp\n",
      "dividing  200113plc1p2 179 ABprpapppa ABprpapppaa ABprpapppap\n",
      "dividing  200113plc1p2 179 ABprpppaap ABprpppaapa ABprpppaapp\n",
      "dividing  200113plc1p2 179 MSaapapp MSaapappa MSaapappp\n",
      "dividing  200113plc1p2 179 MSpapapp MSpapappa MSpapappp\n"
     ]
    },
    {
     "name": "stderr",
     "output_type": "stream",
     "text": [
      "\r",
      "generating 200113plc1p2 nucloc file:  96%|████████████████████ | 179/187 [01:04<00:07,  1.01it/s]"
     ]
    },
    {
     "name": "stdout",
     "output_type": "stream",
     "text": [
      "dividing  200113plc1p2 180 ABalaaaarr ABalaaaarra ABalaaaarrp\n",
      "dividing  200113plc1p2 180 ABalaaapar ABalaaaparl ABalaaaparr\n",
      "dividing  200113plc1p2 180 ABalpaaaaa ABalpaaaaaa ABalpaaaaap\n",
      "dividing  200113plc1p2 180 ABplaapaaa ABplaapaaaa ABplaapaaap\n",
      "dividing  200113plc1p2 180 ABplapppap ABplapppapa ABplapppapp\n",
      "dividing  200113plc1p2 180 ABpraaaapa ABpraaaapad ABpraaaapav\n",
      "dividing  200113plc1p2 180 ABprpaapap ABprpaapapa ABprpaapapp\n",
      "dividing  200113plc1p2 180 ABprpppaap ABprpppaapa ABprpppaapp\n",
      "dividing  200113plc1p2 180 MSaaaapp MSaaaappa MSaaaappp\n"
     ]
    },
    {
     "name": "stderr",
     "output_type": "stream",
     "text": [
      "\r",
      "generating 200113plc1p2 nucloc file:  96%|████████████████████▏| 180/187 [01:05<00:07,  1.02s/it]"
     ]
    },
    {
     "name": "stdout",
     "output_type": "stream",
     "text": [
      "dividing  200113plc1p2 180 Caapa Caapaa Caapap\n",
      "dividing  200113plc1p2 181 ABalaaaarr ABalaaaarra ABalaaaarrp\n",
      "dividing  200113plc1p2 181 ABalaaappl ABalaaappll ABalaaapplr\n",
      "dividing  200113plc1p2 181 ABalpaappa ABalpaappaa ABalpaappap\n",
      "dividing  200113plc1p2 181 ABalppaaap ABalppaaapa ABalppaaapp\n",
      "dividing  200113plc1p2 181 ABaraappaa ABaraappaaa ABaraappaap\n",
      "dividing  200113plc1p2 181 ABprapppap ABprapppapa ABprapppapp\n"
     ]
    },
    {
     "name": "stderr",
     "output_type": "stream",
     "text": [
      "\r",
      "generating 200113plc1p2 nucloc file:  97%|████████████████████▎| 181/187 [01:06<00:06,  1.03s/it]"
     ]
    },
    {
     "name": "stdout",
     "output_type": "stream",
     "text": [
      "dividing  200113plc1p2 182 ABalaaaarr ABalaaaarra ABalaaaarrp\n",
      "dividing  200113plc1p2 182 ABalpapaap ABalpapaapa ABalpapaapp\n",
      "dividing  200113plc1p2 182 ABaraapapp ABaraapappa ABaraapappp\n",
      "dividing  200113plc1p2 182 ABarappaaa ABarappaaaa ABarappaaap\n"
     ]
    },
    {
     "name": "stderr",
     "output_type": "stream",
     "text": [
      "\r",
      "generating 200113plc1p2 nucloc file:  97%|████████████████████▍| 182/187 [01:07<00:05,  1.05s/it]"
     ]
    },
    {
     "name": "stdout",
     "output_type": "stream",
     "text": [
      "dividing  200113plc1p2 182 Cpppaa Cpppaaa Cpppaap\n",
      "dividing  200113plc1p2 183 ABalaaaarl ABalaaaarla ABalaaaarlp\n",
      "dividing  200113plc1p2 183 ABalaaaarr ABalaaaarra ABalaaaarrp\n",
      "dividing  200113plc1p2 183 ABalpaaaap ABalpaaaapa ABalpaaaapp\n",
      "dividing  200113plc1p2 183 ABplpppppa ABplpppppaa ABplpppppap\n",
      "dividing  200113plc1p2 183 ABpraapaaa ABpraapaaaa ABpraapaaap\n",
      "dividing  200113plc1p2 183 ABprapaaaa ABprapaaaaa ABprapaaaap\n",
      "dividing  200113plc1p2 183 MSpaaapa MSpaaapaa MSpaaapap\n",
      "dividing  200113plc1p2 183 Cpppaa Cpppaaa Cpppaap\n"
     ]
    },
    {
     "name": "stderr",
     "output_type": "stream",
     "text": [
      "\r",
      "generating 200113plc1p2 nucloc file:  98%|████████████████████▌| 183/187 [01:08<00:04,  1.06s/it]"
     ]
    },
    {
     "name": "stdout",
     "output_type": "stream",
     "text": [
      "dividing  200113plc1p2 184 ABarappaap ABarappaapa ABarappaapp\n",
      "dividing  200113plc1p2 184 ABplppapap ABplppapapa ABplppapapp\n",
      "dividing  200113plc1p2 184 ABplppappa ABplppappaa ABplppappap\n",
      "dividing  200113plc1p2 184 ABplpppppa ABplpppppaa ABplpppppap\n",
      "dividing  200113plc1p2 184 ABprapappp ABprapapppa ABprapapppp\n",
      "dividing  200113plc1p2 184 ABprpaapaa ABprpaapaaa ABprpaapaap\n",
      "dividing  200113plc1p2 184 ABprppaapp ABprppaappa ABprppaappp\n"
     ]
    },
    {
     "name": "stderr",
     "output_type": "stream",
     "text": [
      "\r",
      "generating 200113plc1p2 nucloc file:  98%|████████████████████▋| 184/187 [01:09<00:03,  1.08s/it]"
     ]
    },
    {
     "name": "stdout",
     "output_type": "stream",
     "text": [
      "dividing  200113plc1p2 185 ABarpapaaa ABarpapaaaa ABarpapaaap\n",
      "dividing  200113plc1p2 185 ABprpppppa ABprpppppaa ABprpppppap\n"
     ]
    },
    {
     "name": "stderr",
     "output_type": "stream",
     "text": [
      "\r",
      "generating 200113plc1p2 nucloc file:  99%|████████████████████▊| 185/187 [01:10<00:02,  1.08s/it]"
     ]
    },
    {
     "name": "stdout",
     "output_type": "stream",
     "text": [
      "dividing  200113plc1p2 186 ABalpapppa ABalpapppaa ABalpapppap\n",
      "dividing  200113plc1p2 186 ABplaaaaaa ABplaaaaaaa ABplaaaaaap\n"
     ]
    },
    {
     "name": "stderr",
     "output_type": "stream",
     "text": [
      "\r",
      "generating 200113plc1p2 nucloc file:  99%|████████████████████▉| 186/187 [01:11<00:01,  1.10s/it]"
     ]
    },
    {
     "name": "stdout",
     "output_type": "stream",
     "text": [
      "dividing  200113plc1p2 186 Cappaa Cappaaa Cappaap\n",
      "dividing  200113plc1p2 187 ABalaapaap ABalaapaapa ABalaapaapp\n",
      "dividing  200113plc1p2 187 ABarpaaaap ABarpaaaapa ABarpaaaapp\n",
      "dividing  200113plc1p2 187 ABprppaapa ABprppaapaa ABprppaapap\n"
     ]
    },
    {
     "name": "stderr",
     "output_type": "stream",
     "text": [
      "generating 200113plc1p2 nucloc file: 100%|█████████████████████| 187/187 [01:12<00:00,  2.57it/s]"
     ]
    },
    {
     "name": "stdout",
     "output_type": "stream",
     "text": [
      "dividing  200113plc1p2 187 Cppppa Cppppaa Cppppap\n"
     ]
    },
    {
     "name": "stderr",
     "output_type": "stream",
     "text": [
      "\n"
     ]
    }
   ],
   "source": [
    "import io\n",
    "\n",
    "from utils.data_structure import construct_celltree\n",
    "\n",
    "max_times = [180, 187]\n",
    "embryo_names = ['200109plc1p1', '200113plc1p2']\n",
    "\n",
    "number_dictionary_path = os.path.join('./dataset', 'name_dictionary.csv')\n",
    "pd_name_dict = pd.read_csv(number_dictionary_path, index_col=0, header=0)\n",
    "label_name = pd_name_dict.to_dict()['0']\n",
    "name_label = pd.Series(pd_name_dict.index, index=pd_name_dict['0']).to_dict()\n",
    "\n",
    "# ----really important, ({raw image x}/{3D volume x}*{xy_resolution})-----------\n",
    "volume_coefficient = ((512 / 256) * 0.09) ** 3\n",
    "surface_coefficient = ((512 / 256) * 0.09) ** 2\n",
    "\n",
    "for idx, embryo_name in enumerate(embryo_names):\n",
    "    # ---------------------read cd file---------------------------------\n",
    "    cd_file_path = os.path.join('./dataset/run/CDFiles','CD{}.csv'.format(embryo_name))\n",
    "    cd_file_all_dict = {}\n",
    "    with io.open(cd_file_path, mode=\"r\", encoding=\"utf-8\") as f:\n",
    "        # next(f)\n",
    "        next(f)\n",
    "        for line in f:\n",
    "            info_list = line.split(',')\n",
    "            [cellname_, tp_] = info_list[0].split(':')\n",
    "            cd_file_all_dict[(cellname_, tp_)] = info_list[1:]\n",
    "    print('constructing cell tree for ', embryo_name)\n",
    "    cell_tree,_=construct_celltree(cd_file_path,max_time=max_times[idx])\n",
    "    # ---------------------------------------------------------------\n",
    "    for tp in tqdm(range(1, max_times[idx] + 1), desc='generating {} nucloc file'.format(embryo_name)):\n",
    "        cd_dict_this = {}\n",
    "        no_repeat_record_list=[]\n",
    "        for (cell_name_tem, tp_tem), values_tem in cd_file_all_dict.items():\n",
    "            # print(type(tp_tem),type(tp))\n",
    "            if str(tp) == tp_tem:\n",
    "                cd_dict_this[cell_name_tem] = values_tem\n",
    "\n",
    "        path_tmp = os.path.join(stat_data_path,embryo_name)\n",
    "        # read the cell volume pkl file \n",
    "        with open(os.path.join(path_tmp, '{}_{}_segCell_volume.txt'.format(embryo_name, str(tp).zfill(3))),\n",
    "                  'rb') as handle:\n",
    "            volume_dict = pickle.load(handle)\n",
    "        # read the cell surface area pkl file\n",
    "        with open(os.path.join(path_tmp, '{}_{}_segCell_surface.txt'.format(embryo_name, str(tp).zfill(3))),\n",
    "                  'rb') as handle:\n",
    "            surface_dict = pickle.load(handle)\n",
    "        # x y z is the size of the 3D volume, designed by you\n",
    "        df_nucLoc = pd.DataFrame(\n",
    "            columns=['nucleus_label','nucleus_name','x_256','y_356','z_214','volume','surface','note'])\n",
    "        for cell_name_, zxy_pos in cd_dict_this.items():\n",
    "            cell_label_ = name_label[cell_name_]\n",
    "#             print(zxy_pos)\n",
    "            if cell_label_ in volume_dict.keys():\n",
    "                y = int(float(zxy_pos[8]) / 712 * 356)# labelled as X in cd file\n",
    "                x = int(float(zxy_pos[9]) / 512 * 256)# labelled as Y in cd file\n",
    "                z = 214 - int(float(zxy_pos[7]) / 92 * 214)\n",
    "\n",
    "                df_nucLoc.loc[len(df_nucLoc.index)] = [cell_label_, cell_name_, x, y, z,\n",
    "                                                       volume_dict[cell_label_]*volume_coefficient, surface_dict[cell_label_]*surface_coefficient, None]\n",
    "                continue\n",
    "            # -------------deal with dividing or lost cellsssssssssssssss----------------------------\n",
    "            cell_mother_node = cell_tree.parent(cell_name_)\n",
    "            cell_mother_name_=cell_mother_node.tag\n",
    "            cell_mother_label_ = name_label.get(cell_mother_name_, None)\n",
    "            if cell_mother_label_ in volume_dict.keys() and cell_mother_label_ not in no_repeat_record_list:\n",
    "                no_repeat_record_list.append(cell_mother_label_)\n",
    "\n",
    "                children_list=cell_tree.children(cell_mother_name_)\n",
    "                daughter_cell1=children_list[0].tag\n",
    "                daughter_cell2=children_list[1].tag\n",
    "                print('dividing ', embryo_name, tp, cell_mother_name_,daughter_cell1,daughter_cell2)\n",
    "\n",
    "                cell_label1=name_label[daughter_cell1]\n",
    "                cell_label2=name_label[daughter_cell2]\n",
    "\n",
    "                zxy_pos1 = cd_dict_this[daughter_cell1]\n",
    "                zxy_pos2 = cd_dict_this[daughter_cell2]\n",
    "                \n",
    "#                 print(zxy_pos1,zxy_pos2)\n",
    "\n",
    "                y1 = int(float(zxy_pos1[8]) / 712 * 356)# labelled as X in cd file\n",
    "                x1 = int(float(zxy_pos1[9]) / 512 * 256)# labelled as Y in cd file\n",
    "                z1 = 214 - int(float(zxy_pos1[7]) / 92 * 214)\n",
    "\n",
    "                y2 = int(float(zxy_pos2[8]) / 712 * 356)# labelled as X in cd file\n",
    "                x2 = int(float(zxy_pos2[9]) / 512 * 256)# labelled as Y in cd file\n",
    "                z2 = 214 - int(float(zxy_pos2[7]) / 92 * 214)\n",
    "\n",
    "                df_nucLoc.loc[len(df_nucLoc.index)] = [cell_mother_label_, cell_mother_name_, None, None, None,\n",
    "                                                       volume_dict[cell_mother_label_]*volume_coefficient,\n",
    "                                                       surface_dict[cell_mother_label_]*surface_coefficient, 'mother']\n",
    "                df_nucLoc.loc[len(df_nucLoc.index)] = [cell_label1, daughter_cell1, x1,y1, z1,None,None,\n",
    "                                                       'child of {}'.format(cell_mother_name_)]\n",
    "                df_nucLoc.loc[len(df_nucLoc.index)] = [cell_label2, daughter_cell2, x2,y2, z2,None,None,\n",
    "                                                       'child of {}'.format(cell_mother_name_)]\n",
    "            elif cell_mother_label_ not in no_repeat_record_list:\n",
    "                print('lost cell ', embryo_name, tp,cell_name_)\n",
    "                y = int(float(zxy_pos[8]) / 712 * 356)  # labelled as X in cd file\n",
    "                x = int(float(zxy_pos[9]) / 512 * 256)  # labelled as Y in cd file\n",
    "                z = 214 - int(float(zxy_pos[7]) / 92 * 214)\n",
    "\n",
    "                df_nucLoc.loc[len(df_nucLoc.index)] = [cell_label_, cell_name_, x, y, z,\n",
    "                                                       None, None, 'lost']\n",
    "\n",
    "        nucLoc_save_file_path = os.path.join(stat_data_path, 'NucLocFile', embryo_name,\n",
    "                                             '{}_{}_nucLoc.csv'.format(embryo_name,\n",
    "                                                                       str(tp).zfill(3)))\n",
    "        df_nucLoc.to_csv(nucLoc_save_file_path, index=False)"
   ]
  },
  {
   "cell_type": "markdown",
   "id": "3ee9bd8d",
   "metadata": {},
   "source": [
    "## After we get the nucleus location files, we can assemble all the statistical data at different time point in one csv file for generating visulized GUI Data. "
   ]
  },
  {
   "cell_type": "code",
   "execution_count": 16,
   "id": "890526cc",
   "metadata": {},
   "outputs": [
    {
     "name": "stderr",
     "output_type": "stream",
     "text": [
      "assembling volume and surface area of 200109plc1p1 result: 100%|█| 180/180 [00:05<00:00, 34.93it/\n",
      "assembling contact surface of 200109plc1p1 result: 100%|███████| 180/180 [39:02<00:00, 13.02s/it]\n"
     ]
    },
    {
     "name": "stdout",
     "output_type": "stream",
     "text": [
      "cell1         ABa                     ABp                                     \\\n",
      "cell2         ABp         EMS         EMS          P2       ABal        ABar   \n",
      "1      336.596099  352.110315  322.602121  291.183887   0.000000    0.000000   \n",
      "2      325.291772  319.678588  301.279821  266.158444        NaN         NaN   \n",
      "3      314.806033  281.945523  305.489708  241.171982        NaN         NaN   \n",
      "4             NaN         NaN  347.861447  258.752161  94.449606  211.546848   \n",
      "5             NaN         NaN         NaN         NaN        NaN         NaN   \n",
      "..            ...         ...         ...         ...        ...         ...   \n",
      "176           NaN         NaN         NaN         NaN        NaN         NaN   \n",
      "177           NaN         NaN         NaN         NaN        NaN         NaN   \n",
      "178           NaN         NaN         NaN         NaN        NaN         NaN   \n",
      "179           NaN         NaN         NaN         NaN        NaN         NaN   \n",
      "180           NaN         NaN         NaN         NaN        NaN         NaN   \n",
      "\n",
      "cell1         EMS                                      ...  MSpapaaaa  \\\n",
      "cell2          P2        ABal        ABar        ABpl  ...  MSpapappa   \n",
      "1      155.570936    0.000000    0.000000    0.000000  ...        NaN   \n",
      "2      168.317540    0.000000    0.000000    0.000000  ...        NaN   \n",
      "3      208.194530    0.000000    0.000000    0.000000  ...        NaN   \n",
      "4      212.053594  180.284535  123.762897    0.000000  ...        NaN   \n",
      "5      178.647357  199.462911  129.687924  192.056628  ...        NaN   \n",
      "..            ...         ...         ...         ...  ...        ...   \n",
      "176           NaN         NaN         NaN         NaN  ...   3.898044   \n",
      "177           NaN         NaN         NaN         NaN  ...  11.382288   \n",
      "178           NaN         NaN         NaN         NaN  ...   0.000000   \n",
      "179           NaN         NaN         NaN         NaN  ...   0.000000   \n",
      "180           NaN         NaN         NaN         NaN  ...   0.000000   \n",
      "\n",
      "cell1 MSpapaaap                                 MSpapaapa           MSpapaapp  \\\n",
      "cell2 MSpapaapa MSpapaapp  MSpapappa MSpapappp  MSpapaapp MSpapappa MSpapappa   \n",
      "1           NaN       NaN        NaN       NaN        NaN       NaN       NaN   \n",
      "2           NaN       NaN        NaN       NaN        NaN       NaN       NaN   \n",
      "3           NaN       NaN        NaN       NaN        NaN       NaN       NaN   \n",
      "4           NaN       NaN        NaN       NaN        NaN       NaN       NaN   \n",
      "5           NaN       NaN        NaN       NaN        NaN       NaN       NaN   \n",
      "..          ...       ...        ...       ...        ...       ...       ...   \n",
      "176    0.000000  0.000000  17.473517  0.000000  13.487232  2.533729  4.326829   \n",
      "177    0.000000  0.000000   5.145418  0.000000  16.722609  5.184399  3.547220   \n",
      "178    2.806592  0.000000  17.373479  0.000000  17.502218  1.949022  4.482751   \n",
      "179    3.976005  3.937024  15.392596  4.716633  16.371785  0.000000  0.000000   \n",
      "180    1.598198  0.000000  16.917511  0.000000  18.164885  1.169413  3.937024   \n",
      "\n",
      "cell1            MSpapappa  \n",
      "cell2 MSpapappp  MSpapappp  \n",
      "1           NaN        NaN  \n",
      "2           NaN        NaN  \n",
      "3           NaN        NaN  \n",
      "4           NaN        NaN  \n",
      "5           NaN        NaN  \n",
      "..          ...        ...  \n",
      "176    0.000000   2.923533  \n",
      "177    0.000000   7.601186  \n",
      "178    0.701648  11.616171  \n",
      "179    1.598198   4.950516  \n",
      "180    0.000000   8.926521  \n",
      "\n",
      "[180 rows x 15175 columns]\n"
     ]
    },
    {
     "name": "stderr",
     "output_type": "stream",
     "text": [
      "assembling volume and surface area of 200113plc1p2 result: 100%|█| 187/187 [00:04<00:00, 41.79it/\n",
      "assembling contact surface of 200113plc1p2 result: 100%|███████| 187/187 [41:04<00:00, 13.18s/it]\n"
     ]
    },
    {
     "name": "stdout",
     "output_type": "stream",
     "text": [
      "cell1          AB          P1                     ABa       ABp            \\\n",
      "cell2          P1         ABa         ABp         ABp  EMS  EMS   P2 ABal   \n",
      "1      436.970732    0.000000    0.000000         NaN  NaN  NaN  NaN  NaN   \n",
      "2      382.593019    0.000000    0.000000    0.000000  0.0  0.0  0.0  0.0   \n",
      "3      426.718877    0.000000    0.000000    0.000000  0.0  0.0  0.0  0.0   \n",
      "4             NaN  215.172029  264.248403  253.411840  0.0  0.0  0.0  0.0   \n",
      "5             NaN  266.548249  396.080251  214.704264  0.0  0.0  0.0  0.0   \n",
      "..            ...         ...         ...         ...  ...  ...  ...  ...   \n",
      "183           NaN         NaN         NaN         NaN  NaN  NaN  NaN  NaN   \n",
      "184           NaN         NaN         NaN         NaN  NaN  NaN  NaN  NaN   \n",
      "185           NaN         NaN         NaN         NaN  NaN  NaN  NaN  NaN   \n",
      "186           NaN         NaN         NaN         NaN  NaN  NaN  NaN  NaN   \n",
      "187           NaN         NaN         NaN         NaN  NaN  NaN  NaN  NaN   \n",
      "\n",
      "cell1       EMS  ...  MSpapaaaa                     MSpapaaap            \\\n",
      "cell2 ABar   P2  ...  MSpapaaap MSpapaapa MSpapappa MSpapaapa MSpapaapp   \n",
      "1      NaN  NaN  ...        NaN       NaN       NaN       NaN       NaN   \n",
      "2      0.0  NaN  ...        NaN       NaN       NaN       NaN       NaN   \n",
      "3      0.0  NaN  ...        NaN       NaN       NaN       NaN       NaN   \n",
      "4      0.0  NaN  ...        NaN       NaN       NaN       NaN       NaN   \n",
      "5      0.0  0.0  ...        NaN       NaN       NaN       NaN       NaN   \n",
      "..     ...  ...  ...        ...       ...       ...       ...       ...   \n",
      "183    NaN  NaN  ...  12.395780  0.000000  0.000000  7.687322  1.520237   \n",
      "184    NaN  NaN  ...  12.083936  0.000000  0.000000  7.129781  1.286355   \n",
      "185    NaN  NaN  ...  12.083936  1.520237  0.000000  7.506313  0.000000   \n",
      "186    NaN  NaN  ...  14.305821  2.611689  1.286355  8.380795  0.000000   \n",
      "187    NaN  NaN  ...  14.929509  0.974511  2.260866  8.621396  0.000000   \n",
      "\n",
      "cell1             MSpapaapa MSpapaapp            MSpapappa  \n",
      "cell2  MSpapappa  MSpapaapp MSpapappa MSpapappp  MSpapappp  \n",
      "1            NaN        NaN       NaN       NaN        NaN  \n",
      "2            NaN        NaN       NaN       NaN        NaN  \n",
      "3            NaN        NaN       NaN       NaN        NaN  \n",
      "4            NaN        NaN       NaN       NaN        NaN  \n",
      "5            NaN        NaN       NaN       NaN        NaN  \n",
      "..           ...        ...       ...       ...        ...  \n",
      "183    12.580487  17.034452  4.482751  0.623687   6.275851  \n",
      "184    13.919883  17.073433  4.599692  0.974511   9.901032  \n",
      "185    13.604174  16.761589  0.000000  0.000000   9.901032  \n",
      "186    13.565193  16.059941  0.000000  0.000000   9.901032  \n",
      "187    13.526213  17.151394  0.000000  0.000000  10.134914  \n",
      "\n",
      "[187 rows x 14937 columns]\n"
     ]
    }
   ],
   "source": [
    "from treelib import Tree\n",
    "\n",
    "vol_coefficient = ((512 / 256) * 0.09) ** 3\n",
    "sur_coefficient = ((512 / 256) * 0.09) ** 2\n",
    "\n",
    "# remember to adjust your parameters here, and create the dirtectory ./middle_output/statistics/{embryo name}\n",
    "\n",
    "for idx, embryo_name in enumerate(embryo_names):\n",
    "    cd_file_path = os.path.join('dataset/run/CDFiles', 'CD{}.csv'.format(embryo_name))\n",
    "    cell_tree, max_time = construct_celltree(cd_file_path, max_times[idx])\n",
    "\n",
    "    # ------------surface-------------and-----------volume-----------------------\n",
    "    all_names = [cname for cname in cell_tree.expand_tree(mode=Tree.WIDTH)]\n",
    "    # for idx, cell_name in enumerate(all_names):\n",
    "    volume_embryo = pd.DataFrame(\n",
    "        np.full(shape=(max_time, len(all_names)), fill_value=np.nan, dtype=np.float32),\n",
    "        index=range(1, max_time + 1), columns=all_names)\n",
    "\n",
    "    surface_embryo = pd.DataFrame(\n",
    "        np.full(shape=(max_time, len(all_names)), fill_value=np.nan, dtype=np.float32),\n",
    "        index=range(1, max_time + 1), columns=all_names)\n",
    "\n",
    "    for tp in tqdm(range(1, max_time + 1),\n",
    "                   desc='assembling volume and surface area of {} result'.format(embryo_name)):\n",
    "        path_tmp = os.path.join(stat_data_path, embryo_name)\n",
    "        with open(os.path.join(path_tmp, '{}_{}_segCell_volume.txt'.format(embryo_name, str(tp).zfill(3))),\n",
    "                  'rb') as handle:\n",
    "            volume_dict = pickle.load(handle)\n",
    "        with open(os.path.join(path_tmp, '{}_{}_segCell_surface.txt'.format(embryo_name, str(tp).zfill(3))),\n",
    "                  'rb') as handle:\n",
    "            surface_dict = pickle.load(handle)\n",
    "\n",
    "        for cell_label_, vol_value in volume_dict.items():\n",
    "            cell_name_ = label_name[cell_label_]\n",
    "            volume_embryo.loc[tp, cell_name_] = vol_value * vol_coefficient\n",
    "\n",
    "        for cell_label_, sur_value in surface_dict.items():\n",
    "            cell_name_ = label_name[cell_label_]\n",
    "            surface_embryo.loc[tp, cell_name_] = sur_value * sur_coefficient\n",
    "\n",
    "    volume_embryo = volume_embryo.loc[:, ((volume_embryo != 0) & (~np.isnan(volume_embryo))).any(axis=0)]\n",
    "    volume_embryo.to_csv(os.path.join(stat_data_path, 'statistics', embryo_name, embryo_name + '_volume.csv'))\n",
    "    surface_embryo = surface_embryo.loc[:, ((surface_embryo != 0) & (~np.isnan(surface_embryo))).any(axis=0)]\n",
    "    surface_embryo.to_csv(os.path.join(stat_data_path, 'statistics', embryo_name, embryo_name + '_surface.csv'))\n",
    "\n",
    "    # ------------contact-----------initialize the contact csv  file----------------------\n",
    "    # Get tuble lists with elements from the list\n",
    "\n",
    "    name_combination = []\n",
    "    first_level_names = []\n",
    "    for i, name1 in enumerate(all_names):\n",
    "        for name2 in all_names[i + 1:]:\n",
    "            if not (cell_tree.is_ancestor(name1, name2) or cell_tree.is_ancestor(name2, name1)):\n",
    "                first_level_names.append(name1)\n",
    "                name_combination.append((name1, name2))\n",
    "\n",
    "    multi_index = pd.MultiIndex.from_tuples(name_combination, names=['cell1', 'cell2'])\n",
    "    # print(multi_index)\n",
    "    stat_embryo = pd.DataFrame(\n",
    "        np.full(shape=(max_time, len(name_combination)), fill_value=np.nan, dtype=np.float32),\n",
    "        index=range(1, max_time + 1), columns=multi_index)\n",
    "    # set zero element to express the exist of the specific nucleus\n",
    "    for cell_name in all_names:\n",
    "        if cell_name not in first_level_names:\n",
    "            continue\n",
    "        try:\n",
    "            cell_time = cell_tree.get_node(cell_name).data.get_time()\n",
    "            cell_time = [x for x in cell_time if x <= max_time]\n",
    "            stat_embryo.loc[cell_time, (cell_name, slice(None))] = 0\n",
    "        except:\n",
    "            cell_name\n",
    "    # print(stat_embryo)\n",
    "    # edges_view = point_embryo.edges(data=True)\n",
    "    for tp in tqdm(range(1, max_times[idx] + 1),\n",
    "                   desc='assembling contact surface of {} result'.format(embryo_name)):\n",
    "        path_tmp = os.path.join(stat_data_path, embryo_name)\n",
    "        with open(os.path.join(path_tmp, '{}_{}_segCell_contact.txt'.format(embryo_name, str(tp).zfill(3))),\n",
    "                  'rb') as handle:\n",
    "            contact_dict = pickle.load(handle)\n",
    "        for contact_sur_idx, contact_sur_value in contact_dict.items():\n",
    "            [cell1, cell2] = contact_sur_idx.split('_')\n",
    "            cell1_name = label_name[int(cell1)]\n",
    "            cell2_name = label_name[int(cell2)]\n",
    "            if (cell1_name, cell2_name) in stat_embryo.columns:\n",
    "                stat_embryo.loc[tp, (cell1_name, cell2_name)] = contact_sur_value * sur_coefficient\n",
    "            elif (cell2_name, cell1_name) in stat_embryo.columns:\n",
    "                stat_embryo.loc[tp, (cell2_name, cell1_name)] = contact_sur_value * sur_coefficient\n",
    "            else:\n",
    "                pass\n",
    "                # print('columns missing (cell1_name, cell2_name)')\n",
    "    stat_embryo = stat_embryo.loc[:, ((stat_embryo != 0) & (~np.isnan(stat_embryo))).any(axis=0)]\n",
    "    print(stat_embryo)\n",
    "    stat_embryo.to_csv(os.path.join(stat_data_path, 'statistics', embryo_name, embryo_name + '_contact.csv'))\n",
    "    # --------------------------------------------------------------------------------------------"
   ]
  },
  {
   "cell_type": "code",
   "execution_count": null,
   "id": "ed669b46",
   "metadata": {},
   "outputs": [],
   "source": []
  }
 ],
 "metadata": {
  "kernelspec": {
   "display_name": "cmap",
   "language": "python",
   "name": "cmap"
  },
  "language_info": {
   "codemirror_mode": {
    "name": "ipython",
    "version": 3
   },
   "file_extension": ".py",
   "mimetype": "text/x-python",
   "name": "python",
   "nbconvert_exporter": "python",
   "pygments_lexer": "ipython3",
   "version": "3.9.17"
  }
 },
 "nbformat": 4,
 "nbformat_minor": 5
}
